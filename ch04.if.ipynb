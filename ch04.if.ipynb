{
 "cells": [
  {
   "cell_type": "markdown",
   "id": "b167b684",
   "metadata": {},
   "source": [
    "### IF 조건문"
   ]
  },
  {
   "cell_type": "markdown",
   "id": "084521f3",
   "metadata": {},
   "source": [
    "#### 코드 짜는 팁\n",
    "- 주석 달기\n",
    "    - '#' hash, sharp, ..\n",
    "    - '#' 시작지점부터 라인 끝까지가 주석 처리됨. 라인이 바뀌면 코드로 인식함\n",
    "    - \"\"\" \"\"\" : 긴 주석\n",
    "    - 문자열 안에 있는 sharp는 부호로 인식한다.\n",
    "    - 코드에 대한 설명은 최대한 하지 않는다. 코드만 봐도 의미 전달이 되어야 한다.\n",
    "    - 주석을 다는 이유는 의도를 나타내거나, 오류가 있거나,...(의미 외의 전달사항)\n",
    "\n",
    "- 라인 유지하기\n",
    "    - 들여쓰기 (default : space 4개, 탭을 이용하기)\n",
    "    - 논리 구조를 나타내기 때문에 굉장히 중요함 !\n",
    "    - 한 라인에 80자 정도 (백슬래시 \\로 라인을 끊어준다)"
   ]
  },
  {
   "cell_type": "code",
   "execution_count": 1,
   "id": "7c16598b",
   "metadata": {},
   "outputs": [
    {
     "name": "stdout",
     "output_type": "stream",
     "text": [
      "3\n"
     ]
    }
   ],
   "source": [
    "a = 3 # 주석입니다\n",
    "\"\"\"\n",
    "주석1\n",
    "주석2\n",
    "주석3\n",
    "\"\"\"\n",
    "print(a)"
   ]
  },
  {
   "cell_type": "code",
   "execution_count": 2,
   "id": "d2c0c5d9",
   "metadata": {},
   "outputs": [
    {
     "name": "stdout",
     "output_type": "stream",
     "text": [
      "hey, there #\n"
     ]
    }
   ],
   "source": [
    "print('hey, there #')"
   ]
  },
  {
   "cell_type": "markdown",
   "id": "9aefad43",
   "metadata": {},
   "source": [
    "### if\n",
    "if <조건식>:\n",
    "    <실행할 코드>"
   ]
  },
  {
   "cell_type": "code",
   "execution_count": 4,
   "id": "ab209d3b",
   "metadata": {},
   "outputs": [],
   "source": [
    "if 3 == 1:\n",
    "    print(\"두 수는 같다\")  #False라 아무것도 출력되지 X"
   ]
  },
  {
   "cell_type": "code",
   "execution_count": 5,
   "id": "c72b6343",
   "metadata": {},
   "outputs": [
    {
     "name": "stdout",
     "output_type": "stream",
     "text": [
      "두 수는 같지 않다\n"
     ]
    }
   ],
   "source": [
    "if 3 != 1:\n",
    "    print(\"두 수는 같지 않다\")"
   ]
  },
  {
   "cell_type": "markdown",
   "id": "9edf7d02",
   "metadata": {},
   "source": [
    "- if - else\n",
    "if <조건식>:\n",
    "    <실행할 코드>\n",
    "else:\n",
    "    <실행할 코드2>"
   ]
  },
  {
   "cell_type": "code",
   "execution_count": 6,
   "id": "b48414df",
   "metadata": {},
   "outputs": [
    {
     "name": "stdout",
     "output_type": "stream",
     "text": [
      "두 수는 같지 않다\n"
     ]
    }
   ],
   "source": [
    "if 3 != 1:\n",
    "    print(\"두 수는 같지 않다\")\n",
    "else:\n",
    "    print(\"두 수가 같다\")"
   ]
  },
  {
   "cell_type": "markdown",
   "id": "996a7592",
   "metadata": {},
   "source": [
    "- if-elif-else\n",
    "if <조건식1>:\n",
    "    <실행할 코드1>\n",
    "elif <조건식2>:\n",
    "    <실행할 코드2>\n",
    "else :\n",
    "    <실행할 코드3>"
   ]
  },
  {
   "cell_type": "code",
   "execution_count": 8,
   "id": "122d75f4",
   "metadata": {},
   "outputs": [
    {
     "name": "stdout",
     "output_type": "stream",
     "text": [
      "3보다 크다\n"
     ]
    }
   ],
   "source": [
    "a = 4\n",
    "if a < 3:\n",
    "    print(\"3보다 작다\")\n",
    "elif a == 3:\n",
    "    print(\"3이다\")\n",
    "else:\n",
    "    print(\"3보다 크다\")"
   ]
  },
  {
   "cell_type": "code",
   "execution_count": 12,
   "id": "e3c424c2",
   "metadata": {},
   "outputs": [],
   "source": [
    "if a < 3:\n",
    "    print(\"3보다 작다\")\n",
    "if a == 3:\n",
    "    print(\"3이다\")\n",
    "if a > 4:\n",
    "    print(\"3보다 크다\")    #실행 시 아무것도 출력 X  #if로만 이뤄져 있어서 새로 판별"
   ]
  },
  {
   "cell_type": "markdown",
   "id": "8688ad66",
   "metadata": {},
   "source": [
    "### 비교연산자\n",
    "- x < y\n",
    "- x > y\n",
    "- x >= y\n",
    "- x<= y\n",
    "- x == y (값이)\n",
    "- x != y\n",
    "- x is y (값, 메모리주소)\n",
    "- x is not y\n",
    "    "
   ]
  },
  {
   "cell_type": "markdown",
   "id": "724cac4a",
   "metadata": {},
   "source": [
    "### Quiz 4.\n",
    "- 1. 시험 점수를 입력 받고, 80점 이상이면 True, 아니면 False로 반환하기\n",
    "- 2. 시험 점수를 입력 받고, 95이상 A+, 90이상 A, 85이상 B+, 나머지 F로 출력하기"
   ]
  },
  {
   "cell_type": "code",
   "execution_count": 14,
   "id": "d9b5c38c",
   "metadata": {},
   "outputs": [
    {
     "name": "stdout",
     "output_type": "stream",
     "text": [
      "시험 점수를 입력하세요: 86\n",
      "True\n"
     ]
    }
   ],
   "source": [
    "score = int(input(\"시험 점수를 입력하세요: \"))\n",
    "\n",
    "if score >= 80:\n",
    "    print(\"True\")\n",
    "else:\n",
    "    print(\"False\")\n",
    "    "
   ]
  },
  {
   "cell_type": "code",
   "execution_count": null,
   "id": "be88d7df",
   "metadata": {},
   "outputs": [],
   "source": [
    "score = int(input(\"시험 점수를 입력하세요: \"))\n",
    "\n",
    "if score >= 95:\n",
    "    print(\"A+\")\n",
    "elif score >= 90:\n",
    "    print(\"A\")\n",
    "elif score >= 85:\n",
    "    print(\"B\")\n",
    "else:\n",
    "    print(\"F\")\n",
    "    \n"
   ]
  },
  {
   "cell_type": "code",
   "execution_count": null,
   "id": "659e8899",
   "metadata": {},
   "outputs": [],
   "source": []
  }
 ],
 "metadata": {
  "kernelspec": {
   "display_name": "Python 3",
   "language": "python",
   "name": "python3"
  },
  "language_info": {
   "codemirror_mode": {
    "name": "ipython",
    "version": 3
   },
   "file_extension": ".py",
   "mimetype": "text/x-python",
   "name": "python",
   "nbconvert_exporter": "python",
   "pygments_lexer": "ipython3",
   "version": "3.8.8"
  }
 },
 "nbformat": 4,
 "nbformat_minor": 5
}
