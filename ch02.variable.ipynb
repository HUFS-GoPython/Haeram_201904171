{
 "cells": [
  {
   "cell_type": "markdown",
   "id": "45ba6125",
   "metadata": {},
   "source": [
    "### Ch2. Variables\n",
    "\n",
    "- 자료형 변환하기\n",
    "    - int, str, float, bool"
   ]
  },
  {
   "cell_type": "code",
   "execution_count": 13,
   "id": "9b92717a",
   "metadata": {},
   "outputs": [
    {
     "data": {
      "text/plain": [
       "int"
      ]
     },
     "execution_count": 13,
     "metadata": {},
     "output_type": "execute_result"
    }
   ],
   "source": [
    "a = 10\n",
    "type(a)"
   ]
  },
  {
   "cell_type": "code",
   "execution_count": 15,
   "id": "2adafc10",
   "metadata": {},
   "outputs": [
    {
     "data": {
      "text/plain": [
       "10.0"
      ]
     },
     "execution_count": 15,
     "metadata": {},
     "output_type": "execute_result"
    }
   ],
   "source": [
    "# int => float\n",
    "float(a)"
   ]
  },
  {
   "cell_type": "code",
   "execution_count": 16,
   "id": "b80fce62",
   "metadata": {},
   "outputs": [
    {
     "data": {
      "text/plain": [
       "True"
      ]
     },
     "execution_count": 16,
     "metadata": {},
     "output_type": "execute_result"
    }
   ],
   "source": [
    "# int => bool\n",
    "bool(10)"
   ]
  },
  {
   "cell_type": "code",
   "execution_count": 17,
   "id": "bf6a35d5",
   "metadata": {},
   "outputs": [
    {
     "data": {
      "text/plain": [
       "10"
      ]
     },
     "execution_count": 17,
     "metadata": {},
     "output_type": "execute_result"
    }
   ],
   "source": [
    "# float => int  #정수로 변환시 소수점 이하 값 버림\n",
    "int(10.9)"
   ]
  },
  {
   "cell_type": "code",
   "execution_count": 12,
   "id": "f85c6728",
   "metadata": {},
   "outputs": [
    {
     "name": "stdout",
     "output_type": "stream",
     "text": [
      "12\n",
      "11\n"
     ]
    }
   ],
   "source": [
    "x = 4.6\n",
    "y = 7.9\n",
    "\n",
    "print(int(x + y)) #11.xx\n",
    "print(int(x) + int(y))  #4+7"
   ]
  },
  {
   "cell_type": "code",
   "execution_count": 5,
   "id": "7b3fa79e",
   "metadata": {},
   "outputs": [
    {
     "data": {
      "text/plain": [
       "88.3"
      ]
     },
     "execution_count": 5,
     "metadata": {},
     "output_type": "execute_result"
    }
   ],
   "source": [
    "# str -> int\n",
    "p = '88.3'   #나쁜 변수명\n",
    "#int(p)   #에러 나옴. 문자열을 정수형으로 바꿀 수 없음?\n",
    "float(p)  #실수형은 가능?"
   ]
  },
  {
   "cell_type": "markdown",
   "id": "dfbcbfe6",
   "metadata": {},
   "source": [
    "### 꿀팁 \n",
    "print()"
   ]
  },
  {
   "cell_type": "code",
   "execution_count": 7,
   "id": "61b2d340",
   "metadata": {},
   "outputs": [
    {
     "name": "stdout",
     "output_type": "stream",
     "text": [
      "orange apple tomato\n",
      "the next line\n"
     ]
    }
   ],
   "source": [
    "print('orange', 'apple', 'tomato')  #default : 띄어쓰기 저절로 되서 출력 됨\n",
    "print(\"the next line\")  #default : 줄바꾸기 저절로 됨"
   ]
  },
  {
   "cell_type": "code",
   "execution_count": 18,
   "id": "bbfea1d4",
   "metadata": {},
   "outputs": [
    {
     "name": "stdout",
     "output_type": "stream",
     "text": [
      "orangeappletomato\n",
      "orange apple tomato\n",
      "orange_apple_tomato\n",
      "\n",
      "EQL\n"
     ]
    }
   ],
   "source": [
    "orange = 'orange'\n",
    "apple = 'apple'\n",
    "tomato = 'tomato'\n",
    "\n",
    "#방법 1.\n",
    "print(orange + apple + tomato) #연결 가능하지만 공백 사라짐\n",
    "print(orange, apple, tomato, sep=' ', end='\\n')\n",
    "print(orange, apple, tomato, sep='_', end='\\n\\n')\n",
    "print('EQL')"
   ]
  },
  {
   "cell_type": "code",
   "execution_count": 19,
   "id": "2c99ff2b",
   "metadata": {},
   "outputs": [],
   "source": [
    "# 라인이 짧을 때 : 세미콜론(;) 사용해 줄 맞추기 \n",
    "orange = 'orange' ; apple = 'apple' ; tomato = 'tomato'"
   ]
  },
  {
   "cell_type": "code",
   "execution_count": 20,
   "id": "33fe853b",
   "metadata": {},
   "outputs": [
    {
     "name": "stdout",
     "output_type": "stream",
     "text": [
      "\n"
     ]
    }
   ],
   "source": [
    "num = 5 ; print(num)"
   ]
  }
 ],
 "metadata": {
  "kernelspec": {
   "display_name": "Python 3",
   "language": "python",
   "name": "python3"
  },
  "language_info": {
   "codemirror_mode": {
    "name": "ipython",
    "version": 3
   },
   "file_extension": ".py",
   "mimetype": "text/x-python",
   "name": "python",
   "nbconvert_exporter": "python",
   "pygments_lexer": "ipython3",
   "version": "3.8.8"
  }
 },
 "nbformat": 4,
 "nbformat_minor": 5
}
