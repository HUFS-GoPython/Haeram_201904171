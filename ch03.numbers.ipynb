{
 "cells": [
  {
   "cell_type": "markdown",
   "id": "c69e8a70",
   "metadata": {},
   "source": [
    "### Ch03.Numbers"
   ]
  },
  {
   "cell_type": "markdown",
   "id": "9d6a6c7c",
   "metadata": {},
   "source": [
    "### boolean\n",
    "- True / False\n",
    "- False인 값\n",
    "- if문 (조건식)에서 많이 씀 : \"만약 어떤 값이 True면, ...\""
   ]
  },
  {
   "cell_type": "code",
   "execution_count": 2,
   "id": "81687f7a",
   "metadata": {},
   "outputs": [
    {
     "data": {
      "text/plain": [
       "False"
      ]
     },
     "execution_count": 2,
     "metadata": {},
     "output_type": "execute_result"
    }
   ],
   "source": [
    "bool(0)"
   ]
  },
  {
   "cell_type": "code",
   "execution_count": 3,
   "id": "5c83e3df",
   "metadata": {},
   "outputs": [
    {
     "data": {
      "text/plain": [
       "False"
      ]
     },
     "execution_count": 3,
     "metadata": {},
     "output_type": "execute_result"
    }
   ],
   "source": [
    "bool(None)"
   ]
  },
  {
   "cell_type": "markdown",
   "id": "48d03c85",
   "metadata": {},
   "source": [
    "### integer\n",
    "- 분수나 소수가 아닌 정수\n",
    "- 음수는 '-' 기호를 붙인다 : i.e., -50\n",
    "- default = 양수\n",
    "- 숫자 앞에는 0을 쓰지 못한다 : i.e., 09 (x)\n",
    "    - cf.0bxx (10진수가 아닌)\n",
    "- 숫자 사이에 쉼표를 쓰면 오류 : 100,000 (x) -> 100_000\n",
    "    => 숫자 사이의 언더바는 인식하지 않는다는 의미"
   ]
  },
  {
   "cell_type": "code",
   "execution_count": 5,
   "id": "7603c473",
   "metadata": {},
   "outputs": [
    {
     "ename": "SyntaxError",
     "evalue": "leading zeros in decimal integer literals are not permitted; use an 0o prefix for octal integers (<ipython-input-5-4a84c0f7ac01>, line 1)",
     "output_type": "error",
     "traceback": [
      "\u001b[1;36m  File \u001b[1;32m\"<ipython-input-5-4a84c0f7ac01>\"\u001b[1;36m, line \u001b[1;32m1\u001b[0m\n\u001b[1;33m    a = 09    #0이 빨간색으로 오류남\u001b[0m\n\u001b[1;37m         ^\u001b[0m\n\u001b[1;31mSyntaxError\u001b[0m\u001b[1;31m:\u001b[0m leading zeros in decimal integer literals are not permitted; use an 0o prefix for octal integers\n"
     ]
    }
   ],
   "source": [
    "a = 09    #0이 빨간색으로 오류남"
   ]
  },
  {
   "cell_type": "code",
   "execution_count": 6,
   "id": "40db57fe",
   "metadata": {},
   "outputs": [
    {
     "data": {
      "text/plain": [
       "-1"
      ]
     },
     "execution_count": 6,
     "metadata": {},
     "output_type": "execute_result"
    }
   ],
   "source": [
    "a = -50\n",
    "b = 49\n",
    "a + b"
   ]
  },
  {
   "cell_type": "markdown",
   "id": "efe0e80b",
   "metadata": {},
   "source": [
    "### 연산자|operator\n",
    "- +, -, /, *\n",
    "- 피연산자|operand: 1,2, ..\n",
    "- 수식|expression\n"
   ]
  },
  {
   "cell_type": "code",
   "execution_count": 7,
   "id": "00602dbc",
   "metadata": {},
   "outputs": [
    {
     "data": {
      "text/plain": [
       "6561"
      ]
     },
     "execution_count": 7,
     "metadata": {},
     "output_type": "execute_result"
    }
   ],
   "source": [
    "x = 9\n",
    "y = 4\n",
    "\n",
    "# 연산 5가지\n",
    "x + y\n",
    "x - y\n",
    "x * y\n",
    "x / y\n",
    "x ** y  #거듭제곱|erponential\n"
   ]
  },
  {
   "cell_type": "markdown",
   "id": "c299b21d",
   "metadata": {},
   "source": [
    "나눗셈 = 몫, 나머지"
   ]
  },
  {
   "cell_type": "code",
   "execution_count": 9,
   "id": "86c2d15f",
   "metadata": {},
   "outputs": [
    {
     "data": {
      "text/plain": [
       "2.25"
      ]
     },
     "execution_count": 9,
     "metadata": {},
     "output_type": "execute_result"
    }
   ],
   "source": [
    "x / y  #몫, 나머지"
   ]
  },
  {
   "cell_type": "code",
   "execution_count": 11,
   "id": "bc7e3edf",
   "metadata": {},
   "outputs": [
    {
     "data": {
      "text/plain": [
       "2"
      ]
     },
     "execution_count": 11,
     "metadata": {},
     "output_type": "execute_result"
    }
   ],
   "source": [
    "x // y #몫만 나옴"
   ]
  },
  {
   "cell_type": "code",
   "execution_count": 12,
   "id": "2af28140",
   "metadata": {},
   "outputs": [
    {
     "data": {
      "text/plain": [
       "1"
      ]
     },
     "execution_count": 12,
     "metadata": {},
     "output_type": "execute_result"
    }
   ],
   "source": [
    "x % y  #나머지만 나옴"
   ]
  },
  {
   "cell_type": "code",
   "execution_count": 13,
   "id": "521343ff",
   "metadata": {},
   "outputs": [
    {
     "data": {
      "text/plain": [
       "(2, 1)"
      ]
     },
     "execution_count": 13,
     "metadata": {},
     "output_type": "execute_result"
    }
   ],
   "source": [
    "divmod(x, y)  #(몫, 나머지) 튜플 형태로 반환됨"
   ]
  },
  {
   "cell_type": "code",
   "execution_count": 15,
   "id": "b41e2588",
   "metadata": {},
   "outputs": [],
   "source": [
    "# division by zero 항시 유의 !"
   ]
  },
  {
   "cell_type": "code",
   "execution_count": 17,
   "id": "67363371",
   "metadata": {},
   "outputs": [
    {
     "data": {
      "text/plain": [
       "20"
      ]
     },
     "execution_count": 17,
     "metadata": {},
     "output_type": "execute_result"
    }
   ],
   "source": [
    "1 + 9              + 10   #숫자 사이의 공백은 무시되어 연산됨"
   ]
  },
  {
   "cell_type": "markdown",
   "id": "efb02a8a",
   "metadata": {},
   "source": [
    "#### 복합 대입 연산자 | compound assignment operator \n",
    "- 자신의 값을 대입해 업데이트 함"
   ]
  },
  {
   "cell_type": "code",
   "execution_count": 20,
   "id": "856d9f1a",
   "metadata": {},
   "outputs": [
    {
     "name": "stdout",
     "output_type": "stream",
     "text": [
      "5\n"
     ]
    }
   ],
   "source": [
    "x = 5\n",
    "x - 3\n",
    "print(x)   #x빼준 값을 대입하지 않아서 그대로 나온다"
   ]
  },
  {
   "cell_type": "code",
   "execution_count": 24,
   "id": "27ad5ebd",
   "metadata": {},
   "outputs": [
    {
     "name": "stdout",
     "output_type": "stream",
     "text": [
      "-7\n"
     ]
    }
   ],
   "source": [
    "x = x - 3\n",
    "print(x)\n",
    "\n",
    "#step 1. x - 3 계산\n",
    "#step 2. temp = x - 3 (임시변수에 담는다)\n",
    "#step 3. x = temp"
   ]
  },
  {
   "cell_type": "code",
   "execution_count": 25,
   "id": "274e9f34",
   "metadata": {},
   "outputs": [
    {
     "name": "stdout",
     "output_type": "stream",
     "text": [
      "-10\n"
     ]
    }
   ],
   "source": [
    "x -= 3\n",
    "print(x)  #2 - 3"
   ]
  },
  {
   "cell_type": "code",
   "execution_count": 26,
   "id": "69c0a877",
   "metadata": {},
   "outputs": [],
   "source": [
    "x += 3\n",
    "x -+ 3\n",
    "x *= 3\n",
    "x /= 3\n",
    "\n",
    "x += 1"
   ]
  },
  {
   "cell_type": "markdown",
   "id": "4411ba43",
   "metadata": {},
   "source": [
    "### Quiz 1.\n",
    "- 반지름을 입력 받아서 원의 면적 구하기\n",
    "- 면적 = pi * r제곱"
   ]
  },
  {
   "cell_type": "code",
   "execution_count": 30,
   "id": "9c58cf38",
   "metadata": {},
   "outputs": [
    {
     "name": "stdout",
     "output_type": "stream",
     "text": [
      "반지름은 얼마입니까?3.47\n",
      "원의 면적은 37.808426000000004입니다.\n"
     ]
    }
   ],
   "source": [
    "r = float(input('반지름은 얼마입니까?'))\n",
    "space = 3.14 * r * r\n",
    "\n",
    "print(f'원의 면적은 {space}입니다.')"
   ]
  },
  {
   "cell_type": "markdown",
   "id": "369694d1",
   "metadata": {},
   "source": [
    "### Quiz 2.\n",
    "- 숫자를 입력 받고 3의 배수인지 확인하기 (True, False 사용해보기)\n",
    "- 숫자를 입력 받고 홀수인지 확인하기"
   ]
  },
  {
   "cell_type": "code",
   "execution_count": 33,
   "id": "880fbd35",
   "metadata": {},
   "outputs": [
    {
     "name": "stdout",
     "output_type": "stream",
     "text": [
      "숫자를 입력하세요 : 35\n",
      "3의 배수가 아닙니다!\n"
     ]
    }
   ],
   "source": [
    "num = int(input(\"숫자를 입력하세요 : \"))\n",
    "if num % 3 == 0:\n",
    "    print(\"3의 배수입니다!\")\n",
    "else : \n",
    "    print(\"3의 배수가 아닙니다!\")"
   ]
  },
  {
   "cell_type": "code",
   "execution_count": 35,
   "id": "697ff1e3",
   "metadata": {},
   "outputs": [
    {
     "name": "stdout",
     "output_type": "stream",
     "text": [
      "숫자를 입력하세요 :0\n",
      "짝수입니다!\n"
     ]
    }
   ],
   "source": [
    "num = int(input(\"숫자를 입력하세요 :\"))\n",
    "if num % 2 == 0 and num == 0:\n",
    "    print(\"짝수입니다!\")\n",
    "else : \n",
    "    print(\"홀수입니다!\")"
   ]
  },
  {
   "cell_type": "markdown",
   "id": "326eeeb2",
   "metadata": {},
   "source": [
    "### 지수 표현  (다시 복습하기)\n",
    "- 예: '1.0e4'\n",
    "- e의 앞부분은 소수, 정수, 둘다 됨\n",
    "- 뒷부분은 정수여야 함\n",
    "- 뒷부분이 음수면 소수점 자릿수를 의미함\n",
    "- e, E 둘다 사용 가능 "
   ]
  },
  {
   "cell_type": "code",
   "execution_count": 38,
   "id": "583cd0fc",
   "metadata": {},
   "outputs": [
    {
     "data": {
      "text/plain": [
       "10000.0"
      ]
     },
     "execution_count": 38,
     "metadata": {},
     "output_type": "execute_result"
    }
   ],
   "source": [
    "1.0e4  "
   ]
  },
  {
   "cell_type": "code",
   "execution_count": 39,
   "id": "058cac41",
   "metadata": {},
   "outputs": [],
   "source": [
    "# 0.0004005 => 지수로 표현하기"
   ]
  },
  {
   "cell_type": "code",
   "execution_count": 45,
   "id": "fe07d3f6",
   "metadata": {},
   "outputs": [
    {
     "data": {
      "text/plain": [
       "0.0004005"
      ]
     },
     "execution_count": 45,
     "metadata": {},
     "output_type": "execute_result"
    }
   ],
   "source": [
    "4.005e-4  # e의 역할 무엇?"
   ]
  },
  {
   "cell_type": "code",
   "execution_count": null,
   "id": "55d4d2a8",
   "metadata": {},
   "outputs": [],
   "source": []
  }
 ],
 "metadata": {
  "kernelspec": {
   "display_name": "Python 3",
   "language": "python",
   "name": "python3"
  },
  "language_info": {
   "codemirror_mode": {
    "name": "ipython",
    "version": 3
   },
   "file_extension": ".py",
   "mimetype": "text/x-python",
   "name": "python",
   "nbconvert_exporter": "python",
   "pygments_lexer": "ipython3",
   "version": "3.8.8"
  }
 },
 "nbformat": 4,
 "nbformat_minor": 5
}
