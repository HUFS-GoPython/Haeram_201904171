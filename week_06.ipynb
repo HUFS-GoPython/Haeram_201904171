{
 "cells": [
  {
   "cell_type": "markdown",
   "id": "5801e8ea-96d5-4286-8c31-50648449766a",
   "metadata": {},
   "source": [
    "### NLTK Corpus"
   ]
  },
  {
   "cell_type": "code",
   "execution_count": null,
   "id": "3c592dd1-43ab-453b-8f92-9d7672a77cc5",
   "metadata": {},
   "outputs": [],
   "source": []
  },
  {
   "cell_type": "code",
   "execution_count": 2,
   "id": "86c19019-2259-491b-9fc6-2565d268f302",
   "metadata": {
    "collapsed": true,
    "jupyter": {
     "outputs_hidden": true
    },
    "tags": []
   },
   "outputs": [
    {
     "name": "stderr",
     "output_type": "stream",
     "text": [
      "[nltk_data] Downloading package inaugural to\n",
      "[nltk_data]     C:\\Users\\blubl\\AppData\\Roaming\\nltk_data...\n",
      "[nltk_data]   Package inaugural is already up-to-date!\n",
      "[nltk_data] Downloading package brown to\n",
      "[nltk_data]     C:\\Users\\blubl\\AppData\\Roaming\\nltk_data...\n",
      "[nltk_data]   Package brown is already up-to-date!\n"
     ]
    },
    {
     "data": {
      "text/plain": [
       "True"
      ]
     },
     "execution_count": 2,
     "metadata": {},
     "output_type": "execute_result"
    }
   ],
   "source": [
    "import nltk\n",
    "nltk.download(['inaugural', 'brown'])"
   ]
  },
  {
   "cell_type": "code",
   "execution_count": 3,
   "id": "e649b631-625f-4896-9d08-841c68072ae4",
   "metadata": {},
   "outputs": [],
   "source": [
    "brown = nltk.corpus.brown"
   ]
  },
  {
   "cell_type": "code",
   "execution_count": null,
   "id": "bcc4a507-ff73-4e37-b657-154478d9a291",
   "metadata": {},
   "outputs": [],
   "source": [
    "cfd1 = nltk.ConditionalFreqDist(\n",
    "    {genre.word}\n",
    "    for genre in brown.categories()\n",
    "    for word in brown.words(categories=genre)\n",
    ")\n",
    "genre = brown.categories()[:5]\n",
    "modals = ['can', 'could', 'will', 'would', 'may', 'might']\n",
    "cfd1.tabulate(condition=genre, samples=modals)"
   ]
  },
  {
   "cell_type": "code",
   "execution_count": null,
   "id": "1cd6b79e-57ec-45ab-93df-aca78dde8515",
   "metadata": {},
   "outputs": [],
   "source": [
    "#genre별로 modal의 빈도수를 가진 cfd\n",
    "cfd2 = nltk.ConditionalFreqDist(\n",
    "    (genre, modals)\n",
    "    for genre in brown.categories()\n",
    "    for modals in ['can', 'could', 'will', 'would', 'may', 'might'] #modal지정\n",
    "\n",
    "for word in brown.words(categories=genre)\n",
    "    if word.lower() == modals  #candidate\n",
    ")\n",
    "cfd2.tabulate()"
   ]
  },
  {
   "cell_type": "code",
   "execution_count": null,
   "id": "a2c80df7-645b-42fe-a0c5-5fa0e38e95df",
   "metadata": {},
   "outputs": [],
   "source": [
    "cfd2"
   ]
  },
  {
   "cell_type": "code",
   "execution_count": 24,
   "id": "797a715b-fbbc-4efd-bc72-6ef0623fff46",
   "metadata": {},
   "outputs": [
    {
     "name": "stderr",
     "output_type": "stream",
     "text": [
      "ERROR: Could not find a version that satisfies the requirement matplotlib.pyplot\n",
      "ERROR: No matching distribution found for matplotlib.pyplot\n"
     ]
    },
    {
     "ename": "NameError",
     "evalue": "name 'plt' is not defined",
     "output_type": "error",
     "traceback": [
      "\u001b[1;31m---------------------------------------------------------------------------\u001b[0m",
      "\u001b[1;31mNameError\u001b[0m                                 Traceback (most recent call last)",
      "\u001b[1;32m<ipython-input-24-75923201ee18>\u001b[0m in \u001b[0;36m<module>\u001b[1;34m\u001b[0m\n\u001b[0;32m      1\u001b[0m \u001b[0mget_ipython\u001b[0m\u001b[1;33m(\u001b[0m\u001b[1;33m)\u001b[0m\u001b[1;33m.\u001b[0m\u001b[0msystem\u001b[0m\u001b[1;33m(\u001b[0m\u001b[1;34m'pip install matplotlib.pyplot as plt'\u001b[0m\u001b[1;33m)\u001b[0m\u001b[1;33m\u001b[0m\u001b[1;33m\u001b[0m\u001b[0m\n\u001b[1;32m----> 2\u001b[1;33m \u001b[0mplt\u001b[0m\u001b[1;33m.\u001b[0m\u001b[0mfigure\u001b[0m\u001b[1;33m(\u001b[0m\u001b[0mfigsize\u001b[0m\u001b[1;33m=\u001b[0m\u001b[1;33m(\u001b[0m\u001b[1;36m12\u001b[0m\u001b[1;33m,\u001b[0m \u001b[1;36m5\u001b[0m\u001b[1;33m)\u001b[0m\u001b[1;33m)\u001b[0m\u001b[1;33m\u001b[0m\u001b[1;33m\u001b[0m\u001b[0m\n\u001b[0m",
      "\u001b[1;31mNameError\u001b[0m: name 'plt' is not defined"
     ]
    }
   ],
   "source": [
    "!pip install matplotlib.pyplot as plt\n",
    "plt.figure(figsize=(12, 5))"
   ]
  },
  {
   "cell_type": "markdown",
   "id": "a5101b97-4288-4b6a-b071-f54bcef78f26",
   "metadata": {},
   "source": [
    "### Inaugural \n",
    " - 연설문 데이터"
   ]
  },
  {
   "cell_type": "code",
   "execution_count": 13,
   "id": "ce026a47-45d8-4c7c-9e27-a7a2270e324f",
   "metadata": {},
   "outputs": [],
   "source": [
    "inaugural = nltk.corpus.inaugural"
   ]
  },
  {
   "cell_type": "code",
   "execution_count": 15,
   "id": "b70b2a07-9df8-4623-956f-30464438aa0b",
   "metadata": {},
   "outputs": [
    {
     "data": {
      "text/plain": [
       "['1789-Washington.txt',\n",
       " '1793-Washington.txt',\n",
       " '1797-Adams.txt',\n",
       " '1801-Jefferson.txt',\n",
       " '1805-Jefferson.txt']"
      ]
     },
     "execution_count": 15,
     "metadata": {},
     "output_type": "execute_result"
    }
   ],
   "source": [
    "inaugural.fileids()[:5]  #연도 - 이름.txt "
   ]
  },
  {
   "cell_type": "code",
   "execution_count": 18,
   "id": "1196ffbf-e682-4ef6-88ec-ffeef6a913e7",
   "metadata": {
    "collapsed": true,
    "jupyter": {
     "outputs_hidden": true
    },
    "tags": []
   },
   "outputs": [
    {
     "name": "stdout",
     "output_type": "stream",
     "text": [
      "        1789-Washington.txt 1793-Washington.txt      1797-Adams.txt  1801-Jefferson.txt  1805-Jefferson.txt    1809-Madison.txt    1813-Madison.txt     1817-Monroe.txt     1821-Monroe.txt      1825-Adams.txt    1829-Jackson.txt    1833-Jackson.txt   1837-VanBuren.txt   1841-Harrison.txt       1845-Polk.txt     1849-Taylor.txt     1853-Pierce.txt   1857-Buchanan.txt    1861-Lincoln.txt    1865-Lincoln.txt      1869-Grant.txt      1873-Grant.txt      1877-Hayes.txt   1881-Garfield.txt  1885-Cleveland.txt   1889-Harrison.txt  1893-Cleveland.txt   1897-McKinley.txt   1901-McKinley.txt  1905-Roosevelt.txt       1909-Taft.txt     1917-Wilson.txt    1921-Harding.txt   1925-Coolidge.txt     1929-Hoover.txt  1933-Roosevelt.txt  1937-Roosevelt.txt  1941-Roosevelt.txt  1945-Roosevelt.txt     1949-Truman.txt 1953-Eisenhower.txt 1957-Eisenhower.txt    1961-Kennedy.txt    1965-Johnson.txt      1969-Nixon.txt      1973-Nixon.txt     1977-Carter.txt     1981-Reagan.txt     1985-Reagan.txt       1989-Bush.txt    1993-Clinton.txt    1997-Clinton.txt       2001-Bush.txt       2005-Bush.txt      2009-Obama.txt      2013-Obama.txt      2017-Trump.txt      2021-Biden.txt \n",
      "america                   2                   1                   8                   0                   1                   0                   1                   1                   2                   0                   0                   2                   2                   7                   0                   2                   2                   3                   2                   1                   0                   0                   1                   2                   4                   6                   9                   9                   7                   0                  12                   4                  24                  11                  12                   2                   5                  12                   2                   4                   6                   7                   7                  10                  10                  23                   5                  16                  21                  11                  33                  31                  20                  30                  15                  19                  35                  40 \n",
      "citizen                   5                   1                   6                   7                  10                   1                   4                  14                  15                   3                   2                   3                   7                  38                  11                   2                   4                   7                   7                   0                   5                   3                   9                   9                  13                  12                  10                  10                   2                   1                   6                   3                   6                   5                  12                   1                   2                   1                   1                   1                   7                   0                   5                   4                   1                   1                   0                   3                   6                   3                   2                  10                  11                   7                   2                   8                   4                   1 \n"
     ]
    }
   ],
   "source": [
    "# 실습 - 연도별 특정 단어를 대통령들이 사용한 빈도\n",
    "cfd3 = nltk.ConditionalFreqDist(\n",
    "    #(genre, modals)\n",
    "    (target_word, fileid)\n",
    "    \n",
    "    #for genre in brown.categories()\n",
    "    for fileid in inaugural.fileids()\n",
    "    \n",
    "    #for modals in ['can', 'could', 'will', 'would', 'may', 'might'] #modal지정\n",
    "    for target_word in ['america', 'citizen']\n",
    "    \n",
    "    #for word in brown.words(categories=genre)\n",
    "    for word in inaugural.words(fileids=fileid)\n",
    "        #if word.lower() == modals  #candidate\n",
    "        if word.lower().startswith(target_word)\n",
    ")\n",
    "cfd3.tabulate()"
   ]
  },
  {
   "cell_type": "code",
   "execution_count": 19,
   "id": "5497119e-d15a-4120-8f23-642c79af84e3",
   "metadata": {},
   "outputs": [
    {
     "data": {
      "image/png": "[encoded data removed]",
      "text/plain": [
       "<Figure size 432x288 with 1 Axes>"
      ]
     },
     "metadata": {
      "needs_background": "light"
     },
     "output_type": "display_data"
    },
    {
     "data": {
      "text/plain": [
       "<AxesSubplot:xlabel='Samples', ylabel='Counts'>"
      ]
     },
     "execution_count": 19,
     "metadata": {},
     "output_type": "execute_result"
    }
   ],
   "source": [
    "cfd3.plot()"
   ]
  },
  {
   "cell_type": "code",
   "execution_count": 23,
   "id": "b73e9cdd-fc39-431d-9351-1d1d8248882e",
   "metadata": {
    "collapsed": true,
    "jupyter": {
     "outputs_hidden": true
    },
    "tags": []
   },
   "outputs": [
    {
     "name": "stdout",
     "output_type": "stream",
     "text": [
      "        1789-Washington.txt 1793-Washington.txt      1797-Adams.txt  1801-Jefferson.txt  1805-Jefferson.txt    1809-Madison.txt    1813-Madison.txt     1817-Monroe.txt     1821-Monroe.txt      1825-Adams.txt    1829-Jackson.txt    1833-Jackson.txt   1837-VanBuren.txt   1841-Harrison.txt       1845-Polk.txt     1849-Taylor.txt     1853-Pierce.txt   1857-Buchanan.txt    1861-Lincoln.txt    1865-Lincoln.txt      1869-Grant.txt      1873-Grant.txt      1877-Hayes.txt   1881-Garfield.txt  1885-Cleveland.txt   1889-Harrison.txt  1893-Cleveland.txt   1897-McKinley.txt   1901-McKinley.txt  1905-Roosevelt.txt       1909-Taft.txt     1917-Wilson.txt    1921-Harding.txt   1925-Coolidge.txt     1929-Hoover.txt  1933-Roosevelt.txt  1937-Roosevelt.txt  1941-Roosevelt.txt  1945-Roosevelt.txt     1949-Truman.txt 1953-Eisenhower.txt 1957-Eisenhower.txt    1961-Kennedy.txt    1965-Johnson.txt      1969-Nixon.txt      1973-Nixon.txt     1977-Carter.txt     1981-Reagan.txt     1985-Reagan.txt       1989-Bush.txt    1993-Clinton.txt    1997-Clinton.txt       2001-Bush.txt       2005-Bush.txt      2009-Obama.txt      2013-Obama.txt      2017-Trump.txt      2021-Biden.txt \n",
      "america                   2                   1                   8                   0                   1                   0                   1                   1                   2                   0                   0                   2                   2                   7                   0                   2                   2                   3                   2                   1                   0                   0                   1                   2                   4                   6                   9                   9                   7                   0                  12                   4                  24                  11                  12                   2                   5                  12                   2                   4                   6                   7                   7                  10                  10                  23                   5                  16                  21                  11                  33                  31                  20                  30                  15                  19                  35                  40 \n",
      "citizen                   5                   1                   6                   7                  10                   1                   4                  14                  15                   3                   2                   3                   7                  38                  11                   2                   4                   7                   7                   0                   5                   3                   9                   9                  13                  12                  10                  10                   2                   1                   6                   3                   6                   5                  12                   1                   2                   1                   1                   1                   7                   0                   5                   4                   1                   1                   0                   3                   6                   3                   2                  10                  11                   7                   2                   8                   4                   1 \n"
     ]
    }
   ],
   "source": [
    "cfd3.tabulate()  #x,y축 바꾸기?"
   ]
  },
  {
   "cell_type": "code",
   "execution_count": null,
   "id": "04bd1bac-babd-46da-952e-e670e64b4e9e",
   "metadata": {},
   "outputs": [],
   "source": []
  },
  {
   "cell_type": "code",
   "execution_count": null,
   "id": "4b5b28c9-57da-4bba-89ae-1bcc0493c7ab",
   "metadata": {},
   "outputs": [],
   "source": []
  },
  {
   "cell_type": "code",
   "execution_count": null,
   "id": "86cc571a-bb95-454f-bce6-b5905087f527",
   "metadata": {},
   "outputs": [],
   "source": []
  },
  {
   "cell_type": "markdown",
   "id": "c475f383-a363-48bc-980d-ed76decfd684",
   "metadata": {},
   "source": [
    "### Tuple & List\n",
    "1. 생성하기"
   ]
  },
  {
   "cell_type": "code",
   "execution_count": 3,
   "id": "780e4ebd-1106-4e31-bdd0-c5886eab0cde",
   "metadata": {},
   "outputs": [
    {
     "data": {
      "text/plain": [
       "((), [])"
      ]
     },
     "execution_count": 3,
     "metadata": {},
     "output_type": "execute_result"
    }
   ],
   "source": [
    "emptyT = ()\n",
    "emptyT = tuple()\n",
    "\n",
    "emptyL = []\n",
    "empty = list()\n",
    "    \n",
    "emptyT, emptyL    "
   ]
  },
  {
   "cell_type": "markdown",
   "id": "8fb0db99-4e36-48f4-9a5b-6046e6704fe6",
   "metadata": {},
   "source": [
    "1.1 요소가 2개 이상일 때"
   ]
  },
  {
   "cell_type": "code",
   "execution_count": 4,
   "id": "5fb2ff8c-b64b-44cb-b3c1-9686a9b31bb9",
   "metadata": {},
   "outputs": [
    {
     "data": {
      "text/plain": [
       "(('a', 'b'), ['a', 'b'])"
      ]
     },
     "execution_count": 4,
     "metadata": {},
     "output_type": "execute_result"
    }
   ],
   "source": [
    "listA = ['a', 'b']\n",
    "\n",
    "tupleA = 'a', 'b'\n",
    "tupleA = ('a', 'b')\n",
    "\n",
    "tupleA, listA"
   ]
  },
  {
   "cell_type": "markdown",
   "id": "2acfedff-f14f-4f86-a527-85ff02171ddb",
   "metadata": {},
   "source": [
    "1.2 요소가 1개일 때 - 콤마 필수!"
   ]
  },
  {
   "cell_type": "code",
   "execution_count": 5,
   "id": "20c49e57-f073-4370-90dc-deaae2cd95b2",
   "metadata": {},
   "outputs": [
    {
     "data": {
      "text/plain": [
       "(('a',), ['a'])"
      ]
     },
     "execution_count": 5,
     "metadata": {},
     "output_type": "execute_result"
    }
   ],
   "source": [
    "listA = ['a']\n",
    "tupleA = ('a',) #콤마 붙는 특징, 안붙으면 str됨\n",
    "tupleA = 'a',\n",
    "\n",
    "tupleA, listA"
   ]
  },
  {
   "cell_type": "code",
   "execution_count": 6,
   "id": "df4dffe3-0059-4470-bb64-5c78ac703253",
   "metadata": {},
   "outputs": [
    {
     "data": {
      "text/plain": [
       "str"
      ]
     },
     "execution_count": 6,
     "metadata": {},
     "output_type": "execute_result"
    }
   ],
   "source": [
    "ex = ('a')\n",
    "type(ex)"
   ]
  },
  {
   "cell_type": "markdown",
   "id": "64ac1086-748d-40cf-ae0d-f1a7e458877a",
   "metadata": {},
   "source": [
    "2. 여러 번수 할당하기\n",
    "- packing : 한 변수에 여러 개의 데이터를 할당하는 것\n",
    "    - 리스트, 튜플 자체가 a = [1, 2, 3, 4]\n",
    "- unpacking : 여러 변수에 하나의 데이터 할당하는 것. 그것을 각각의 변수로 변환하는 것\n",
    "    - a, b, c = [1, 2, 3]"
   ]
  },
  {
   "cell_type": "code",
   "execution_count": 9,
   "id": "60434b6a-edad-4709-ac5d-dbc6cfb4c984",
   "metadata": {},
   "outputs": [
    {
     "data": {
      "text/plain": [
       "('l', 'e', 'e')"
      ]
     },
     "execution_count": 9,
     "metadata": {},
     "output_type": "execute_result"
    }
   ],
   "source": [
    "name = 'lee'\n",
    "a, b, c = name\n",
    "a, b, c  #튜플로 출력됨 : unpacking"
   ]
  },
  {
   "cell_type": "code",
   "execution_count": 11,
   "id": "f3815631-c67b-436f-8959-85db9ae767e6",
   "metadata": {},
   "outputs": [
    {
     "data": {
      "text/plain": [
       "('abcd', 'hello')"
      ]
     },
     "execution_count": 11,
     "metadata": {},
     "output_type": "execute_result"
    }
   ],
   "source": [
    "# 값 교환\n",
    "pwd = 'abcd'\n",
    "userID = 'hello'\n",
    "\n",
    "#pwd = 'hello', userID = 'abcd'\n",
    "temp1 = pwd\n",
    "temp2 = userID\n",
    "pwd = temp2\n",
    "userID = temp1\n",
    "\n",
    "pwd, userID = userID, pwd\n",
    "pwd, userID"
   ]
  },
  {
   "cell_type": "markdown",
   "id": "cb1c1310-ecc1-4313-b758-39fa913696f6",
   "metadata": {},
   "source": [
    "3. 연산"
   ]
  },
  {
   "cell_type": "code",
   "execution_count": 13,
   "id": "ab9cf070-4e12-4341-8927-e132cb9fbad1",
   "metadata": {},
   "outputs": [
    {
     "data": {
      "text/plain": [
       "('a', 'b', 'c')"
      ]
     },
     "execution_count": 13,
     "metadata": {},
     "output_type": "execute_result"
    }
   ],
   "source": [
    "('a',) + ('b', 'c')"
   ]
  },
  {
   "cell_type": "code",
   "execution_count": 17,
   "id": "0ce589a1-2ca2-4a52-97d8-a670c3afb1a1",
   "metadata": {},
   "outputs": [
    {
     "data": {
      "text/plain": [
       "('b', 'c', 'b', 'c', 'b', 'c')"
      ]
     },
     "execution_count": 17,
     "metadata": {},
     "output_type": "execute_result"
    }
   ],
   "source": [
    "('b', 'c') * 3"
   ]
  },
  {
   "cell_type": "code",
   "execution_count": 15,
   "id": "bfd15671-0626-4f89-b958-176ac9242035",
   "metadata": {},
   "outputs": [
    {
     "data": {
      "text/plain": [
       "((1, 3), (3, 4))"
      ]
     },
     "execution_count": 15,
     "metadata": {},
     "output_type": "execute_result"
    }
   ],
   "source": [
    "a = 1,3\n",
    "b = 3,4\n",
    "\n",
    "a,b"
   ]
  },
  {
   "cell_type": "markdown",
   "id": "f5a6e021-5416-4c49-9947-a3c7e13b28be",
   "metadata": {},
   "source": [
    "4. 순회하기 : 리스트처럼 루프 탈 수 있음"
   ]
  },
  {
   "cell_type": "code",
   "execution_count": 16,
   "id": "0014bf3d-dda4-4d4b-b676-90ccda538ca1",
   "metadata": {},
   "outputs": [
    {
     "name": "stdout",
     "output_type": "stream",
     "text": [
      "(1, 2, 3, 4, 5)\n",
      "(1, 2, 3, 4, 5)\n",
      "(1, 2, 3, 4, 5)\n",
      "(1, 2, 3, 4, 5)\n",
      "(1, 2, 3, 4, 5)\n"
     ]
    }
   ],
   "source": [
    "a = 1, 2, 3, 4, 5\n",
    "for i in a:\n",
    "    print(a)"
   ]
  },
  {
   "cell_type": "markdown",
   "id": "bb802f1f-06a4-4a19-ba4a-c1be81f90520",
   "metadata": {},
   "source": [
    "5. 튜플 컴프리헨션은 없다\n"
   ]
  },
  {
   "cell_type": "code",
   "execution_count": 18,
   "id": "45ab7295-7bca-4b88-a4f9-08c573aee1ec",
   "metadata": {},
   "outputs": [
    {
     "data": {
      "text/plain": [
       "[1, 2, 3, 4, 5]"
      ]
     },
     "execution_count": 18,
     "metadata": {},
     "output_type": "execute_result"
    }
   ],
   "source": [
    "[word for word in a]"
   ]
  },
  {
   "cell_type": "code",
   "execution_count": 19,
   "id": "5022c03e-e6e4-48b7-a3e4-ff82cda5c478",
   "metadata": {},
   "outputs": [
    {
     "data": {
      "text/plain": [
       "(1, 2, 3, 4, 5)"
      ]
     },
     "execution_count": 19,
     "metadata": {},
     "output_type": "execute_result"
    }
   ],
   "source": [
    "#방법 1. 리스트를 튜플로 감싼다\n",
    "tuple([word for word in a])"
   ]
  },
  {
   "cell_type": "code",
   "execution_count": 21,
   "id": "b808095a-30d1-40c4-b2af-d6356906f18b",
   "metadata": {},
   "outputs": [
    {
     "data": {
      "text/plain": [
       "(1, 2, 3, 4, 5)"
      ]
     },
     "execution_count": 21,
     "metadata": {},
     "output_type": "execute_result"
    }
   ],
   "source": [
    "#방법 2. 별표 사용 (느림)\n",
    "*[word for word in a],  #콤마 잊지마"
   ]
  },
  {
   "cell_type": "markdown",
   "id": "604f5d4f-4010-4c30-9dfe-329dcb1e8ae5",
   "metadata": {},
   "source": [
    "6. 튜플은 불변 객체이다(변하지X)\n",
    "- a = 1, 2, 3, 4\n",
    "    - a += 5 (X) 불가능함\n",
    "- 코드 수정할 때 튜플 수정할 수 없게 하는 용도로 사용함\n",
    "- key 값을 저장할 때 사용\n",
    "(blue = 1, white = 3....)\n",
    "    - 메모리 사용 적다\n"
   ]
  },
  {
   "cell_type": "code",
   "execution_count": 26,
   "id": "4f14c819-d102-4666-814d-f48727a3a93b",
   "metadata": {},
   "outputs": [
    {
     "data": {
      "text/plain": [
       "(1, 1, 2, 3)"
      ]
     },
     "execution_count": 26,
     "metadata": {},
     "output_type": "execute_result"
    }
   ],
   "source": [
    "(1,) + (1,2,3)  \n",
    "#이런건 변한게 아닌가요? \n",
    "#a+b를해서 c라는 다른 객체에 할당한것임, 수정한거 아님"
   ]
  },
  {
   "cell_type": "markdown",
   "id": "f6dff510-e44c-4d48-b739-4d9e2f8d2044",
   "metadata": {},
   "source": [
    "7. 형 변환\n",
    "- tuple() : 각각 요소 순회 후 하나씩\n",
    "- () : 하나의 리스트에 다 담음"
   ]
  },
  {
   "cell_type": "code",
   "execution_count": 27,
   "id": "7075e632-fbeb-4ccf-a74b-f8fb6c38f02e",
   "metadata": {},
   "outputs": [
    {
     "data": {
      "text/plain": [
       "(('c', 'a', 't'), ['cat'])"
      ]
     },
     "execution_count": 27,
     "metadata": {},
     "output_type": "execute_result"
    }
   ],
   "source": [
    "tuple('cat'), ['cat']"
   ]
  },
  {
   "cell_type": "code",
   "execution_count": 28,
   "id": "7cb6fa01-4be8-4ecb-9d47-08f6c11f0c37",
   "metadata": {},
   "outputs": [
    {
     "data": {
      "text/plain": [
       "(['c', 'a', 't'], ['cat'])"
      ]
     },
     "execution_count": 28,
     "metadata": {},
     "output_type": "execute_result"
    }
   ],
   "source": [
    "list('cat'), ['cat']  #list도 마찬가지"
   ]
  },
  {
   "cell_type": "code",
   "execution_count": 29,
   "id": "ab5cca1d-17f4-43b3-9913-e4a3a1715b5c",
   "metadata": {},
   "outputs": [
    {
     "data": {
      "text/plain": [
       "3"
      ]
     },
     "execution_count": 29,
     "metadata": {},
     "output_type": "execute_result"
    }
   ],
   "source": [
    "b[0]"
   ]
  },
  {
   "cell_type": "markdown",
   "id": "b43ee044-debc-4dff-a57f-496db93b443c",
   "metadata": {},
   "source": [
    "- 튜플의 장점:\n",
    "    - 타인이 변경하는 걸 막음(리스트와의 차이점)\n",
    "    - 메모리 사용 적음\n",
    "- 리스트 장점:\n",
    "    - 순차적으로 데이터 파악 용이\n",
    "    - 중복죄는 데이터를 포함할 수 있다"
   ]
  },
  {
   "cell_type": "code",
   "execution_count": null,
   "id": "3125eae7-4319-478b-b308-af8684f7cf0b",
   "metadata": {},
   "outputs": [],
   "source": []
  },
  {
   "cell_type": "markdown",
   "id": "a0b509f9-4654-4a18-90a0-408774501194",
   "metadata": {},
   "source": [
    "### List 관련 함수"
   ]
  },
  {
   "cell_type": "markdown",
   "id": "709a359d-f401-4578-b5b4-8f5f39397857",
   "metadata": {},
   "source": [
    "#### 1. 항목 변경하기"
   ]
  },
  {
   "cell_type": "code",
   "execution_count": 5,
   "id": "7c54e876-65e6-4e5e-80c2-a814043050de",
   "metadata": {},
   "outputs": [
    {
     "data": {
      "text/plain": [
       "['월', '화', '수', '목', '금']"
      ]
     },
     "execution_count": 5,
     "metadata": {},
     "output_type": "execute_result"
    }
   ],
   "source": [
    "days = ['월', '화', '수', '목']\n",
    "#금요일을 추가하기\n",
    "days.append('금')\n",
    "days  #할당 필용 없이 바로 값 반환\n",
    "#마지막에 요소 추가 하는 append"
   ]
  },
  {
   "cell_type": "code",
   "execution_count": 7,
   "id": "f5ac04d0-bb78-4f34-b5e6-dbca5150ae37",
   "metadata": {},
   "outputs": [
    {
     "data": {
      "text/plain": [
       "['화', '수', '토', '목', '금']"
      ]
     },
     "execution_count": 7,
     "metadata": {},
     "output_type": "execute_result"
    }
   ],
   "source": [
    "#insert - 지정하기\n",
    "days.insert(2, '토')\n",
    "days"
   ]
  },
  {
   "cell_type": "code",
   "execution_count": 8,
   "id": "dd5c7d64-7560-4de6-ac52-f9d01e20ec45",
   "metadata": {},
   "outputs": [
    {
     "data": {
      "text/plain": [
       "['화', '수', '토', '목', '금', 'Sat', 'Sun']"
      ]
     },
     "execution_count": 8,
     "metadata": {},
     "output_type": "execute_result"
    }
   ],
   "source": [
    "#offset - 병합하기\n",
    "listA = ['Sat', 'Sun']\n",
    "days.extend(listA)\n",
    "days\n"
   ]
  },
  {
   "cell_type": "code",
   "execution_count": 9,
   "id": "6275499d-e4ea-4ac8-87c3-47af5f7741e7",
   "metadata": {},
   "outputs": [
    {
     "data": {
      "text/plain": [
       "['화', '수', '토', '목', '금', 'Sat', 'Sun', ['Sat', 'Sun']]"
      ]
     },
     "execution_count": 9,
     "metadata": {},
     "output_type": "execute_result"
    }
   ],
   "source": [
    "days.append(listA)\n",
    "days"
   ]
  },
  {
   "cell_type": "code",
   "execution_count": 10,
   "id": "5b7671cf-d187-4773-88bc-e9dee6bd0b03",
   "metadata": {},
   "outputs": [
    {
     "data": {
      "text/plain": [
       "['화', '수', '토', '목', '금', 'Sat', 'Sun', ['Sat', 'Sun'], 'Sat', 'Sun']"
      ]
     },
     "execution_count": 10,
     "metadata": {},
     "output_type": "execute_result"
    }
   ],
   "source": [
    "days += listA  #변하는 객체니까 연산 가능\n",
    "days"
   ]
  },
  {
   "cell_type": "code",
   "execution_count": 11,
   "id": "772b74ad-5d52-46cb-9c0f-83615d516e00",
   "metadata": {},
   "outputs": [
    {
     "data": {
      "text/plain": [
       "['화', '수', '토', '목', '금', 'Sat', 'Sun', '공휴일', 'Sat', 'Sun']"
      ]
     },
     "execution_count": 11,
     "metadata": {},
     "output_type": "execute_result"
    }
   ],
   "source": [
    "# offset\n",
    "days[-3] = '공휴일'\n",
    "days"
   ]
  },
  {
   "cell_type": "code",
   "execution_count": 12,
   "id": "35eecd8d-26a1-4450-93b3-41e41ad5912e",
   "metadata": {},
   "outputs": [
    {
     "data": {
      "text/plain": [
       "[1, 2, 3, '목', '금', 'Sat', 'Sun', '공휴일', 'Sat', 'Sun']"
      ]
     },
     "execution_count": 12,
     "metadata": {},
     "output_type": "execute_result"
    }
   ],
   "source": [
    "days[:3] = 1, 2, 3  #개수 달라도 상관 X\n",
    "days"
   ]
  },
  {
   "cell_type": "code",
   "execution_count": 13,
   "id": "be7467b2-1655-4af3-8018-e0869543257c",
   "metadata": {},
   "outputs": [
    {
     "data": {
      "text/plain": [
       "['c', 'a', 't', '목', '금', 'Sat', 'Sun', '공휴일', 'Sat', 'Sun']"
      ]
     },
     "execution_count": 13,
     "metadata": {},
     "output_type": "execute_result"
    }
   ],
   "source": [
    "days[:3] = 'cat'\n",
    "days"
   ]
  },
  {
   "cell_type": "code",
   "execution_count": 14,
   "id": "ddfbe59f-aba8-4714-9de4-3590ed14574b",
   "metadata": {},
   "outputs": [],
   "source": [
    "#a = 1, 2, 3, 4, 5\n",
    "a = list(range(1, 6))"
   ]
  },
  {
   "cell_type": "markdown",
   "id": "b779b75b-225e-4dd1-8afc-bfbc79a7b4b9",
   "metadata": {},
   "source": [
    "삭제하기"
   ]
  },
  {
   "cell_type": "code",
   "execution_count": 15,
   "id": "6548afdc-7d68-4074-b66a-edbce81f25ed",
   "metadata": {},
   "outputs": [
    {
     "data": {
      "text/plain": [
       "['a', 't', '목', '금', 'Sat', 'Sun', '공휴일', 'Sat', 'Sun']"
      ]
     },
     "execution_count": 15,
     "metadata": {},
     "output_type": "execute_result"
    }
   ],
   "source": [
    "#1. offset\n",
    "del days[0] #자리가 보존되지 않고 아이템이 하나씩 앞당겨짐\n",
    "days"
   ]
  },
  {
   "cell_type": "code",
   "execution_count": 19,
   "id": "bf42a151-2745-4e0a-a1a7-64acc9e93959",
   "metadata": {},
   "outputs": [
    {
     "data": {
      "text/plain": [
       "['a', 't', '수', '목', '금', 'Sat', 'Sun', '공휴일', 'Sat', 'Sun']"
      ]
     },
     "execution_count": 19,
     "metadata": {},
     "output_type": "execute_result"
    }
   ],
   "source": [
    "#2. 특정한 값 삭제\n",
    "days.remove('토')\n",
    "days"
   ]
  },
  {
   "cell_type": "code",
   "execution_count": 20,
   "id": "1ba4dcc1-1ba9-459c-984c-fc7a0719b40a",
   "metadata": {},
   "outputs": [
    {
     "data": {
      "text/plain": [
       "'a'"
      ]
     },
     "execution_count": 20,
     "metadata": {},
     "output_type": "execute_result"
    }
   ],
   "source": [
    "#3. pop(index) dsfault=-1 맨 마지막 요소를 삭제\n",
    "days.pop(0)"
   ]
  },
  {
   "cell_type": "code",
   "execution_count": 21,
   "id": "b1ad62cc-32cf-48ca-b3be-86c7252857c9",
   "metadata": {},
   "outputs": [
    {
     "data": {
      "text/plain": [
       "['t', '수', '목', '금', 'Sat', 'Sun', '공휴일', 'Sat', 'Sun']"
      ]
     },
     "execution_count": 21,
     "metadata": {},
     "output_type": "execute_result"
    }
   ],
   "source": [
    "days"
   ]
  },
  {
   "cell_type": "code",
   "execution_count": 23,
   "id": "fb5afb37-109c-42bc-bbed-fcf619ba61b9",
   "metadata": {},
   "outputs": [
    {
     "data": {
      "text/plain": [
       "[]"
      ]
     },
     "execution_count": 23,
     "metadata": {},
     "output_type": "execute_result"
    }
   ],
   "source": [
    "#clear - 전체 삭제\n",
    "days.clear()\n",
    "days"
   ]
  },
  {
   "cell_type": "markdown",
   "id": "49a165b6-c9e8-4727-a81e-6a5fdede19a3",
   "metadata": {},
   "source": [
    "값 찾기"
   ]
  },
  {
   "cell_type": "code",
   "execution_count": 25,
   "id": "ce46d0f4-03ff-4d74-b500-1772307799a8",
   "metadata": {},
   "outputs": [
    {
     "data": {
      "text/plain": [
       "2"
      ]
     },
     "execution_count": 25,
     "metadata": {},
     "output_type": "execute_result"
    }
   ],
   "source": [
    "a = list(range(5))\n",
    "a.index(2)"
   ]
  },
  {
   "cell_type": "code",
   "execution_count": 26,
   "id": "48a4b5ff-ed42-42d7-ba84-8b08ea61b687",
   "metadata": {},
   "outputs": [
    {
     "data": {
      "text/plain": [
       "True"
      ]
     },
     "execution_count": 26,
     "metadata": {},
     "output_type": "execute_result"
    }
   ],
   "source": [
    "#값 확인\n",
    "3 in a"
   ]
  },
  {
   "cell_type": "markdown",
   "id": "886071af-cc18-4795-b89f-6219f7b07226",
   "metadata": {},
   "source": [
    "#### 정렬하기\n",
    "- 리스트.sort() : 정렬 후 값 반환하지 않고 기존값 변경되어 있음\n",
    "- sorted(리스트, reverse) : 정렬된 복사본을 반환, 기존 값은 유지\n",
    "- list(reversed(리스트))"
   ]
  },
  {
   "cell_type": "code",
   "execution_count": 33,
   "id": "022282ed-0621-4548-9e5e-4fe01fb27727",
   "metadata": {},
   "outputs": [
    {
     "data": {
      "text/plain": [
       "([4, 3, 2, 1, 0], [4, 3, 2, 1, 0])"
      ]
     },
     "execution_count": 33,
     "metadata": {},
     "output_type": "execute_result"
    }
   ],
   "source": [
    "b = sorted(a, reverse=True)\n",
    "a, b"
   ]
  },
  {
   "cell_type": "code",
   "execution_count": 34,
   "id": "04081d25-98f1-4eb1-aef2-873875ae4792",
   "metadata": {},
   "outputs": [
    {
     "data": {
      "text/plain": [
       "[0, 1, 2, 3, 4]"
      ]
     },
     "execution_count": 34,
     "metadata": {},
     "output_type": "execute_result"
    }
   ],
   "source": [
    "b.sort()\n",
    "b"
   ]
  },
  {
   "cell_type": "code",
   "execution_count": 35,
   "id": "e4a41cfd-3187-48b2-babf-30859e41698f",
   "metadata": {},
   "outputs": [
    {
     "data": {
      "text/plain": [
       "[4, 3, 2, 1, 0]"
      ]
     },
     "execution_count": 35,
     "metadata": {},
     "output_type": "execute_result"
    }
   ],
   "source": [
    "b.reverse()\n",
    "b"
   ]
  },
  {
   "cell_type": "code",
   "execution_count": 37,
   "id": "3695a6a9-0fe4-4df0-ba8c-07e7e86a5340",
   "metadata": {},
   "outputs": [
    {
     "data": {
      "text/plain": [
       "[0, 1, 2, 3, 4]"
      ]
     },
     "execution_count": 37,
     "metadata": {},
     "output_type": "execute_result"
    }
   ],
   "source": [
    "c = list(reversed(b))"
   ]
  },
  {
   "cell_type": "markdown",
   "id": "c5014283-15b3-437c-8db2-c67215b7a796",
   "metadata": {},
   "source": [
    "#### 할당하기\n",
    "- =으로 할당힐 때에는 하나의 값이 변하면 같이 변함. 메모리 주소를 참조하고 있어서\n",
    "- shallow copy : 값이 안바뀌게 함\n",
    "    - a가 변해도 b가 변하지 않게 하는 복사\n",
    "    - 리스트.copy()\n",
    "    - list(리스트)\n",
    "- deep copy : 가변 객체가 아이템으로 올때 그것까지 바꾸지 X때 사용함\n",
    "    - 하위에 \n"
   ]
  },
  {
   "cell_type": "code",
   "execution_count": 38,
   "id": "167ff9f5-a411-490a-a06a-09f79ae5eee3",
   "metadata": {},
   "outputs": [
    {
     "data": {
      "text/plain": [
       "[4, 3, 2, 1, 0]"
      ]
     },
     "execution_count": 38,
     "metadata": {},
     "output_type": "execute_result"
    }
   ],
   "source": [
    "a"
   ]
  },
  {
   "cell_type": "code",
   "execution_count": 39,
   "id": "acc182cc-bf19-4866-a8fa-67d3b4783d94",
   "metadata": {},
   "outputs": [
    {
     "data": {
      "text/plain": [
       "[7, 3, 2, 1, 0]"
      ]
     },
     "execution_count": 39,
     "metadata": {},
     "output_type": "execute_result"
    }
   ],
   "source": [
    "b = a  #[0,1,2,3,4]에 a, b가 메모리 주소를 참조함\n",
    "b[0] = 7\n",
    "b"
   ]
  },
  {
   "cell_type": "code",
   "execution_count": 40,
   "id": "881e238b-3d9e-4b32-a601-d4e5c7d298f2",
   "metadata": {},
   "outputs": [
    {
     "data": {
      "text/plain": [
       "[7, 3, 2, 1, 0]"
      ]
     },
     "execution_count": 40,
     "metadata": {},
     "output_type": "execute_result"
    }
   ],
   "source": [
    "a  #a도 바뀜"
   ]
  },
  {
   "cell_type": "code",
   "execution_count": 41,
   "id": "9a7b550f-f170-4bd9-b404-63a600a0f859",
   "metadata": {},
   "outputs": [
    {
     "data": {
      "text/plain": [
       "(2876522346496, 2876522346496)"
      ]
     },
     "execution_count": 41,
     "metadata": {},
     "output_type": "execute_result"
    }
   ],
   "source": [
    "id(a), id(b)  #똑같음"
   ]
  },
  {
   "cell_type": "code",
   "execution_count": 43,
   "id": "9d9ca7e2-42e4-46c1-9567-2fcc8c448fba",
   "metadata": {},
   "outputs": [
    {
     "data": {
      "text/plain": [
       "(2876522346496, 2876522691520, 2876522256192, 2876521993984)"
      ]
     },
     "execution_count": 43,
     "metadata": {},
     "output_type": "execute_result"
    }
   ],
   "source": [
    "# shallow copy\n",
    "b = a.copy()\n",
    "c = list(a)\n",
    "d = a[:]\n",
    "id(a), id(b), id(c), id(d)  #다 같다"
   ]
  },
  {
   "cell_type": "code",
   "execution_count": 44,
   "id": "39751d19-183a-499e-b2fb-9afc4ca83bea",
   "metadata": {},
   "outputs": [
    {
     "data": {
      "text/plain": [
       "[7, 3, 2, 1, 0, [6, 7, 8]]"
      ]
     },
     "execution_count": 44,
     "metadata": {},
     "output_type": "execute_result"
    }
   ],
   "source": [
    "a.append([6, 7, 8])\n",
    "a"
   ]
  },
  {
   "cell_type": "code",
   "execution_count": 45,
   "id": "86ba001f-4b54-4bf6-9dcc-38caf9bbcb3e",
   "metadata": {},
   "outputs": [
    {
     "data": {
      "text/plain": [
       "[7, 3, 2, 1, 0, [6, 7, 8]]"
      ]
     },
     "execution_count": 45,
     "metadata": {},
     "output_type": "execute_result"
    }
   ],
   "source": [
    "e = a.copy()\n",
    "e"
   ]
  },
  {
   "cell_type": "code",
   "execution_count": 47,
   "id": "b395902a-6bd8-42e5-9977-cd93142f25ac",
   "metadata": {},
   "outputs": [
    {
     "data": {
      "text/plain": [
       "([7, 3, 2, 1, 0, [0, 7, 8]], [7, 3, 2, 1, 0, [0, 7, 8]])"
      ]
     },
     "execution_count": 47,
     "metadata": {},
     "output_type": "execute_result"
    }
   ],
   "source": [
    "a[-1][0] = 0\n",
    "a, e  #변함"
   ]
  },
  {
   "cell_type": "code",
   "execution_count": 48,
   "id": "52049850-4c1b-4323-902f-daab6be3af1e",
   "metadata": {},
   "outputs": [
    {
     "data": {
      "text/plain": [
       "[7, 3, 2, 1, 0, [0, 7, 8]]"
      ]
     },
     "execution_count": 48,
     "metadata": {},
     "output_type": "execute_result"
    }
   ],
   "source": [
    "import copy\n",
    "f = copy.deepcopy(a)\n",
    "f"
   ]
  },
  {
   "cell_type": "code",
   "execution_count": 49,
   "id": "15dba08d-a585-40b8-b199-9ce5be20e6c4",
   "metadata": {},
   "outputs": [
    {
     "data": {
      "text/plain": [
       "([7, 3, 2, 1, 0, [0, 7, 8]], [7, 3, 2, 1, 0, [0, 7, 9]])"
      ]
     },
     "execution_count": 49,
     "metadata": {},
     "output_type": "execute_result"
    }
   ],
   "source": [
    "f[-1][-1] = 9\n",
    "a, f"
   ]
  },
  {
   "cell_type": "markdown",
   "id": "4ade3824-6d87-482d-aaf4-9ee0662abde6",
   "metadata": {},
   "source": [
    "#### 순회하기\n",
    "- zip() : 여러 개 리스트 동시 순회\n",
    "- enumerate() : 인덱스도 함께 돌고자 할 때(list, range)\n",
    "- range()"
   ]
  },
  {
   "cell_type": "code",
   "execution_count": 54,
   "id": "0a57e69f-9682-413a-ac2b-7eeaf8dc3eed",
   "metadata": {},
   "outputs": [
    {
     "name": "stdout",
     "output_type": "stream",
     "text": [
      "(1, 'mon')\n",
      "(2, 'tue')\n",
      "(3, 'wed')\n"
     ]
    }
   ],
   "source": [
    "a = [1, 2, 3]\n",
    "b = ['mon', 'tue', 'wed', 'thu']  #zip()은 a와 b동시에 타게 해줌\n",
    "\n",
    "for itemA, itemB in zip(a, b):\n",
    "    print((itemA, itemB))"
   ]
  },
  {
   "cell_type": "code",
   "execution_count": 51,
   "id": "0ade2b1e-40ce-4b24-9812-e71a9a109e1d",
   "metadata": {},
   "outputs": [
    {
     "data": {
      "text/plain": [
       "[(1, 'mon'), (2, 'tue'), (3, 'wed')]"
      ]
     },
     "execution_count": 51,
     "metadata": {},
     "output_type": "execute_result"
    }
   ],
   "source": [
    "list(zip(a, b))"
   ]
  },
  {
   "cell_type": "code",
   "execution_count": 55,
   "id": "1574d6fa-759d-4868-ac8b-321254392474",
   "metadata": {},
   "outputs": [],
   "source": [
    "#for i in a :\n",
    "    #for j in b:  #이거랑 다름"
   ]
  },
  {
   "cell_type": "code",
   "execution_count": 59,
   "id": "cf87cede-c1bc-4f7a-b55b-3165607615b7",
   "metadata": {},
   "outputs": [
    {
     "name": "stdout",
     "output_type": "stream",
     "text": [
      "(0, 'mon')\n",
      "(1, 'tue')\n",
      "(2, 'wed')\n",
      "(3, 'thu')\n"
     ]
    }
   ],
   "source": [
    "for idx, itemA in enumerate(b):\n",
    "    print((idx, itemA))"
   ]
  },
  {
   "cell_type": "markdown",
   "id": "2019dc73-67eb-4d90-9393-187cd072fbc2",
   "metadata": {},
   "source": [
    "#### 리스트 컴프리핸션"
   ]
  },
  {
   "cell_type": "code",
   "execution_count": 60,
   "id": "f1245de4-4019-403a-b96b-e794e19d6d66",
   "metadata": {},
   "outputs": [
    {
     "data": {
      "text/plain": [
       "[(1, 'mon'), (2, 'tue'), (3, 'wed')]"
      ]
     },
     "execution_count": 60,
     "metadata": {},
     "output_type": "execute_result"
    }
   ],
   "source": [
    "ex = [(nal, day) for nal, day in zip(a, b)]\n",
    "ex"
   ]
  },
  {
   "cell_type": "markdown",
   "id": "b16e7116-4cc2-45fb-a08d-af5aa91bf0d2",
   "metadata": {},
   "source": [
    "#### 연습\n",
    "- 리스트 -> for문으로\n",
    "- for문을 사용하여 ex를 구현하기\n",
    "    - a, b"
   ]
  },
  {
   "cell_type": "code",
   "execution_count": null,
   "id": "54d73b8a-3d35-47a0-a3f6-9ba6b209fbe7",
   "metadata": {},
   "outputs": [],
   "source": [
    "ex = [(nal, day) for nal, day in zip(a, b)]"
   ]
  },
  {
   "cell_type": "code",
   "execution_count": 62,
   "id": "d5347467-a6e5-4d68-817f-867f0586cdbe",
   "metadata": {},
   "outputs": [
    {
     "data": {
      "text/plain": [
       "[(1, 'mon'), (2, 'tue'), (3, 'wed')]"
      ]
     },
     "execution_count": 62,
     "metadata": {},
     "output_type": "execute_result"
    }
   ],
   "source": [
    "result = []\n",
    "for nal, day in zip(a, b):\n",
    "    result.append((nal, day))  #감싸주는거 잊지마\n",
    "    \n",
    "result"
   ]
  },
  {
   "cell_type": "code",
   "execution_count": 65,
   "id": "3e0a4fc3-d489-4296-8bda-cbea9c8a56e9",
   "metadata": {},
   "outputs": [
    {
     "data": {
      "text/plain": [
       "[(1, 'mon'),\n",
       " (1, 'tue'),\n",
       " (1, 'wed'),\n",
       " (1, 'thu'),\n",
       " (2, 'mon'),\n",
       " (2, 'tue'),\n",
       " (2, 'wed'),\n",
       " (2, 'thu'),\n",
       " (3, 'mon'),\n",
       " (3, 'tue'),\n",
       " (3, 'wed'),\n",
       " (3, 'thu')]"
      ]
     },
     "execution_count": 65,
     "metadata": {},
     "output_type": "execute_result"
    }
   ],
   "source": [
    "#for day in b\n",
    "    #for nal in a 형태\n",
    "[(nal, day) for nal in a for day in b]  #날 따로 데이 따로 선언"
   ]
  },
  {
   "cell_type": "markdown",
   "id": "363dc366-5e70-4594-a3a7-e4a5bf0caa24",
   "metadata": {},
   "source": [
    "### 문제 1"
   ]
  },
  {
   "cell_type": "code",
   "execution_count": 2,
   "id": "6ee93c6b-562f-4d07-b841-0135a0e5426d",
   "metadata": {},
   "outputs": [],
   "source": [
    "sentence = \"don't judge a book by its cover\"\n",
    "# (대문자, 타이틀, 글자수) 형태로 저장된 리스트로 만들기"
   ]
  },
  {
   "cell_type": "code",
   "execution_count": 3,
   "id": "a7f4da27-04e4-4f77-9b19-52f705f8edd7",
   "metadata": {},
   "outputs": [
    {
     "data": {
      "text/plain": [
       "\"don't judge a book by its cover\""
      ]
     },
     "execution_count": 3,
     "metadata": {},
     "output_type": "execute_result"
    }
   ],
   "source": [
    "sentence"
   ]
  },
  {
   "cell_type": "code",
   "execution_count": 71,
   "id": "cce1ea95-1c3c-4b90-9afc-db8dd21e8298",
   "metadata": {},
   "outputs": [
    {
     "data": {
      "text/plain": [
       "[(\"DON'T\", \"Don'T\", 5),\n",
       " ('JUDGE', 'Judge', 5),\n",
       " ('A', 'A', 1),\n",
       " ('BOOK', 'Book', 4),\n",
       " ('BY', 'By', 2),\n",
       " ('ITS', 'Its', 3),\n",
       " ('COVER', 'Cover', 5)]"
      ]
     },
     "execution_count": 71,
     "metadata": {},
     "output_type": "execute_result"
    }
   ],
   "source": [
    "[(word.upper(), word.title(), len(word)) for word in sentence.split()]"
   ]
  },
  {
   "cell_type": "markdown",
   "id": "211e8345-507b-4a33-b30e-50635bb3998c",
   "metadata": {},
   "source": [
    "### 문제 2"
   ]
  },
  {
   "cell_type": "code",
   "execution_count": 74,
   "id": "5c842d7b-d1a9-4386-bce4-6f170be69d6b",
   "metadata": {},
   "outputs": [],
   "source": [
    "text = [\n",
    "    ['hello', 'guys'],\n",
    "    ['how', 'are', 'you']\n",
    "]\n"
   ]
  },
  {
   "cell_type": "markdown",
   "id": "d7bd4687-136d-4a14-b876-90177f33aa95",
   "metadata": {},
   "source": [
    "#### 2-1. 문장으로 구성된 리스트로 만들기\n",
    "    - ['hello guys', 'how are you']\n",
    "#### 2-2. 전체 단어를 하나의 리스트로 가져오기\n",
    "    - ['','','','','']\n",
    "#### 2-3. 전체를 스트링으로 가져오기\n",
    "    - 'hello guys how are you'"
   ]
  },
  {
   "cell_type": "code",
   "execution_count": 79,
   "id": "d3713ba9-72e9-4dd2-87f4-ae5ee078b95f",
   "metadata": {},
   "outputs": [
    {
     "data": {
      "text/plain": [
       "['hello guys', 'how are you']"
      ]
     },
     "execution_count": 79,
     "metadata": {},
     "output_type": "execute_result"
    }
   ],
   "source": [
    "#2-1\n",
    "#[sent for sent in text] #이게 기본형\n",
    "[' '.join(sent) for sent in text]"
   ]
  },
  {
   "cell_type": "code",
   "execution_count": 80,
   "id": "7572b1dc-8194-4c70-a334-5027dd8d8616",
   "metadata": {},
   "outputs": [
    {
     "name": "stdout",
     "output_type": "stream",
     "text": [
      "hello\n",
      "guys\n",
      "how\n",
      "are\n",
      "you\n"
     ]
    }
   ],
   "source": [
    "#2-2\n",
    "for sent in text:\n",
    "    for word in sent:\n",
    "        print(word)   #for문으로 전체를 돌았음"
   ]
  },
  {
   "cell_type": "code",
   "execution_count": 81,
   "id": "8c636084-a9e7-4ea0-8815-ee6a94e10817",
   "metadata": {},
   "outputs": [
    {
     "data": {
      "text/plain": [
       "['hello', 'guys', 'how', 'are', 'you']"
      ]
     },
     "execution_count": 81,
     "metadata": {},
     "output_type": "execute_result"
    }
   ],
   "source": [
    "[word for sent in text for word in sent]"
   ]
  },
  {
   "cell_type": "code",
   "execution_count": 83,
   "id": "3fcc5ddb-38e1-4b1e-a35c-79455fe62918",
   "metadata": {},
   "outputs": [
    {
     "data": {
      "text/plain": [
       "'hello guys how are you'"
      ]
     },
     "execution_count": 83,
     "metadata": {},
     "output_type": "execute_result"
    }
   ],
   "source": [
    "#2-3\n",
    "' '.join([word for sent in text for word in sent])"
   ]
  },
  {
   "cell_type": "markdown",
   "id": "7627728e-c4e8-414a-93c2-feb59db4df4d",
   "metadata": {},
   "source": [
    "### 과제"
   ]
  },
  {
   "cell_type": "markdown",
   "id": "1409eb3c-547b-4fab-8a2c-57b5f5dcdf84",
   "metadata": {},
   "source": [
    "brown.raw(categories='romance')[:5000]  \n",
    "\n",
    "브라운코퍼스에서 romance장르 raw 앞에서 5000개 선택\n",
    "- 문장 분절 있는 토큰 리스트로 만들기\n",
    "- 리스트컴프리핸션, 포문 사용해서 불필요한 것들 제거하기\n"
   ]
  }
 ],
 "metadata": {
  "kernelspec": {
   "display_name": "Python 3",
   "language": "python",
   "name": "python3"
  },
  "language_info": {
   "codemirror_mode": {
    "name": "ipython",
    "version": 3
   },
   "file_extension": ".py",
   "mimetype": "text/x-python",
   "name": "python",
   "nbconvert_exporter": "python",
   "pygments_lexer": "ipython3",
   "version": "3.8.8"
  }
 },
 "nbformat": 4,
 "nbformat_minor": 5
}
