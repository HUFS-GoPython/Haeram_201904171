{
 "cells": [
  {
   "cell_type": "markdown",
   "id": "cef2ab79-14d9-48e5-9b0b-8c0f56172be7",
   "metadata": {},
   "source": [
    "### 4주차 퀴즈 풀이"
   ]
  },
  {
   "cell_type": "code",
   "execution_count": null,
   "id": "7b14de0e-ae93-4e68-a59d-3c39522928d0",
   "metadata": {},
   "outputs": [],
   "source": [
    "import nltk\n",
    "from nltk. book import * \n",
    "nltk.download('book', quiet=True)\n",
    "\n",
    "words = list(set([words for words in text2 if words.endswith('ch')]))\n",
    "word = (word[0] + '-' * len(word) - 3) + 'ch' for word in words])\n"
   ]
  },
  {
   "cell_type": "code",
   "execution_count": 3,
   "id": "27a2939e-de62-40af-8c5d-9bcad017c579",
   "metadata": {
    "jupyter": {
     "source_hidden": true
    },
    "tags": []
   },
   "outputs": [
    {
     "name": "stdout",
     "output_type": "stream",
     "text": [
      "*** Introductory Examples for the NLTK Book ***\n",
      "Loading text1, ..., text9 and sent1, ..., sent9\n",
      "Type the name of the text or sentence to view it.\n",
      "Type: 'texts()' or 'sents()' to list the materials.\n",
      "text1: Moby Dick by Herman Melville 1851\n",
      "text2: Sense and Sensibility by Jane Austen 1811\n",
      "text3: The Book of Genesis\n",
      "text4: Inaugural Address Corpus\n",
      "text5: Chat Corpus\n",
      "text6: Monty Python and the Holy Grail\n",
      "text7: Wall Street Journal\n",
      "text8: Personals Corpus\n",
      "text9: The Man Who Was Thursday by G . K . Chesterton 1908\n"
     ]
    },
    {
     "data": {
      "text/plain": [
       "True"
      ]
     },
     "execution_count": 3,
     "metadata": {},
     "output_type": "execute_result"
    }
   ],
   "source": [
    "#1\n",
    "import nltk\n",
    "from nltk. book import * \n",
    "nltk.download('book', quiet=True)\n"
   ]
  },
  {
   "cell_type": "markdown",
   "id": "ff3efec3-a0c4-4a3c-b948-3772723b14c6",
   "metadata": {},
   "source": [
    "## 반복문\n",
    "- for, while\n",
    "\n",
    "### while문\n",
    "- 어떤 조건이 만족할 떄까지 블록 수행\n",
    "- 해당 조건이 거지이면 수행을 멈춘다\n",
    "    - 먼저 빠져나오는지 정확히 알아야 한다\n",
    "- for문 + if문 결합 형태\n",
    "\n",
    "#### for vs while\n",
    "- for loop : 반복 횟수 정확히 알고, 반복 횟수 변하지 않을 때\n",
    "    - 예 : 전체 학생 성적 산출\n",
    "- while loop : 반복 횟수 정확하지 않고, 어떤 조건을 만족시킬 때 프로그램 종료하고 싶다면 사용\n",
    "    예 : 가위바위보로 이기면 종료"
   ]
  },
  {
   "cell_type": "code",
   "execution_count": 5,
   "id": "729c5399-2a90-454a-aeee-c07a5d37c435",
   "metadata": {},
   "outputs": [
    {
     "name": "stdout",
     "output_type": "stream",
     "text": [
      "0\n",
      "1\n",
      "2\n",
      "3\n",
      "4\n",
      "5\n",
      "6\n",
      "7\n",
      "8\n",
      "9\n"
     ]
    }
   ],
   "source": [
    "for i in range(10):\n",
    "    print(i)"
   ]
  },
  {
   "cell_type": "code",
   "execution_count": null,
   "id": "118dea47-6ed6-441b-9de4-ccf0ec2e7012",
   "metadata": {},
   "outputs": [],
   "source": [
    "#[word for word in text1.tokens]  #여기서부터가 for loop\n",
    "\n",
    "for word in text1.tokens:\n",
    "    print(word)"
   ]
  },
  {
   "cell_type": "code",
   "execution_count": 9,
   "id": "27a3b4e4-2d11-4e12-baff-fadf8fa08af4",
   "metadata": {},
   "outputs": [
    {
     "name": "stdout",
     "output_type": "stream",
     "text": [
      "0\n",
      "1\n",
      "2\n",
      "3\n",
      "4\n"
     ]
    }
   ],
   "source": [
    "j=0  #초기화 작업 필요\n",
    "while j < 5:  #0,1,2,3,4\n",
    "    print(j)   #0,1,2,3,4\n",
    "    j += 1     #0,1,2,3,4,5"
   ]
  },
  {
   "cell_type": "code",
   "execution_count": 10,
   "id": "b2cca9da-585c-4455-a7be-024548e808e1",
   "metadata": {},
   "outputs": [
    {
     "data": {
      "text/plain": [
       "5"
      ]
     },
     "execution_count": 10,
     "metadata": {},
     "output_type": "execute_result"
    }
   ],
   "source": [
    "j"
   ]
  },
  {
   "cell_type": "code",
   "execution_count": 12,
   "id": "7fc87629-cbd8-4389-b54c-e66a0569dc2e",
   "metadata": {},
   "outputs": [
    {
     "name": "stdout",
     "output_type": "stream",
     "text": [
      "a\n",
      "b\n",
      "c\n"
     ]
    }
   ],
   "source": [
    "characters = ['a','b','c']\n",
    "for ch in characters:\n",
    "    print(ch)"
   ]
  },
  {
   "cell_type": "code",
   "execution_count": 16,
   "id": "0745924e-268b-4c54-a058-2f20b26074a8",
   "metadata": {},
   "outputs": [
    {
     "name": "stdout",
     "output_type": "stream",
     "text": [
      "a\n",
      "b\n",
      "c\n"
     ]
    }
   ],
   "source": [
    "#while문으로 바꾸기\n",
    "\n",
    "ch = 0\n",
    "while ch < len(characters):\n",
    "    print(characters[ch])\n",
    "    ch+=1"
   ]
  },
  {
   "cell_type": "markdown",
   "id": "4550e3a6-02ca-4fa8-ae30-d77d552152b8",
   "metadata": {},
   "source": [
    "### 반복문의 제어\n",
    "- 의도치 않게 코드를 종료시킬 수 있기 때문에 되도로 사용하지 않는다.\n",
    "\n",
    "- break : 논리적으로 반복을 종료시키는 방법 \n",
    "- else : 어떤 조건이 \"완전히\" 끝났을 때 한번 더 싱행하는 블록. break로 끝난 것과 구분 가능\n",
    "- continue : 특정 조건을 건너뛰고 다음 조건을 수정함\n",
    " "
   ]
  },
  {
   "cell_type": "code",
   "execution_count": 24,
   "id": "776a06fb-4f5b-41d6-a1d7-be1dccf6a332",
   "metadata": {},
   "outputs": [
    {
     "name": "stdout",
     "output_type": "stream",
     "text": [
      "0\n",
      "1\n",
      "2\n",
      "3\n",
      "4\n"
     ]
    }
   ],
   "source": [
    "for i in range(10):\n",
    "    if i == 5:break\n",
    "    print(i)"
   ]
  },
  {
   "cell_type": "code",
   "execution_count": 26,
   "id": "dec88e08-7c7a-4bf2-bed7-2fe710fba9d1",
   "metadata": {},
   "outputs": [
    {
     "name": "stdout",
     "output_type": "stream",
     "text": [
      "0\n",
      "1\n",
      "2\n",
      "3\n",
      "4\n"
     ]
    }
   ],
   "source": [
    "j = 0\n",
    "while j<5:\n",
    "    print(j)\n",
    "    if j == 4:\n",
    "        break\n",
    "    j += 1"
   ]
  },
  {
   "cell_type": "code",
   "execution_count": 23,
   "id": "fdfb6c09-630f-431e-8eaa-6428e62b9ea5",
   "metadata": {},
   "outputs": [
    {
     "name": "stdout",
     "output_type": "stream",
     "text": [
      "0\n",
      "1\n",
      "2\n",
      "3\n",
      "4\n"
     ]
    }
   ],
   "source": [
    "for i in range(10):\n",
    "    if i == 5:\n",
    "        break\n",
    "    print(i)\n",
    "else:\n",
    "    print(\"end\")"
   ]
  },
  {
   "cell_type": "code",
   "execution_count": 25,
   "id": "d5b108c7-4f5f-48ce-b491-b859e098097d",
   "metadata": {},
   "outputs": [
    {
     "name": "stdout",
     "output_type": "stream",
     "text": [
      "0\n",
      "1\n",
      "2\n",
      "3\n",
      "4\n",
      "5\n",
      "7\n",
      "8\n",
      "9\n",
      "ended\n"
     ]
    }
   ],
   "source": [
    "for i in range(10):\n",
    "    if i == 6:\n",
    "        continue\n",
    "    print(i)\n",
    "else:\n",
    "    print(\"ended\")"
   ]
  },
  {
   "cell_type": "code",
   "execution_count": null,
   "id": "ffe2c201-20ea-4a4e-b459-14aefae4fad9",
   "metadata": {},
   "outputs": [],
   "source": []
  },
  {
   "cell_type": "markdown",
   "id": "2e75e7f2-282b-4ec7-b398-679f88b2d53e",
   "metadata": {},
   "source": [
    "### 구구단\n",
    "- 1. for, while 선택한 뒤, n단을 입력받아서 n단을 출력한다.\n",
    "    - 출력: == 3단 ==\n",
    "            3 X 1 = 3\n",
    "            3 X 2 = 6\n",
    "            .\n",
    "            .\n",
    "            .\n",
    "            3 X 9 = 27\n",
    "- 2. 1 ~ n단까지 출력한다.\n",
    "- 3. 시작단, 끝단 둘다 입력받을 것\n",
    "    - 예 : 4단~7단\n",
    "- 4. 프로그램으로 만든다"
   ]
  },
  {
   "cell_type": "code",
   "execution_count": 10,
   "id": "d71fdc38-eac7-4029-adaa-806c1c702748",
   "metadata": {},
   "outputs": [
    {
     "name": "stdin",
     "output_type": "stream",
     "text": [
      "단을 입력하세요:  1\n"
     ]
    },
    {
     "name": "stdout",
     "output_type": "stream",
     "text": [
      "==1단==\n",
      "3 x 1 =3\n",
      "3 x 2 =6\n",
      "3 x 3 =9\n",
      "3 x 4 =12\n",
      "3 x 5 =15\n",
      "3 x 6 =18\n",
      "3 x 7 =21\n",
      "3 x 8 =24\n",
      "3 x 9 =27\n"
     ]
    }
   ],
   "source": [
    "# 1 \n",
    "num = int(input(\"단을 입력하세요: \"))\n",
    "print(f'=={num}단==')\n",
    "for j in range(1, 10):\n",
    "    print(f'{i} x {j} ={i * j}')\n",
    "    "
   ]
  },
  {
   "cell_type": "code",
   "execution_count": 7,
   "id": "a0e792d5-c2c1-4e93-8f23-ec32b31e53cc",
   "metadata": {},
   "outputs": [
    {
     "name": "stdin",
     "output_type": "stream",
     "text": [
      "몇 단까지 출력할까요?  3\n"
     ]
    },
    {
     "name": "stdout",
     "output_type": "stream",
     "text": [
      "==2단 ==\n",
      "2 x 1 = 2\n",
      "2 x 2 = 4\n",
      "2 x 3 = 6\n",
      "2 x 4 = 8\n",
      "2 x 5 = 10\n",
      "2 x 6 = 12\n",
      "2 x 7 = 14\n",
      "2 x 8 = 16\n",
      "2 x 9 = 18\n",
      "==3단 ==\n",
      "3 x 1 = 3\n",
      "3 x 2 = 6\n",
      "3 x 3 = 9\n",
      "3 x 4 = 12\n",
      "3 x 5 = 15\n",
      "3 x 6 = 18\n",
      "3 x 7 = 21\n",
      "3 x 8 = 24\n",
      "3 x 9 = 27\n"
     ]
    }
   ],
   "source": [
    "#2\n",
    "n = int(input(\"몇 단까지 출력할까요? \"))\n",
    "for i in range(1, n+1):\n",
    "    print(f'=={i}단 ==')\n",
    "    for j in range(1, 10):\n",
    "        print(f'{i} x {j} = {i * j}')"
   ]
  },
  {
   "cell_type": "code",
   "execution_count": 2,
   "id": "e03e922e-4dbf-467b-a58d-3af4898d0c2c",
   "metadata": {},
   "outputs": [
    {
     "name": "stdin",
     "output_type": "stream",
     "text": [
      "시작단을 입력하세요:  3\n",
      "끝단을 입력하세요:  5\n"
     ]
    },
    {
     "name": "stdout",
     "output_type": "stream",
     "text": [
      "======3단======\n",
      "3 * 1 = 3\n",
      "3 * 2 = 6\n",
      "3 * 3 = 9\n",
      "3 * 4 = 12\n",
      "3 * 5 = 15\n",
      "3 * 6 = 18\n",
      "3 * 7 = 21\n",
      "3 * 8 = 24\n",
      "3 * 9 = 27\n",
      "======4단======\n",
      "4 * 1 = 4\n",
      "4 * 2 = 8\n",
      "4 * 3 = 12\n",
      "4 * 4 = 16\n",
      "4 * 5 = 20\n",
      "4 * 6 = 24\n",
      "4 * 7 = 28\n",
      "4 * 8 = 32\n",
      "4 * 9 = 36\n",
      "======5단======\n",
      "5 * 1 = 5\n",
      "5 * 2 = 10\n",
      "5 * 3 = 15\n",
      "5 * 4 = 20\n",
      "5 * 5 = 25\n",
      "5 * 6 = 30\n",
      "5 * 7 = 35\n",
      "5 * 8 = 40\n",
      "5 * 9 = 45\n",
      "==================\n"
     ]
    }
   ],
   "source": [
    "#3. 시작단, 끝단 둘다 입력받기\n",
    "start_dan = int(input(\"시작단을 입력하세요: \"))\n",
    "finish_dan = int(input(\"끝단을 입력하세요: \"))\n",
    "\n",
    "if start_dan <= finish_dan:\n",
    "    for n in range(start_dan, finish_dan+1):\n",
    "        print(f'======{n}단======')\n",
    "        for x in range(1,10):\n",
    "            print(f'{n} * {x} = {n*x}')\n",
    "    else:\n",
    "        print('==================')\n",
    "else:\n",
    "    print(\"범위를 잘못 입력했습니다.\")\n"
   ]
  },
  {
   "cell_type": "code",
   "execution_count": null,
   "id": "1444a7b3-9b5c-4dde-97d3-1f58af2ed461",
   "metadata": {},
   "outputs": [],
   "source": []
  },
  {
   "cell_type": "code",
   "execution_count": null,
   "id": "514dffec-5fce-48c4-bd7e-7a5b7cc036a6",
   "metadata": {
    "tags": []
   },
   "outputs": [],
   "source": [
    "# price formating\n",
    "- 1. f'string\n",
    "    - f, F 가능\n",
    "    - f'{var}\n",
    "- 2. format\n",
    "    - '{}'.format(var)\n",
    "- 3. % 얘는 구식\n",
    "    -'%'\n"
   ]
  },
  {
   "cell_type": "code",
   "execution_count": 11,
   "id": "c00528f3-0ab9-4cb9-b522-cf87f782db1f",
   "metadata": {},
   "outputs": [
    {
     "name": "stdout",
     "output_type": "stream",
     "text": [
      "나의 이름은 Ann이다.\n"
     ]
    }
   ],
   "source": [
    "name = 'Ann'\n",
    "print(f'나의 이름은 {name}이다.')"
   ]
  },
  {
   "cell_type": "code",
   "execution_count": 13,
   "id": "d8339edb-94c3-41c6-9191-a58ca5dbacf2",
   "metadata": {},
   "outputs": [
    {
     "name": "stdout",
     "output_type": "stream",
     "text": [
      "나의 이름은 Ann이다\n"
     ]
    }
   ],
   "source": [
    "print('나의 이름은 {}이다'.format(name))"
   ]
  },
  {
   "cell_type": "code",
   "execution_count": null,
   "id": "c9ae3bc8-62af-4bbe-bc1d-b913025cba4e",
   "metadata": {},
   "outputs": [],
   "source": []
  },
  {
   "cell_type": "code",
   "execution_count": 4,
   "id": "4a287af6-2e85-4b2e-b6f7-bb112882dde8",
   "metadata": {},
   "outputs": [
    {
     "data": {
      "text/plain": [
       "True"
      ]
     },
     "execution_count": 4,
     "metadata": {},
     "output_type": "execute_result"
    }
   ],
   "source": [
    "import nltk\n",
    "from nltk.corpus import gutenberg\n",
    "nltk.download('gutenberg', quiet=True)"
   ]
  },
  {
   "cell_type": "markdown",
   "id": "1af0cd2f-72e9-4e0f-b01d-0e87009ad9f4",
   "metadata": {},
   "source": [
    "### NLTK : Corpus  #여기 다시공부하기\n",
    "- 다양한 종류의 코퍼스가 있다(테마)\n",
    "- 더 다양한 언어 분석이 가능\n",
    "- 종류\n",
    "    - gutenberg\n",
    "    - brown\n",
    "    - inaugural\n",
    "- 함수\n",
    "    - words()\n",
    "    - sents()\n",
    "    - fileids()\n",
    "    - raw()"
   ]
  },
  {
   "cell_type": "code",
   "execution_count": 7,
   "id": "a7236d6e-0437-4fba-b62d-2c36361d502a",
   "metadata": {},
   "outputs": [
    {
     "data": {
      "text/plain": [
       "['[', 'Emma', 'by', 'Jane', 'Austen', '1816', ']', ...]"
      ]
     },
     "execution_count": 7,
     "metadata": {},
     "output_type": "execute_result"
    }
   ],
   "source": [
    "gutenberg.words(['austen-emma.txt',\n",
    " 'austen-persuasion.txt'])"
   ]
  },
  {
   "cell_type": "code",
   "execution_count": 6,
   "id": "db3d1c0e-c43b-4066-95a5-7c91cc955881",
   "metadata": {},
   "outputs": [
    {
     "data": {
      "text/plain": [
       "['austen-emma.txt',\n",
       " 'austen-persuasion.txt',\n",
       " 'austen-sense.txt',\n",
       " 'bible-kjv.txt',\n",
       " 'blake-poems.txt',\n",
       " 'bryant-stories.txt',\n",
       " 'burgess-busterbrown.txt',\n",
       " 'carroll-alice.txt',\n",
       " 'chesterton-ball.txt',\n",
       " 'chesterton-brown.txt',\n",
       " 'chesterton-thursday.txt',\n",
       " 'edgeworth-parents.txt',\n",
       " 'melville-moby_dick.txt',\n",
       " 'milton-paradise.txt',\n",
       " 'shakespeare-caesar.txt',\n",
       " 'shakespeare-hamlet.txt',\n",
       " 'shakespeare-macbeth.txt',\n",
       " 'whitman-leaves.txt']"
      ]
     },
     "execution_count": 6,
     "metadata": {},
     "output_type": "execute_result"
    }
   ],
   "source": [
    "gutenberg.fileids()"
   ]
  },
  {
   "cell_type": "code",
   "execution_count": null,
   "id": "f803efa4-98e6-4f0e-87ab-05391f24edbc",
   "metadata": {},
   "outputs": [],
   "source": [
    "# 구텐버그의 각 파일을 돌아가면서 글자 수, 단어 수, 문장 수를 출력합니다.\n",
    "\"\"\"\n",
    "austen-emma 글자 수 = 12개, 단어 수 = 14개, 문장 수 = 15개\n",
    "...\n",
    "\"\"\"\n",
    "#words / sen / raw 사용? / txt빼기 [:-4]"
   ]
  },
  {
   "cell_type": "code",
   "execution_count": 15,
   "id": "8c10779f-3e2e-4604-9d4b-c062e49943c8",
   "metadata": {
    "collapsed": true,
    "jupyter": {
     "outputs_hidden": true
    },
    "tags": []
   },
   "outputs": [
    {
     "name": "stdout",
     "output_type": "stream",
     "text": [
      "austen-emma | 글자 수 = 887071개, 단어수 = 192427개, 문장 수 = 7752개\n",
      "austen-persuasion | 글자 수 = 466292개, 단어수 = 98171개, 문장 수 = 3747개\n",
      "austen-sense | 글자 수 = 673022개, 단어수 = 141576개, 문장 수 = 4999개\n",
      "bible-kjv | 글자 수 = 4332554개, 단어수 = 1010654개, 문장 수 = 30103개\n",
      "blake-poems | 글자 수 = 38153개, 단어수 = 8354개, 문장 수 = 438개\n",
      "bryant-stories | 글자 수 = 249439개, 단어수 = 55563개, 문장 수 = 2863개\n",
      "burgess-busterbrown | 글자 수 = 84663개, 단어수 = 18963개, 문장 수 = 1054개\n",
      "carroll-alice | 글자 수 = 144395개, 단어수 = 34110개, 문장 수 = 1703개\n",
      "chesterton-ball | 글자 수 = 457450개, 단어수 = 96996개, 문장 수 = 4779개\n",
      "chesterton-brown | 글자 수 = 406629개, 단어수 = 86063개, 문장 수 = 3806개\n",
      "chesterton-thursday | 글자 수 = 320525개, 단어수 = 69213개, 문장 수 = 3742개\n",
      "edgeworth-parents | 글자 수 = 935158개, 단어수 = 210663개, 문장 수 = 10230개\n",
      "melville-moby_dick | 글자 수 = 1242990개, 단어수 = 260819개, 문장 수 = 10059개\n",
      "milton-paradise | 글자 수 = 468220개, 단어수 = 96825개, 문장 수 = 1851개\n",
      "shakespeare-caesar | 글자 수 = 112310개, 단어수 = 25833개, 문장 수 = 2163개\n",
      "shakespeare-hamlet | 글자 수 = 162881개, 단어수 = 37360개, 문장 수 = 3106개\n",
      "shakespeare-macbeth | 글자 수 = 100351개, 단어수 = 23140개, 문장 수 = 1907개\n",
      "whitman-leaves | 글자 수 = 711215개, 단어수 = 154883개, 문장 수 = 4250개\n"
     ]
    }
   ],
   "source": [
    "for fileid in gutenberg.fileids():\n",
    "    num_chars = len(gutenberg.raw(fileid))\n",
    "    num_words = len(gutenberg.words(fileid))\n",
    "    num_sents = len(gutenberg.sents(fileid))\n",
    "    print(f'{fileid[:-4]} | 글자 수 = {num_chars}개, 단어수 = {num_words}개, 문장 수 = {num_sents}개')\n",
    "    "
   ]
  },
  {
   "cell_type": "code",
   "execution_count": 24,
   "id": "d403e0a8-032a-4cc5-9fbc-7c088484467b",
   "metadata": {},
   "outputs": [],
   "source": [
    "corpus1 = gutenberg.words(fileids='whitman-leaves.txt')\n",
    "fdist = nltk.FreqDist([w.lower() for w in corpus1])"
   ]
  },
  {
   "cell_type": "code",
   "execution_count": 17,
   "id": "7d69cf78-aa05-4e74-9969-683f989026dc",
   "metadata": {},
   "outputs": [
    {
     "data": {
      "text/plain": [
       "27"
      ]
     },
     "execution_count": 17,
     "metadata": {},
     "output_type": "execute_result"
    }
   ],
   "source": [
    "fdist['tree']"
   ]
  },
  {
   "cell_type": "markdown",
   "id": "a1edfd5d-3bf9-432a-8746-61d6b17e45cd",
   "metadata": {},
   "source": [
    "### Brown\n",
    "- categories()"
   ]
  },
  {
   "cell_type": "code",
   "execution_count": 18,
   "id": "40eb1a82-6b36-40cd-86ae-b9ec9e879e9e",
   "metadata": {},
   "outputs": [
    {
     "name": "stderr",
     "output_type": "stream",
     "text": [
      "[nltk_data] Downloading package brown to\n",
      "[nltk_data]     C:\\Users\\blubl\\AppData\\Roaming\\nltk_data...\n",
      "[nltk_data]   Package brown is already up-to-date!\n"
     ]
    }
   ],
   "source": [
    "#for nltk copus import brown이걸 이름설정해서 바꿀 수 있음\n",
    "nltk.download('brown')\n",
    "brown_corpus = nltk.corpus.brown"
   ]
  },
  {
   "cell_type": "code",
   "execution_count": 19,
   "id": "81c072c5-78d8-411c-94c3-dcc243399ef9",
   "metadata": {},
   "outputs": [
    {
     "data": {
      "text/plain": [
       "['adventure',\n",
       " 'belles_lettres',\n",
       " 'editorial',\n",
       " 'fiction',\n",
       " 'government',\n",
       " 'hobbies',\n",
       " 'humor',\n",
       " 'learned',\n",
       " 'lore',\n",
       " 'mystery',\n",
       " 'news',\n",
       " 'religion',\n",
       " 'reviews',\n",
       " 'romance',\n",
       " 'science_fiction']"
      ]
     },
     "execution_count": 19,
     "metadata": {},
     "output_type": "execute_result"
    }
   ],
   "source": [
    "brown_corpus.categories()"
   ]
  },
  {
   "cell_type": "code",
   "execution_count": 21,
   "id": "6fb79b58-d67e-44a1-b731-f9b75dadee89",
   "metadata": {},
   "outputs": [
    {
     "data": {
      "text/plain": [
       "['It', 'was', 'among', 'these', 'that', 'Hinkle', ...]"
      ]
     },
     "execution_count": 21,
     "metadata": {},
     "output_type": "execute_result"
    }
   ],
   "source": [
    "brown_corpus.words(categories='humor') #유머 카테고리"
   ]
  },
  {
   "cell_type": "code",
   "execution_count": 23,
   "id": "f024c2c5-c4cb-48d3-bb73-95198d1e7ff8",
   "metadata": {},
   "outputs": [
    {
     "ename": "NameError",
     "evalue": "name 'humor' is not defined",
     "output_type": "error",
     "traceback": [
      "\u001b[1;31m---------------------------------------------------------------------------\u001b[0m",
      "\u001b[1;31mNameError\u001b[0m                                 Traceback (most recent call last)",
      "\u001b[1;32m<ipython-input-23-be9991145631>\u001b[0m in \u001b[0;36m<module>\u001b[1;34m\u001b[0m\n\u001b[0;32m      2\u001b[0m \u001b[0mmodals\u001b[0m \u001b[1;33m=\u001b[0m \u001b[1;33m[\u001b[0m\u001b[1;34m'can'\u001b[0m\u001b[1;33m,\u001b[0m\u001b[1;34m'could'\u001b[0m\u001b[1;33m,\u001b[0m \u001b[1;34m'may'\u001b[0m\u001b[1;33m,\u001b[0m \u001b[1;34m'might'\u001b[0m\u001b[1;33m,\u001b[0m \u001b[1;34m'will'\u001b[0m\u001b[1;33m,\u001b[0m \u001b[1;34m'would'\u001b[0m\u001b[1;33m]\u001b[0m\u001b[1;33m\u001b[0m\u001b[1;33m\u001b[0m\u001b[0m\n\u001b[0;32m      3\u001b[0m \u001b[1;33m\u001b[0m\u001b[0m\n\u001b[1;32m----> 4\u001b[1;33m \u001b[0mfdist_brown\u001b[0m \u001b[1;33m=\u001b[0m \u001b[0mnltk\u001b[0m\u001b[1;33m.\u001b[0m\u001b[0mFreqDist\u001b[0m\u001b[1;33m(\u001b[0m\u001b[1;33m[\u001b[0m\u001b[0mw\u001b[0m\u001b[1;33m.\u001b[0m\u001b[0mlower\u001b[0m\u001b[1;33m(\u001b[0m\u001b[1;33m)\u001b[0m \u001b[1;32mfor\u001b[0m \u001b[0mw\u001b[0m \u001b[1;32min\u001b[0m \u001b[0mhumor\u001b[0m\u001b[1;33m]\u001b[0m\u001b[1;33m)\u001b[0m\u001b[1;33m\u001b[0m\u001b[1;33m\u001b[0m\u001b[0m\n\u001b[0m\u001b[0;32m      5\u001b[0m \u001b[1;33m\u001b[0m\u001b[0m\n\u001b[0;32m      6\u001b[0m \u001b[1;32mfor\u001b[0m \u001b[0mverb\u001b[0m \u001b[1;32min\u001b[0m \u001b[0mmodals\u001b[0m\u001b[1;33m:\u001b[0m\u001b[1;33m\u001b[0m\u001b[1;33m\u001b[0m\u001b[0m\n",
      "\u001b[1;31mNameError\u001b[0m: name 'humor' is not defined"
     ]
    }
   ],
   "source": [
    "# modal verbs 쓰임\n",
    "modals = ['can','could', 'may', 'might', 'will', 'would']\n",
    "\n",
    "fdist_brown = nltk.FreqDist([w.lower() for w in humor])\n",
    "\n",
    "for verb in modals:\n",
    "    print(verb, fdist_brown[verb])"
   ]
  },
  {
   "cell_type": "markdown",
   "id": "dcaeb142-369c-4e92-98d0-1c7e764b9730",
   "metadata": {},
   "source": [
    "### conditional frequency distribution (CFD)\n",
    "- 조건이 붙은 fdist"
   ]
  },
  {
   "cell_type": "code",
   "execution_count": 27,
   "id": "20cfd886-f511-4121-a6d3-2772722184d7",
   "metadata": {},
   "outputs": [],
   "source": [
    "cfd = nltk.ConditionalFreqDist(\n",
    "    #genre에 따른 Dist\n",
    "    (genre, word.lower())\n",
    "    for genre in brown_corpus.categories()\n",
    "    for word in brown_corpus.words(categories=genre)\n",
    ")"
   ]
  },
  {
   "cell_type": "code",
   "execution_count": null,
   "id": "1b4b146d-065f-4661-9bde-3875cb30c326",
   "metadata": {},
   "outputs": [],
   "source": [
    "cfd['adventure'].most_common(10)"
   ]
  },
  {
   "cell_type": "code",
   "execution_count": 30,
   "id": "ff7611ae-9e73-41a3-a070-770ce969180e",
   "metadata": {},
   "outputs": [
    {
     "name": "stdout",
     "output_type": "stream",
     "text": [
      "                 can could   may might  will would \n",
      "     adventure    48   154     7    59    51   194 \n",
      "belles_lettres   249   216   221   113   246   397 \n",
      "     editorial   124    57    79    39   235   185 \n"
     ]
    }
   ],
   "source": [
    "cfd.tabulate(conditions=brown_corpus.categories()[:3], samples=modals)"
   ]
  },
  {
   "cell_type": "code",
   "execution_count": null,
   "id": "9e942242-1553-4677-8824-eb3103bf9d16",
   "metadata": {},
   "outputs": [],
   "source": []
  },
  {
   "cell_type": "code",
   "execution_count": null,
   "id": "5a7f7e1d-bac6-4a6a-8464-ee48fe3e7b56",
   "metadata": {},
   "outputs": [],
   "source": []
  },
  {
   "cell_type": "code",
   "execution_count": null,
   "id": "2f51d409-ddb5-4f2d-a27a-2552ee6746d8",
   "metadata": {},
   "outputs": [],
   "source": []
  },
  {
   "cell_type": "code",
   "execution_count": null,
   "id": "6b806341-244c-410f-a1b2-f9148fbc7f4f",
   "metadata": {},
   "outputs": [],
   "source": []
  }
 ],
 "metadata": {
  "kernelspec": {
   "display_name": "Python 3",
   "language": "python",
   "name": "python3"
  },
  "language_info": {
   "codemirror_mode": {
    "name": "ipython",
    "version": 3
   },
   "file_extension": ".py",
   "mimetype": "text/x-python",
   "name": "python",
   "nbconvert_exporter": "python",
   "pygments_lexer": "ipython3",
   "version": "3.8.8"
  }
 },
 "nbformat": 4,
 "nbformat_minor": 5
}
