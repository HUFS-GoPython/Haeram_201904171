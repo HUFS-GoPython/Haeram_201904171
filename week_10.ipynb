{
 "cells": [
  {
   "cell_type": "markdown",
   "id": "abbd791b",
   "metadata": {},
   "source": [
    "### 팀 프로젝트 복습"
   ]
  },
  {
   "cell_type": "code",
   "execution_count": 2,
   "id": "9141a001",
   "metadata": {},
   "outputs": [],
   "source": [
    "from collections import defaultdict"
   ]
  },
  {
   "cell_type": "markdown",
   "id": "c84808cd",
   "metadata": {},
   "source": [
    "### defaultdict\n",
    "- 값이 없으면 0으로 설정될 수 있게 해주는 딕셔너리\n",
    "- defaultdict(list) 선언시 빈 리스트가 디폴트 값 []"
   ]
  },
  {
   "cell_type": "code",
   "execution_count": 7,
   "id": "224ce951",
   "metadata": {},
   "outputs": [
    {
     "data": {
      "text/plain": [
       "{'d': 2, 'a': 2, 'f': 1, 'l': 1, 'u': 1, 't': 2, 'i': 1, 'c': 1}"
      ]
     },
     "execution_count": 7,
     "metadata": {},
     "output_type": "execute_result"
    }
   ],
   "source": [
    "letter = 'dafaultdict'\n",
    "empty = {}\n",
    "for ch in letter:\n",
    "    #if empty[ch] = 0\n",
    "    #else 값을 넣어라\n",
    "    empty.setdefault(ch, 0) #a가 없으면 기본값으로 0을 넣어라\n",
    "    empty[ch] += 1\n",
    "    \n",
    "empty"
   ]
  },
  {
   "cell_type": "code",
   "execution_count": 9,
   "id": "e535c4f4",
   "metadata": {},
   "outputs": [
    {
     "data": {
      "text/plain": [
       "defaultdict(int,\n",
       "            {'d': 2, 'a': 2, 'f': 1, 'l': 1, 'u': 1, 't': 2, 'i': 1, 'c': 1})"
      ]
     },
     "execution_count": 9,
     "metadata": {},
     "output_type": "execute_result"
    }
   ],
   "source": [
    "# 위 코드를 더 짧게\n",
    "empty2 = defaultdict(int)\n",
    "for ch in letter:\n",
    "    empty2[ch] += 1\n",
    "    \n",
    "empty2"
   ]
  },
  {
   "cell_type": "markdown",
   "id": "87463076",
   "metadata": {},
   "source": [
    "## Object & Class 객체와 클래스\n",
    "- 객체란, 실체가 있는 물건이나 개념이다.\n",
    "- 프로그래밍에서의 객체는 (필요한/쓸) 속성과 행동을 가지는 개념이다.\n",
    "- ex.자동차 (실체o)\n",
    "    - 속성 : 엔진, 브랜드, 가격, 색상.... ==> 변수\n",
    "    - 행동 : 나가다, 정차하다, 자회전...  ==> 메서드 (함수)\n",
    "- ex.고양이 (실체o)\n",
    "    - 속성 : 종, 이름, 컬러, 몸무게...\n",
    "    - 행동 : 뛰다, 걷다, 째려보다, 물다....\n",
    "- ex. 사전\n",
    "    - 속성 : 글자 수, 시작 글자, 출현 빈도수....\n",
    "    - 행동 : 추가하다, 제외하다...\n",
    "- 관련 짓는 방법\n",
    "    - '사람'이  '상점'에 가서           '물건'을 삼\n",
    "    - 이름, 돈 / 재고, 이득, 고객명단 / 브랜드, 이름, 가격\n",
    "    - 사다 / 회원을 등록하다, 팔다, 수익계산 /\n",
    "- 객체 사용 이유 : 코드 재사용 수월"
   ]
  },
  {
   "cell_type": "markdown",
   "id": "cf4b154a",
   "metadata": {},
   "source": [
    "### 클래스\n",
    "- 객체가 가져야 할 기본 정보를 담은 코드\n",
    "- 설계도, 틈, 프레임워크\n",
    "- 붕어빵의 틀\n",
    "    - 붕어빵 == 인스턴스\n",
    "- 'class Car:'\n",
    "    - 클래스명은 카멜표기법을 쓴다 (언더바 안씀)"
   ]
  },
  {
   "cell_type": "code",
   "execution_count": 10,
   "id": "1197740a",
   "metadata": {},
   "outputs": [
    {
     "data": {
      "text/plain": [
       "<__main__.Car at 0x22e7d3f61c0>"
      ]
     },
     "execution_count": 10,
     "metadata": {},
     "output_type": "execute_result"
    }
   ],
   "source": [
    "# 정의\n",
    "class Car:\n",
    "    pass #비어있다\n",
    "\n",
    "# 선언 => 꼭 괄호 사용!\n",
    "car1 = Car()\n",
    "car1"
   ]
  },
  {
   "cell_type": "code",
   "execution_count": 11,
   "id": "fa0082dc",
   "metadata": {},
   "outputs": [
    {
     "data": {
      "text/plain": [
       "<__main__.Car at 0x22e7d3f6850>"
      ]
     },
     "execution_count": 11,
     "metadata": {},
     "output_type": "execute_result"
    }
   ],
   "source": [
    "car2 = Car()\n",
    "car2  #다른곳에 저장되어 있지만 값은 같다"
   ]
  },
  {
   "cell_type": "code",
   "execution_count": 12,
   "id": "c00f49dd",
   "metadata": {},
   "outputs": [
    {
     "data": {
      "text/plain": [
       "__main__.Car"
      ]
     },
     "execution_count": 12,
     "metadata": {},
     "output_type": "execute_result"
    }
   ],
   "source": [
    "# 타입 확인하기\n",
    "type(car2)"
   ]
  },
  {
   "cell_type": "code",
   "execution_count": 17,
   "id": "87130148",
   "metadata": {},
   "outputs": [],
   "source": [
    "# 속성을 정함\n",
    "car1.brand = 'mercedes'\n",
    "car2.brand = 'kia'"
   ]
  },
  {
   "cell_type": "code",
   "execution_count": 18,
   "id": "61289a12",
   "metadata": {},
   "outputs": [
    {
     "name": "stdout",
     "output_type": "stream",
     "text": [
      "mercedes\n",
      "kia\n"
     ]
    }
   ],
   "source": [
    "for car in [car1, car2]:\n",
    "    print(car.brand)"
   ]
  },
  {
   "cell_type": "code",
   "execution_count": 20,
   "id": "3cebf963",
   "metadata": {},
   "outputs": [],
   "source": [
    "# 브랜드를 이렇게 정의해도 가능\n",
    "class Car:\n",
    "    brand = 'mercedes'\n",
    "car3 = Car()\n"
   ]
  },
  {
   "cell_type": "code",
   "execution_count": 21,
   "id": "48eb723c",
   "metadata": {},
   "outputs": [
    {
     "data": {
      "text/plain": [
       "'mercedes'"
      ]
     },
     "execution_count": 21,
     "metadata": {},
     "output_type": "execute_result"
    }
   ],
   "source": [
    "car3.brand"
   ]
  },
  {
   "cell_type": "code",
   "execution_count": 24,
   "id": "cfc3fde3",
   "metadata": {},
   "outputs": [],
   "source": [
    "# 문제는 다양한 속성을 원한다는 것임\n",
    "# 객체별 속성 따로 지정하기 - init 함수 사용(속성을 초기화하는 함수)\n",
    "class Car:\n",
    "    def __init__(self, brand): \n",
    "        self.brand = brand  #self == instance"
   ]
  },
  {
   "cell_type": "code",
   "execution_count": 29,
   "id": "c6e78475",
   "metadata": {},
   "outputs": [
    {
     "data": {
      "text/plain": [
       "'toyota'"
      ]
     },
     "execution_count": 29,
     "metadata": {},
     "output_type": "execute_result"
    }
   ],
   "source": [
    "my_car = Car(brand='toyota')\n",
    "my_car.brand"
   ]
  },
  {
   "cell_type": "code",
   "execution_count": 31,
   "id": "67d6f636",
   "metadata": {},
   "outputs": [],
   "source": [
    "# 연습: color, model 속성 초기화하기\n",
    "class Car:\n",
    "    def __init__(self, brand, model, color):\n",
    "        self.brand = brand\n",
    "        self.model = model\n",
    "        self.color = color\n",
    "\n",
    "my_morning = Car('kia', 'morning', 'black')"
   ]
  },
  {
   "cell_type": "code",
   "execution_count": 32,
   "id": "bbb30dea",
   "metadata": {},
   "outputs": [
    {
     "data": {
      "text/plain": [
       "'black'"
      ]
     },
     "execution_count": 32,
     "metadata": {},
     "output_type": "execute_result"
    }
   ],
   "source": [
    "my_morning.color"
   ]
  },
  {
   "cell_type": "code",
   "execution_count": 33,
   "id": "2e9c21ce",
   "metadata": {},
   "outputs": [
    {
     "data": {
      "text/plain": [
       "'white'"
      ]
     },
     "execution_count": 33,
     "metadata": {},
     "output_type": "execute_result"
    }
   ],
   "source": [
    "# 해당 객체에 대해 색상 바꾸기\n",
    "my_morning.color = 'white'\n",
    "my_morning.color"
   ]
  },
  {
   "cell_type": "code",
   "execution_count": 35,
   "id": "5678e703",
   "metadata": {},
   "outputs": [
    {
     "data": {
      "text/plain": [
       "'yellow'"
      ]
     },
     "execution_count": 35,
     "metadata": {},
     "output_type": "execute_result"
    }
   ],
   "source": [
    "my_sorento = Car('kia', 'sorento', 'yellow')\n",
    "my_sorento.color"
   ]
  },
  {
   "cell_type": "code",
   "execution_count": 36,
   "id": "288bf518",
   "metadata": {},
   "outputs": [],
   "source": [
    "# 연습\n",
    "class Car:\n",
    "    def __init__(self, brand, model, color):\n",
    "        self.brand = brand\n",
    "        self.model = model\n",
    "        self.color = color\n",
    "\n",
    "    # action으로 정의하기\n",
    "    def drive(self):\n",
    "        print('차가 움직인다.')\n",
    "    \n",
    "    def stop(self):\n",
    "        print('차가 멈춘다.')\n",
    "    \n",
    "my_morning = Car('kia', 'morning', 'black')"
   ]
  },
  {
   "cell_type": "code",
   "execution_count": 38,
   "id": "15208dc1",
   "metadata": {},
   "outputs": [
    {
     "name": "stdout",
     "output_type": "stream",
     "text": [
      "차가 움직인다.\n",
      "차가 멈춘다.\n"
     ]
    }
   ],
   "source": [
    "my_morning.color\n",
    "my_morning.drive()\n",
    "my_morning.stop()"
   ]
  },
  {
   "cell_type": "code",
   "execution_count": 51,
   "id": "35b412ce",
   "metadata": {},
   "outputs": [
    {
     "data": {
      "text/plain": [
       "'blue'"
      ]
     },
     "execution_count": 51,
     "metadata": {},
     "output_type": "execute_result"
    }
   ],
   "source": [
    "# 연습 \n",
    "# 출력 -내 차(브랜드='')이 움직인다\n",
    "# self.color => pink로 바꾸기\n",
    "\n",
    "class Car:\n",
    "    def __init__(self, brand, model=None, color='orange'):\n",
    "        self.brand = brand\n",
    "        # self.brand는 어떤 객체가 만들어지더라도 가져갈 브랜드명\n",
    "        # brand는 객체 생성 시 설정되는 브랜드명\n",
    "        self.model = model\n",
    "        self.color = color\n",
    "\n",
    "        # model 기본적으로는 값을 안 받아도 되게 설정하기\n",
    "        \n",
    "        \n",
    "    # action\n",
    "    def drive(self):\n",
    "        print(f'내 차 (브랜드=(self.brand))가 움직인다.')   \n",
    "        #print('내 차가 움직인다.')\n",
    "    \n",
    "    def stop(self):\n",
    "        print('차가 멈춘다.')\n",
    "        \n",
    "    def change_color(self, color):\n",
    "        #핑크로 바꾼다\n",
    "        self.color = 'pink'\n",
    "        #입력되는 컬러로 설정하기\n",
    "        self.color = color\n",
    "    \n",
    "my_morning = Car('kia', 'morning', 'black')\n",
    "my_morning.change_color('blue')\n",
    "\n",
    "my_morning.color"
   ]
  },
  {
   "cell_type": "markdown",
   "id": "b58f2002",
   "metadata": {},
   "source": [
    "### getter, setter\n",
    "- 캡슐화, 정보 옴니\n",
    "- 클래스 외부에서 변수 접근을 용이하지 못하게 하는 것"
   ]
  },
  {
   "cell_type": "code",
   "execution_count": null,
   "id": "abcb02cc",
   "metadata": {},
   "outputs": [],
   "source": [
    "\n",
    "#1. 틀(클래스)에서 변수를 바꾸는 것\n",
    "#2. 인스턴스 만들기"
   ]
  },
  {
   "cell_type": "code",
   "execution_count": 52,
   "id": "dd26aa2b",
   "metadata": {},
   "outputs": [],
   "source": [
    "class Fruit:\n",
    "    color = 'red'"
   ]
  },
  {
   "cell_type": "code",
   "execution_count": 53,
   "id": "831c69b2",
   "metadata": {},
   "outputs": [
    {
     "data": {
      "text/plain": [
       "'red'"
      ]
     },
     "execution_count": 53,
     "metadata": {},
     "output_type": "execute_result"
    }
   ],
   "source": [
    "apple = Fruit()\n",
    "apple.color"
   ]
  },
  {
   "cell_type": "code",
   "execution_count": 54,
   "id": "f9e725e0",
   "metadata": {},
   "outputs": [],
   "source": [
    "#밖에서 아예 컬러 바꾸기 (안좋다)\n",
    "Fruit.color = 'purple'"
   ]
  },
  {
   "cell_type": "code",
   "execution_count": 55,
   "id": "7b1c67a7",
   "metadata": {},
   "outputs": [
    {
     "data": {
      "text/plain": [
       "'purple'"
      ]
     },
     "execution_count": 55,
     "metadata": {},
     "output_type": "execute_result"
    }
   ],
   "source": [
    "orange = Fruit()\n",
    "orange.color #그 다음 객체는 모조리 다 퍼플로 나옴"
   ]
  },
  {
   "cell_type": "code",
   "execution_count": 56,
   "id": "5304fe95",
   "metadata": {},
   "outputs": [],
   "source": [
    "class Car:\n",
    "    def __init__(self, brand):\n",
    "        self.brand = brand\n",
    "    \n",
    "    def get_brand(self):\n",
    "        # 원래 변수명에 접근하도록\n",
    "        print(\"from the getter\")\n",
    "        return self.brand\n",
    "    \n",
    "    def set_brand(self):\n",
    "        # 변수명을 바꾸는 작업\n",
    "        print(\"from the setter\")\n",
    "        self.brand = input_brand"
   ]
  },
  {
   "cell_type": "code",
   "execution_count": 57,
   "id": "00c86bc8",
   "metadata": {},
   "outputs": [
    {
     "data": {
      "text/plain": [
       "'toyota'"
      ]
     },
     "execution_count": 57,
     "metadata": {},
     "output_type": "execute_result"
    }
   ],
   "source": [
    "ex = Car('toyota')\n",
    "ex.brand"
   ]
  },
  {
   "cell_type": "code",
   "execution_count": 58,
   "id": "9f743600",
   "metadata": {},
   "outputs": [
    {
     "name": "stdout",
     "output_type": "stream",
     "text": [
      "from the getter\n"
     ]
    },
    {
     "data": {
      "text/plain": [
       "'toyota'"
      ]
     },
     "execution_count": 58,
     "metadata": {},
     "output_type": "execute_result"
    }
   ],
   "source": [
    "ex.get_brand()"
   ]
  },
  {
   "cell_type": "code",
   "execution_count": 60,
   "id": "732c816c",
   "metadata": {},
   "outputs": [
    {
     "ename": "TypeError",
     "evalue": "set_brand() takes 1 positional argument but 2 were given",
     "output_type": "error",
     "traceback": [
      "\u001b[1;31m---------------------------------------------------------------------------\u001b[0m",
      "\u001b[1;31mTypeError\u001b[0m                                 Traceback (most recent call last)",
      "\u001b[1;32m<ipython-input-60-1abebeabebf0>\u001b[0m in \u001b[0;36m<module>\u001b[1;34m\u001b[0m\n\u001b[1;32m----> 1\u001b[1;33m \u001b[0mex\u001b[0m\u001b[1;33m.\u001b[0m\u001b[0mset_brand\u001b[0m\u001b[1;33m(\u001b[0m\u001b[1;34m'mazuda'\u001b[0m\u001b[1;33m)\u001b[0m\u001b[1;33m\u001b[0m\u001b[1;33m\u001b[0m\u001b[0m\n\u001b[0m",
      "\u001b[1;31mTypeError\u001b[0m: set_brand() takes 1 positional argument but 2 were given"
     ]
    }
   ],
   "source": [
    "ex.set_brand('mazuda')"
   ]
  },
  {
   "cell_type": "code",
   "execution_count": 61,
   "id": "b663e92a",
   "metadata": {},
   "outputs": [
    {
     "data": {
      "text/plain": [
       "'toyota'"
      ]
     },
     "execution_count": 61,
     "metadata": {},
     "output_type": "execute_result"
    }
   ],
   "source": [
    "ex.brand"
   ]
  },
  {
   "cell_type": "code",
   "execution_count": 62,
   "id": "8ef936ab",
   "metadata": {},
   "outputs": [
    {
     "name": "stdout",
     "output_type": "stream",
     "text": [
      "from the getter\n"
     ]
    },
    {
     "data": {
      "text/plain": [
       "'toyota'"
      ]
     },
     "execution_count": 62,
     "metadata": {},
     "output_type": "execute_result"
    }
   ],
   "source": [
    "ex.get_brand()"
   ]
  },
  {
   "cell_type": "code",
   "execution_count": 63,
   "id": "2e532db7",
   "metadata": {},
   "outputs": [],
   "source": [
    "Car.brand = 'bmw'"
   ]
  },
  {
   "cell_type": "code",
   "execution_count": 64,
   "id": "602f47bc",
   "metadata": {},
   "outputs": [
    {
     "data": {
      "text/plain": [
       "'toyota'"
      ]
     },
     "execution_count": 64,
     "metadata": {},
     "output_type": "execute_result"
    }
   ],
   "source": [
    "a = Car('toyota')\n",
    "a.brand"
   ]
  },
  {
   "cell_type": "markdown",
   "id": "977e6e7a",
   "metadata": {},
   "source": [
    "### 2."
   ]
  },
  {
   "cell_type": "code",
   "execution_count": 66,
   "id": "f5807d03",
   "metadata": {},
   "outputs": [
    {
     "data": {
      "text/plain": [
       "'kia'"
      ]
     },
     "execution_count": 66,
     "metadata": {},
     "output_type": "execute_result"
    }
   ],
   "source": [
    "class Car:\n",
    "    def __init__(self, input_brand):\n",
    "        self.hidden_brand = input_brand\n",
    "        \n",
    "    def get_brand(self):\n",
    "        return self.hidden_brand\n",
    "    \n",
    "    def set_brand(self, input_brand):\n",
    "        self.hidden_brand = input__brand\n",
    "        \n",
    "    brand = property(get_brand, set_brand)\n",
    "    \n",
    "c = Car('kia')\n",
    "c.brand"
   ]
  },
  {
   "cell_type": "code",
   "execution_count": null,
   "id": "12d741b3",
   "metadata": {},
   "outputs": [],
   "source": [
    "c.brand = 'hyundai'"
   ]
  },
  {
   "cell_type": "code",
   "execution_count": null,
   "id": "f9aed98e",
   "metadata": {},
   "outputs": [],
   "source": [
    "Car.hidden_brand = 'toyota'\n"
   ]
  },
  {
   "cell_type": "code",
   "execution_count": null,
   "id": "cd63097f",
   "metadata": {},
   "outputs": [],
   "source": [
    "Car.brand = 'aa'"
   ]
  },
  {
   "cell_type": "code",
   "execution_count": null,
   "id": "cc2d6626",
   "metadata": {},
   "outputs": [],
   "source": [
    "class Car: \n",
    "    def __init__(self, input_brand):\n",
    "        self.hidden_brand = input_brand\n",
    "        \n",
    "    @property    \n",
    "    def brand(self):\n",
    "        return self.hidden_brand\n",
    "    \n",
    "    @brand.setter\n",
    "    def brand(self, input_brand):\n",
    "        self.hidden_brand = input_brand\n",
    "\n",
    "c = Car('aa')\n",
    "c.brand"
   ]
  },
  {
   "cell_type": "markdown",
   "id": "42f36296",
   "metadata": {},
   "source": [
    "### 4"
   ]
  },
  {
   "cell_type": "code",
   "execution_count": null,
   "id": "486b4a94",
   "metadata": {},
   "outputs": [],
   "source": [
    "class Car:   # 쉽게 바꾸지 못 함.\n",
    "    def __init__(self, input_brand):\n",
    "        self.__brand = input_brand\n",
    "        \n",
    "    @property    \n",
    "    def brand(self):\n",
    "        return self.__brand\n",
    "    \n",
    "    @brand.setter\n",
    "    def brand(self, input_brand):\n",
    "        self.__brand = input_brand\n",
    "\n",
    "c = Car('bb')\n",
    "c.__brand"
   ]
  },
  {
   "cell_type": "code",
   "execution_count": null,
   "id": "98ec8834",
   "metadata": {},
   "outputs": [],
   "source": [
    "class Circle:\n",
    "    def __init__(self, radius):\n",
    "        self.radius = radius\n",
    "    \n",
    "    @property\n",
    "    def diameter(self):\n",
    "        return self.radius * 2\n",
    "c = Circle(7)\n",
    "c.diameter"
   ]
  },
  {
   "cell_type": "markdown",
   "id": "1de54901",
   "metadata": {},
   "source": [
    "### 실습\n",
    "- 객체 : 메모장(노트), 메모\n",
    "- 변수 : 제목, 페이지번호, 메모 글귀\n",
    "- 메시드 : 추가, 삭제, 페이지번호 쓰기, 지우기\n",
    "- getter, setter 메모장 제목에 설정하기\n",
    "- '메모' 객체에 글귀를 추가한다\n",
    "- '메모장' 객체에 메모 추가\n",
    "- 페이지번호가 늘어난다\n",
    "- 메모리 삭제하면 페이지번호가 줄어들고\n",
    "- 페이지가 300을 넘으면 메모 추가 못하게 막기\n",
    "- 메모를 찾을 때는 페이지 번호로 찾기"
   ]
  },
  {
   "cell_type": "code",
   "execution_count": null,
   "id": "6226aba5",
   "metadata": {},
   "outputs": [],
   "source": [
    "class Notebook:\n",
    "    def __init__(self, title, page=0 , memo=[]):  # 제목, 페이지번호, 메모 *** = Note\n",
    "        self.__title = title\n",
    "        self.page = page\n",
    "        self.memo = memo\n",
    "    \n",
    "    @property\n",
    "    def title(self):\n",
    "        return self.__title\n",
    "    \n",
    "    def add_note(self, note=[]):\n",
    "        self.memo.extend(note)\n",
    "        self.page += len(note)\n",
    "    \n",
    "    def remove_note(self, note):\n",
    "        self.memo.remove(note)\n",
    "        self.page -= 1\n",
    "    \n",
    "    def get_page_num(self):\n",
    "        return self.page\n",
    "    \n",
    "class Note:\n",
    "    def __init__(self, memo=[]):\n",
    "        self.memo = memo\n",
    "    \n",
    "    def write(self, letter):\n",
    "        self.memo.append(letter)\n",
    "    \n",
    "    def erase(self, letter):\n",
    "        self.memo.remove(letter)\n",
    "    \n",
    "    \n",
    "    \n",
    "# 메모 추가하기\n",
    "memo1 = '꿈을 이루고자 하는 용기만 있다면 모든 꿈을 이룰 수 있다.'\n",
    "memo2 = '웃음이 없는 하루는 버린 하루다.'\n",
    "memo3 = '승리는 가장 끈기 있는 사람에게 돌아간다.'\n",
    "\n",
    "note = Note('메모')\n",
    "\n",
    "# 메모 쓰기\n",
    "note.write(memo1)\n",
    "note.write(memo2)\n",
    "note.write(memo3)\n",
    "\n",
    "# 메모장 만들기\n",
    "my_book = Notebook()\n",
    "\n",
    "# 메모장에 메모 추가하기\n",
    "my_book.add_note(note)\n",
    "\n",
    "# 페이지 번호 확인하기\n",
    "my_book.get_page_num()  #3 메모 삭제하면 페이지 번호 같이 삭제\n",
    "\n",
    "# 메모 삭제하기\n",
    "my_book.remove_note()   "
   ]
  }
 ],
 "metadata": {
  "kernelspec": {
   "display_name": "Python 3",
   "language": "python",
   "name": "python3"
  },
  "language_info": {
   "codemirror_mode": {
    "name": "ipython",
    "version": 3
   },
   "file_extension": ".py",
   "mimetype": "text/x-python",
   "name": "python",
   "nbconvert_exporter": "python",
   "pygments_lexer": "ipython3",
   "version": "3.8.8"
  }
 },
 "nbformat": 4,
 "nbformat_minor": 5
}
