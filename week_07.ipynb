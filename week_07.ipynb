{
 "cells": [
  {
   "cell_type": "markdown",
   "id": "03a7ac68-d9f9-4b7c-9ab9-9df5e7a7e142",
   "metadata": {},
   "source": [
    "#### 시험 장소\n",
    "- 대학원 건물 6411호"
   ]
  },
  {
   "cell_type": "markdown",
   "id": "797d7576-ea3b-47c2-bedf-abcae23c81b3",
   "metadata": {},
   "source": [
    "### 함수 "
   ]
  },
  {
   "cell_type": "markdown",
   "id": "cdb17bb0-95aa-4000-b25b-2e9120c08d61",
   "metadata": {},
   "source": [
    "1. 정의\n",
    "    - 코드를 수행하는 덩어리, 묶음\n",
    "    - 왜 쓰나? 편리하게 재사용하기 위해 ex.구구단 전체 계속 반복\n",
    "    - 1줄로 100줄의 코드 반복 가능\n",
    "    - 구조 : 정의하기(define) -> 호출하기(call)\n",
    "    \n",
    "        *정의하기*\n",
    "        def 함수이름(매개변수1, 2, 3...):\n",
    "            수행문1\n",
    "            수행문2\n",
    "            ...\n",
    "            return 출력값\n",
    "            \n",
    "          *호출하기*\n",
    "          함수이름(인수1, 2, 3, ...)\n",
    "    - y = x + 1 \n",
    "        - 매개변수 x, 출력값 y\n",
    "    - 인터페이스 잘 설정하면 내부를 몰라도 함수를 쉽게 쓸 수 있다.\n",
    "        - split, join도 다 내장함수이다.\n",
    "2. 이름 짓기\n",
    "    - 소문자 사용 가능\n",
    "    - 카멜표기법 가능 < 언더바 더 선호함\n",
    "    - 동작과 관련되어서 '동사+명사'형 : print_output, split_text...\n",
    "    - 줄임말 X pr_output(x)"
   ]
  },
  {
   "cell_type": "code",
   "execution_count": 6,
   "id": "808b8583-c16b-431b-bb5f-019d53164921",
   "metadata": {},
   "outputs": [
    {
     "name": "stdout",
     "output_type": "stream",
     "text": [
      "quack\n"
     ]
    }
   ],
   "source": [
    "# 매개변수 X, 반환값 X 경우(필수 아님)\n",
    "def make_a_sound():\n",
    "    # 입력 없고, 반환값 return 없음\n",
    "    print('quack')\n",
    "    # return None 생략임\n",
    "    \n",
    "make_a_sound()"
   ]
  },
  {
   "cell_type": "code",
   "execution_count": 4,
   "id": "84baaa18-8451-4843-8492-f057930c282d",
   "metadata": {},
   "outputs": [
    {
     "data": {
      "text/plain": [
       "True"
      ]
     },
     "execution_count": 4,
     "metadata": {},
     "output_type": "execute_result"
    }
   ],
   "source": [
    "#  매개변수 X 반환값 O 경우\n",
    "def agree():\n",
    "    # 입력 없고, 반환 있고\n",
    "    return True\n",
    "\n",
    "agree()"
   ]
  },
  {
   "cell_type": "code",
   "execution_count": 5,
   "id": "b15da381-a863-4e01-b4a1-82df74ab43e1",
   "metadata": {},
   "outputs": [
    {
     "name": "stdout",
     "output_type": "stream",
     "text": [
      "Splendid\n"
     ]
    }
   ],
   "source": [
    "if agree():\n",
    "    print('Splendid')\n",
    "else:\n",
    "    print('that was unexpected')"
   ]
  },
  {
   "cell_type": "code",
   "execution_count": 9,
   "id": "f52809e2-ec5a-4229-a854-e03e1b43c154",
   "metadata": {},
   "outputs": [
    {
     "data": {
      "text/plain": [
       "'hello hello'"
      ]
     },
     "execution_count": 9,
     "metadata": {},
     "output_type": "execute_result"
    }
   ],
   "source": [
    "# 입력 있고 출력 없는 경우\n",
    "def echo(anything):\n",
    "    return ('{0} {0}'.format(anything))\n",
    "\n",
    "echo('hello')"
   ]
  },
  {
   "cell_type": "code",
   "execution_count": 14,
   "id": "68a3b396-df6b-4d62-811b-62a2918e5dd7",
   "metadata": {},
   "outputs": [
    {
     "data": {
      "text/plain": [
       "'hello hello'"
      ]
     },
     "execution_count": 14,
     "metadata": {},
     "output_type": "execute_result"
    }
   ],
   "source": [
    "# 둘다 있는 경우\n",
    "def echo(anything):\n",
    "    return '{0} {0}'.format(anything)\n",
    "\n",
    "echo = echo('hello') #'hello'가 인수임\n",
    "echo"
   ]
  },
  {
   "cell_type": "markdown",
   "id": "7e0f9fea-ad2a-4c55-a1c0-c09e5758b95e",
   "metadata": {},
   "source": [
    "3. 인수와 매개변수 \n",
    "    - 둘이 다르다!!\n",
    "    - 매개변수 : 정의할 때 쓰임, 인터페이스 내에서만 유효( def 함수 코드 내)\n",
    "    - 인수 : 호출할 때 쓰임\n",
    "    - 함수 호출 시 인수에 할당된  값이 매개변수에 복제됨\n",
    "        - 순서\n",
    "        - 1. line = 'hello'\n",
    "        - 2. anything = line(='hello')  ##copy됨\n",
    "        - 3. anything 사라짐\n",
    "- 위치 인수 :\n",
    "    - positional argument\n",
    "    - 값을 순서대로 상응하는 매개변수에 복사하는 것\n",
    "    \n",
    "- 키워드 인수\n",
    "    - keyword argument\n",
    "    - 매개변수에 상응하는 이름을 인수에 지정한다\n",
    "    - 위치 인수랑 달리 위치 달라도 됨\n",
    "- 디폴트 인수\n",
    "    - default argument\n",
    "    - 정의할 때 매개변수의 기본값 설정\n",
    "    - 호ㅜㄹ 시 인수가 없으면 기본값으로 적용됨"
   ]
  },
  {
   "cell_type": "code",
   "execution_count": 16,
   "id": "f1c46bb6-4ffd-4d57-bdc6-94c2422a1ea9",
   "metadata": {},
   "outputs": [
    {
     "data": {
      "text/plain": [
       "'black'"
      ]
     },
     "execution_count": 16,
     "metadata": {},
     "output_type": "execute_result"
    }
   ],
   "source": [
    "def commentary(color):\n",
    "    #pass 나중에 하고 싶을 떄 \n",
    "    if color == 'g':\n",
    "        return('green')\n",
    "    else:\n",
    "        return('black')\n",
    "\n",
    "color = 'white'\n",
    "commentary(color)"
   ]
  },
  {
   "cell_type": "code",
   "execution_count": 20,
   "id": "50d928b6-5c25-44d7-a602-a877e334cfe7",
   "metadata": {},
   "outputs": [
    {
     "name": "stdout",
     "output_type": "stream",
     "text": [
      "green\n",
      "black\n",
      "black\n"
     ]
    }
   ],
   "source": [
    "colors = ['g','r','b']\n",
    "for c in colors:\n",
    "    print(commentary(c))"
   ]
  },
  {
   "cell_type": "code",
   "execution_count": 24,
   "id": "2d6d5356-a559-4758-b0a2-58aec8985746",
   "metadata": {},
   "outputs": [
    {
     "data": {
      "text/plain": [
       "{'wine': 'rioja', 'entree': 'cake', 'dessert': 'egg'}"
      ]
     },
     "execution_count": 24,
     "metadata": {},
     "output_type": "execute_result"
    }
   ],
   "source": [
    "# 위치 인수\n",
    "def menu(wine, entree, dessert):\n",
    "    return{'wine':wine, 'entree':entree, 'dessert':dessert}\n",
    "\n",
    "menu('rioja', 'cake', 'egg')"
   ]
  },
  {
   "cell_type": "code",
   "execution_count": 30,
   "id": "b13f2e3c-1c59-40e3-b79b-60e40877b39a",
   "metadata": {},
   "outputs": [
    {
     "data": {
      "text/plain": [
       "{'wine': 'rioja', 'entree': 'cake', 'dessert': 'egg'}"
      ]
     },
     "execution_count": 30,
     "metadata": {},
     "output_type": "execute_result"
    }
   ],
   "source": [
    "# 키워드 인수\n",
    "def menu(wine, entree, dessert):\n",
    "    return {'wine':wine, 'entree':entree, 'dessert':dessert}\n",
    "\n",
    "menu('rioja', 'cake', 'egg')"
   ]
  },
  {
   "cell_type": "code",
   "execution_count": 31,
   "id": "5ae13672-0d7c-44bf-8015-8b2fb3e29355",
   "metadata": {},
   "outputs": [
    {
     "data": {
      "text/plain": [
       "{'wine': 'rioja', 'entree': 'cake', 'dessert': 'egg'}"
      ]
     },
     "execution_count": 31,
     "metadata": {},
     "output_type": "execute_result"
    }
   ],
   "source": [
    "# 디폴트 인수\n",
    "def menu2(wine, entree, dessert='scone'):\n",
    "    return {'wine':wine, 'entree':entree, 'dessert':dessert}\n",
    "\n",
    "menu('rioja', 'cake', 'egg')  #디저트에 스콘이 적용 안됨"
   ]
  },
  {
   "cell_type": "code",
   "execution_count": 33,
   "id": "5718bb5d-9149-4f32-a984-92ff7239da46",
   "metadata": {},
   "outputs": [
    {
     "data": {
      "text/plain": [
       "{'wine': 'merlot', 'entree': 'egg', 'dessert': 'scone'}"
      ]
     },
     "execution_count": 33,
     "metadata": {},
     "output_type": "execute_result"
    }
   ],
   "source": [
    "menu2('merlot', 'egg')"
   ]
  },
  {
   "cell_type": "markdown",
   "id": "d8e67af0-e113-4845-ab25-68a5afe546c2",
   "metadata": {},
   "source": [
    "### Quiz. 나이 -> 연도\n",
    "def fx():   #함수 이름 유의해서 짓기\n",
    "    # 입력값 = 나이\n",
    "    # 반환값 = 출생년도\n",
    "    \n",
    "- input 입력 받아서 함수 사용해서 출력하기"
   ]
  },
  {
   "cell_type": "code",
   "execution_count": 36,
   "id": "e3c46202-363f-40d5-b3a9-2f8af7370f05",
   "metadata": {},
   "outputs": [
    {
     "name": "stdin",
     "output_type": "stream",
     "text": [
      " 24\n"
     ]
    },
    {
     "data": {
      "text/plain": [
       "1999"
      ]
     },
     "execution_count": 36,
     "metadata": {},
     "output_type": "execute_result"
    }
   ],
   "source": [
    "# 풀이 1\n",
    "def calc_birth_year():\n",
    "    age = int(input())  #나이 입력받기\n",
    "    current_year = 2022  #현재 년도\n",
    "    born_year = current_year - age + 1  #출생년도 계산하기\n",
    "    return born_year #반환값\n",
    "print_age()"
   ]
  },
  {
   "cell_type": "code",
   "execution_count": 37,
   "id": "2f40fc5e-9c30-451f-b7c9-945759508a55",
   "metadata": {},
   "outputs": [
    {
     "name": "stdin",
     "output_type": "stream",
     "text": [
      " 24\n"
     ]
    },
    {
     "data": {
      "text/plain": [
       "1999"
      ]
     },
     "execution_count": 37,
     "metadata": {},
     "output_type": "execute_result"
    }
   ],
   "source": [
    "# 풀이 2\n",
    "def calc_birth_year(years_old):\n",
    "    this_year = 2022\n",
    "    return this_year - years_old + 1\n",
    "\n",
    "age = int(input())\n",
    "calc_birth_year(age)"
   ]
  },
  {
   "cell_type": "markdown",
   "id": "70d8efe0-2bb0-4d22-8ae2-b08bcf4a8be3",
   "metadata": {},
   "source": [
    "### Quiz\n",
    "- 사각형 너비 구하기\n",
    "    - 입력 : 두 변 길이\n",
    "    - 반환 : string=\"xx cm\"\n",
    "   "
   ]
  },
  {
   "cell_type": "code",
   "execution_count": 39,
   "id": "4be7be31-0637-4515-af54-94e75fed1758",
   "metadata": {},
   "outputs": [
    {
     "name": "stdin",
     "output_type": "stream",
     "text": [
      " 3\n"
     ]
    },
    {
     "ename": "TypeError",
     "evalue": "cannot unpack non-iterable int object",
     "output_type": "error",
     "traceback": [
      "\u001b[1;31m---------------------------------------------------------------------------\u001b[0m",
      "\u001b[1;31mTypeError\u001b[0m                                 Traceback (most recent call last)",
      "\u001b[1;32m<ipython-input-39-28e8353f15c8>\u001b[0m in \u001b[0;36m<module>\u001b[1;34m\u001b[0m\n\u001b[0;32m      2\u001b[0m     \u001b[1;32mreturn\u001b[0m \u001b[0msphere1\u001b[0m \u001b[1;33m*\u001b[0m \u001b[0msphere2\u001b[0m\u001b[1;33m\u001b[0m\u001b[1;33m\u001b[0m\u001b[0m\n\u001b[0;32m      3\u001b[0m \u001b[1;33m\u001b[0m\u001b[0m\n\u001b[1;32m----> 4\u001b[1;33m \u001b[0msphere1\u001b[0m\u001b[1;33m,\u001b[0m \u001b[0mshpere2\u001b[0m \u001b[1;33m=\u001b[0m \u001b[0mint\u001b[0m\u001b[1;33m(\u001b[0m\u001b[0minput\u001b[0m\u001b[1;33m(\u001b[0m\u001b[1;33m)\u001b[0m\u001b[1;33m)\u001b[0m\u001b[1;33m\u001b[0m\u001b[1;33m\u001b[0m\u001b[0m\n\u001b[0m\u001b[0;32m      5\u001b[0m \u001b[0mcal_square\u001b[0m\u001b[1;33m\u001b[0m\u001b[1;33m\u001b[0m\u001b[0m\n",
      "\u001b[1;31mTypeError\u001b[0m: cannot unpack non-iterable int object"
     ]
    }
   ],
   "source": [
    "# 내가 풀다 막힌 풀이\n",
    "def cal_square():\n",
    "    return sphere1 * sphere2\n",
    "\n",
    "sphere1, shpere2 = int(input())\n",
    "cal_square"
   ]
  },
  {
   "cell_type": "code",
   "execution_count": 46,
   "id": "985f17bb-906c-4215-85b6-ca546bf5ea9e",
   "metadata": {},
   "outputs": [
    {
     "name": "stdin",
     "output_type": "stream",
     "text": [
      " 3.4\n",
      " 2\n"
     ]
    },
    {
     "data": {
      "text/plain": [
       "'6.8cm'"
      ]
     },
     "execution_count": 46,
     "metadata": {},
     "output_type": "execute_result"
    }
   ],
   "source": [
    "# 풀이 1\n",
    "def calc_area(length, width):\n",
    "    area = length * width\n",
    "    return f'{area}cm'\n",
    "\n",
    "length = float(input())\n",
    "width = float(input())\n",
    "\n",
    "calc_area(length, width)"
   ]
  },
  {
   "cell_type": "markdown",
   "id": "77b19a56-fa28-4f37-b8eb-677003ecb783",
   "metadata": {},
   "source": [
    "### 호출 방식:\n",
    "    - 정의된 부분이 메모리에 업로드 되지만, 실행은 안 된다.\n",
    "    - 실행은 호출시에 됨\n",
    "    - 그렇지만 def는 위에서 먼저 정의해줄 필요 있음\n",
    "    - 값을 넘기는 방식: 참조에 의한 호출(call by refrence) \n",
    "        - 메모리 주소가 복사되기 때문에 가변객체가 매개변수로 들어갈 때 주의할 것 "
   ]
  },
  {
   "cell_type": "code",
   "execution_count": 50,
   "id": "0e2154b1-1e81-4995-9b19-fab3265c386e",
   "metadata": {},
   "outputs": [
    {
     "name": "stdout",
     "output_type": "stream",
     "text": [
      "2\n",
      "3\n",
      "1\n",
      "4\n"
     ]
    }
   ],
   "source": [
    "# 순서 유의\n",
    "def calc_area(length, width):\n",
    "    print(\"1\")\n",
    "    return length * width\n",
    "\n",
    "print(\"2\")\n",
    "garo = 2\n",
    "sero = 43\n",
    "print(\"3\")\n",
    "calc_area(garo, sero)  #call 1\n",
    "print(\"4\")"
   ]
  },
  {
   "cell_type": "code",
   "execution_count": 54,
   "id": "f06a74a5-54e5-47d3-b8f0-6944ecd89904",
   "metadata": {},
   "outputs": [
    {
     "name": "stdout",
     "output_type": "stream",
     "text": [
      "['a']\n",
      "['a', 'b']\n"
     ]
    }
   ],
   "source": [
    "def buggy(arg, result=[]):\n",
    "    result.append(arg)\n",
    "    print(result)\n",
    "    \n",
    "buggy('a')\n",
    "buggy('b')  #자꾸 리스트가 쌓여서 출력됨\n",
    "            #계속 메모리가 참조되서 복사되기 때문이다."
   ]
  },
  {
   "cell_type": "code",
   "execution_count": 55,
   "id": "3bdf91f5-3d07-4e6a-b066-26f2eccc9c79",
   "metadata": {},
   "outputs": [
    {
     "name": "stdout",
     "output_type": "stream",
     "text": [
      "['a']\n",
      "['b']\n"
     ]
    }
   ],
   "source": [
    "def buggy(arg, result=[]):\n",
    "    result = []  #그래서 리스트 비운 뒤 하기\n",
    "    result.append(arg)\n",
    "    print(result)\n",
    "    \n",
    "buggy('a')\n",
    "buggy('b')"
   ]
  },
  {
   "cell_type": "code",
   "execution_count": 56,
   "id": "0c11149e-5fed-4c1f-a932-3896067a44f2",
   "metadata": {},
   "outputs": [
    {
     "name": "stdout",
     "output_type": "stream",
     "text": [
      "[2, 3] eggs\n",
      "[0, 1] ham\n"
     ]
    }
   ],
   "source": [
    "# 메모리 주소 복사?\n",
    "#length = garo  #list copy에서 배움\n",
    "def spam(eggs):\n",
    "    eggs.append(1)\n",
    "    eggs = [2, 3]\n",
    "    print(eggs, 'eggs')\n",
    "    \n",
    "ham = [0]\n",
    "spam(ham)\n",
    "print(ham, 'ham')"
   ]
  },
  {
   "cell_type": "code",
   "execution_count": 57,
   "id": "854f2f9b-060e-4ff1-9c26-f6f7df7b6541",
   "metadata": {},
   "outputs": [
    {
     "name": "stdout",
     "output_type": "stream",
     "text": [
      "b\n"
     ]
    }
   ],
   "source": [
    "# None : 비어있는 객체 타입\n",
    "thing = None\n",
    "if thing:\n",
    "    print('a')  #True\n",
    "else:\n",
    "    print('b')  #False"
   ]
  },
  {
   "cell_type": "code",
   "execution_count": 58,
   "id": "1143089d-b8f6-475c-9390-aa39e659bcf1",
   "metadata": {},
   "outputs": [
    {
     "name": "stdout",
     "output_type": "stream",
     "text": [
      "a\n"
     ]
    }
   ],
   "source": [
    "# none을 가지고 True를 반환하려면 is None 사용하기\n",
    "thing = None\n",
    "if thing is None:\n",
    "    print('a')  #True\n",
    "elif thing:\n",
    "    print('b')  \n",
    "else:\n",
    "    print('c')  #False"
   ]
  },
  {
   "cell_type": "code",
   "execution_count": null,
   "id": "7de6bbff-b899-433f-8f9f-6a15aa1fdc85",
   "metadata": {},
   "outputs": [],
   "source": [
    "#Quiz \n",
    "def nonbuggy(arg, result):\n",
    "    # result is None이면 빈 리스트\n",
    "    # 아니면 코드 그대로\n",
    "    # 비우는것과 안 비우는것을 is None을 활용해서 푸는 문제"
   ]
  },
  {
   "cell_type": "code",
   "execution_count": 62,
   "id": "224661e1-5395-4cd5-a444-159b1dbc2420",
   "metadata": {},
   "outputs": [
    {
     "name": "stdout",
     "output_type": "stream",
     "text": [
      "['a']\n",
      "['a', 'b']\n"
     ]
    }
   ],
   "source": [
    "#풀이\n",
    "def nonbuggy(arg, result=[]):\n",
    "    if result is None:\n",
    "        result = []\n",
    "    result.append(arg)\n",
    "    print(result)  #비워놔서 아무것도 출력 안됨\n",
    "    \n",
    "list_a = []\n",
    "nonbuggy('a', list_a)\n",
    "nonbuggy('b', list_a)"
   ]
  },
  {
   "cell_type": "code",
   "execution_count": null,
   "id": "b6e2602d-c0a4-4a3e-9f8e-e7cca260b188",
   "metadata": {},
   "outputs": [],
   "source": [
    "def nonbuggy(arg, result=[]):\n",
    "    global result  #젼역변수를 global을 사용해서 만듦\n",
    "    if result is None:\n",
    "        result = []\n",
    "    result.append(arg)\n",
    "    print(result)  #비워놔서 아무것도 출력 안됨\n",
    "    \n",
    "list_a = []\n",
    "nonbuggy('a', list_a)\n",
    "nonbuggy('b', list_a)"
   ]
  },
  {
   "cell_type": "markdown",
   "id": "19ae90f7-c0ff-4985-bfcb-d06b45383c93",
   "metadata": {},
   "source": [
    "### 전역변수 vs 지역변수\n",
    "- 지역변수 : 함수 내에서만 사용 가능\n",
    "- 전역변수 : 르로그램 전체에서 사용 가능"
   ]
  },
  {
   "cell_type": "code",
   "execution_count": 66,
   "id": "72ebab2c-9b46-45d0-9935-e006f878f4ff",
   "metadata": {},
   "outputs": [
    {
     "name": "stdout",
     "output_type": "stream",
     "text": [
      "london\n",
      "\n"
     ]
    }
   ],
   "source": [
    "def fx():\n",
    "    global city   #항상 london으로 반환될 것\n",
    "    city = 'london'\n",
    "    print(city)\n",
    "\n",
    "cuty = 'seoul'\n",
    "fx()  #city가 london으로 반환될 것이라고 생각하지만 안될것 그래서 global을 사용\n",
    "print() "
   ]
  },
  {
   "cell_type": "markdown",
   "id": "1f19967f-4110-447c-9ca4-37ab79f5b592",
   "metadata": {},
   "source": [
    "### 과제 피드백\n",
    "- 브라운 코퍼스 정제하기 ( 주석 필수 )"
   ]
  },
  {
   "cell_type": "code",
   "execution_count": 9,
   "id": "4705f877-59cf-448c-a4ee-70e211f6fa4a",
   "metadata": {},
   "outputs": [
    {
     "name": "stderr",
     "output_type": "stream",
     "text": [
      "[nltk_data] Downloading package brown to\n",
      "[nltk_data]     C:\\Users\\blubl\\AppData\\Roaming\\nltk_data...\n",
      "[nltk_data]   Package brown is already up-to-date!\n"
     ]
    }
   ],
   "source": [
    "import nltk\n",
    "nltk.download('brown')\n",
    "\n",
    "#1. 데이터셋 가져오기 \n",
    "brown = nltk.corpus.brown.raw(categories='romance')\n",
    "romance = brown[:5000]"
   ]
  },
  {
   "cell_type": "code",
   "execution_count": 70,
   "id": "0e69b930-0b25-439e-a330-b65f58205f89",
   "metadata": {
    "collapsed": true,
    "jupyter": {
     "outputs_hidden": true
    },
    "tags": []
   },
   "outputs": [
    {
     "data": {
      "text/plain": [
       "\"\\n\\n\\tThey/ppss neither/cc liked/vbd nor/cc disliked/vbd the/at Old/jj-tl Man/nn-tl ./.\\nTo/in them/ppo he/pps could/md have/hv been/ben the/at broken/vbn bell/nn in/in the/at church/nn tower/nn which/wdt rang/vbd before/in and/cc after/in Mass/nn-tl ,/, and/cc at/in noon/nn ,/, and/cc at/in six/cd each/dt evening/nn --/-- its/pp$ tone/nn ,/, repetitive/jj ,/, monotonous/jj ,/, never/rb breaking/vbg the/at boredom/nn of/in the/at streets/nns ./.\\nThe/at Old/jj-tl Man/nn-tl was/bedz unimportant/jj ./.\\n\\n\\n\\tYet/rb if/cs he/pps were/bed not/* there/rb ,/, they/ppss would/md have/hv missed/vbn him/ppo ,/, as/cs they/ppss would/md have/hv missed/vbn the/at sounds/nns of/in bees/nns buzzing/vbg against/in the/at screen/nn door/nn in/in early/jj June/np ;/. ;/.\\nor/cc the/at smell/nn of/in thick/jj tomato/nn paste/nn --/-- the/at ripe/jj smell/nn that/wps was/bedz both/abx sweet/jj and/cc sour/jj --/-- rising/vbg up/rp from/in aluminum/nn trays/nns wrapped/vbn in/in fly-dotted/jj cheesecloth/nn ./.\\nOr/cc the/at surging/vbg whirling/vbg sounds/nns of/in bats/nns at/in night/nn ,/, when/wrb their/pp$ black/jj bodies/nns dived/vbd into/in the/at blackness/nn above/in and/cc below/in the/at amber/jj street/nn lights/nns ./.\\nOr/cc the/at bay/nn of/in female/nn dogs/nns in/in heat/nn ./.\\n\\n\\n\\tThey/ppss never/rb called/vbd him/ppo by/in name/nn ,/, although/cs he/pps had/hvd one/pn ./.\\nFilippo/np Rossi/np ,/, that's/dt+bez what/wdt he/pps was/bedz called/vbn in/in the/at old/jj country/nn ;/. ;/.\\nbut/cc here/rb he/pps was/bedz just/rb Signore/np or/cc the/at Old/jj-tl Man/nn-tl ./.\\nBut/cc this/dt was/bedz not/* unusual/jj ,/, because/cs youth/nn in/in these/dts quarters/nns was/bedz always/rb pushed/vbn at/in a/at distance/nn from/in its/pp$ elders/nns ./.\\nYouth/nn obeyed/vbd when/wrb commanded/vbn ./.\\nIt/pps went/vbd to/in church/nn on/in Sunday/nr and/cc one/cd Saturday/nr a/at month/nn went/vbd to/in confession/nn ./.\\nBut/cc youth/nn asked/vbd nothing/pn of/in its/pp$ parents/nns --/-- not/* a/at touch/nn of/in the/at hand/nn or/cc a/at kiss/nn given/vbn in/in passing/vbg ./.\\n\\n\\n\\tThe/at only/ap thing/nn unusual/jj about/in the/at Old/jj-tl Man/nn-tl had/hvd long/jj since/rb happened/vbn ./.\\nBut/cc the/at past/nn was/bedz dead/jj here/rb as/cs the/at present/jj was/bedz dead/jj ./.\\nOnce/cs the/at Old/jj-tl Man/nn-tl had/hvd had/hvn a/at wife/nn ./.\\nAnd/cc once/cs she/pps ,/, too/rb ,/, ignored/vbd him/ppo ./.\\nWith/in a/at tiny/jj fur-piece/nn wrapped/vbd around/in her/pp$ shoulders/nns ,/, she/pps wiggled/vbd her/pp$ satin-covered/jj buttocks/nns down/in the/at street/nn before/in him/ppo and/cc didn't/dod* stop/vb ./.\\nIn/in one/cd hand/nn she/pps clutched/vbd a/at hundred/cd dollar/nn bill/nn and/cc in/in the/at other/ap a/at straw/nn suitcase/nn ./.\\nThe/at way/nn she/pps strutted/vbd down/in the/at street/nn ,/, the/at Old/jj-tl Man/nn-tl would/md have/hv been/ben blind/jj not/* to/to have/hv noticed/vbn both/abx ./.\\nWithout/in looking/vbg at/in him/ppo ,/, without/in looking/vbg at/in anything/pn except/in Drexel/np-tl Street/nn-tl directly/rb in/in front/nn of/in her/ppo ,/, she/pps climbed/vbd up/rp into/in one/cd of/in those/dts orange/jj streetcars/nns ,/, rode/vbd away/rb in/in it/ppo ,/, and/cc never/rb came/vbd back/rb ./.\\n\\n\\n\\t``/`` But/cc she/pps shouldn't/md* have/hv come/vbn here/rb in/in the/at first/od place/nn ''/'' ,/, the/at women/nns had/hvd said/vbn ./.\\n\\n\\n\\t``/`` No/rb ,/, no/rb ./.\\nNot/* that/dt one/pn ./.\\nShe/pps thought/vbd she/pps was/bedz bigger/jjr than/cs we/ppss are/ber because/cs she/pps came/vbd from/in Torino/np ''/'' ./.\\n\\n\\n\\t``/`` Eh/uh ,/, Torino/np !/. !/.\\nShe/pps gave/vbd herself/ppl fancy/jj airs/nns !/. !/.\\nJust/rb because/cs she/pps had/hvd a/at part/nn on/in the/at stage/nn in/in the/at old/jj country/nn ,/, she/pps thought/vbd she/pps could/md carry/vb her/pp$ head/nn higher/rbr than/cs ours/pp$$ ''/'' ./.\\nThey/ppss had/hvd slapped/vbn their/pp$ thighs/nns ./.\\n\\n\\n\\t``/`` It's/pps+bez not/* for/in making/vbg pretty/jj speeches/nns about/in Dante/np those/dts actresses/nns get/vb paid/vbn so/ql good/rb ''/'' ./.\\n\\n\\n\\t``/`` Henh/uh ''/'' !/. !/.\\nCalloused/vbn fingers/nns ,/, caressed/vbn only/rb by/in the/at smoothness/nn of/in polished/vbn rosaries/nns ,/, had/hvd swayed/vbn excitedly/rb beneath/in puckered/vbn chins/nns where/wrb tiny/jj black/jj hairs/nns sprouted/vbd ,/, never/rb to/to be/be tweezed/vbn away/rb ./.\\nMauve-colored/jj mouths/nns that/wps had/hvd never/rb known/vbn anything/pn sweeter/jjr than/cs the/at taste/nn of/in new/jj wine/nn and/cc the/at passion/nn of/in man's/nn$ tongue/nn had/hvd not/* smiled/vbn ,/, but/cc had/hvd condemned/vbn again/rb and/cc again/rb ./.\\n``/`` Puttana/fw-nn ''/'' !/. !/.\\n\\n\\n\\tBut/cc if/cs the/at Old/jj-tl Man/nn-tl even/rb thought/vbd about/in his/pp$ wife/nn now/rb ,/, nobody/pn cared/vbd a/at fig/nn ./.\\nIt/pps was/bedz enough/ap for/in people/nns to/to know/vb that/cs at/in one/cd time/nn he/pps had/hvd looked/vbn down/in the/at street/nn at/in the/at f\""
      ]
     },
     "execution_count": 70,
     "metadata": {},
     "output_type": "execute_result"
    }
   ],
   "source": [
    "romance   #[[They,neither,liked, ,...]\n",
    "#.\n",
    "#./.\n",
    "# \\n 정답은 없음\n",
    "# ?나 !로 끝나는 문장은 이 문제에서 제외함"
   ]
  },
  {
   "cell_type": "code",
   "execution_count": 16,
   "id": "b380f8f6-a625-4f1d-8249-68227a7732b9",
   "metadata": {
    "tags": []
   },
   "outputs": [],
   "source": [
    "# ./.로 끊어보자 -> 문장 기준으로 잘 끊음\n",
    "sentences = [sent.strip() for sent in romance.split('/.')]"
   ]
  },
  {
   "cell_type": "code",
   "execution_count": 74,
   "id": "80faf3ab-374d-472e-bc9a-24c682cdf7a9",
   "metadata": {
    "collapsed": true,
    "jupyter": {
     "outputs_hidden": true
    },
    "tags": []
   },
   "outputs": [
    {
     "data": {
      "text/plain": [
       "['They/ppss neither/cc liked/vbd nor/cc disliked/vbd the/at Old/jj-tl Man/nn-tl',\n",
       " '/',\n",
       " 'To/in them/ppo he/pps could/md have/hv been/ben the/at broken/vbn bell/nn in/in the/at church/nn tower/nn which/wdt rang/vbd before/in and/cc after/in Mass/nn-tl ,/, and/cc at/in noon/nn ,/, and/cc at/in six/cd each/dt evening/nn --/-- its/pp$ tone/nn ,/, repetitive/jj ,/, monotonous/jj ,/, never/rb breaking/vbg the/at boredom/nn of/in the/at streets/nns',\n",
       " '/',\n",
       " 'The/at Old/jj-tl Man/nn-tl was/bedz unimportant/jj',\n",
       " '/',\n",
       " 'Yet/rb if/cs he/pps were/bed not/* there/rb ,/, they/ppss would/md have/hv missed/vbn him/ppo ,/, as/cs they/ppss would/md have/hv missed/vbn the/at sounds/nns of/in bees/nns buzzing/vbg against/in the/at screen/nn door/nn in/in early/jj June/np ;/',\n",
       " ';/',\n",
       " 'or/cc the/at smell/nn of/in thick/jj tomato/nn paste/nn --/-- the/at ripe/jj smell/nn that/wps was/bedz both/abx sweet/jj and/cc sour/jj --/-- rising/vbg up/rp from/in aluminum/nn trays/nns wrapped/vbn in/in fly-dotted/jj cheesecloth/nn',\n",
       " '/',\n",
       " 'Or/cc the/at surging/vbg whirling/vbg sounds/nns of/in bats/nns at/in night/nn ,/, when/wrb their/pp$ black/jj bodies/nns dived/vbd into/in the/at blackness/nn above/in and/cc below/in the/at amber/jj street/nn lights/nns',\n",
       " '/',\n",
       " 'Or/cc the/at bay/nn of/in female/nn dogs/nns in/in heat/nn',\n",
       " '/',\n",
       " 'They/ppss never/rb called/vbd him/ppo by/in name/nn ,/, although/cs he/pps had/hvd one/pn',\n",
       " '/',\n",
       " \"Filippo/np Rossi/np ,/, that's/dt+bez what/wdt he/pps was/bedz called/vbn in/in the/at old/jj country/nn ;/\",\n",
       " ';/',\n",
       " 'but/cc here/rb he/pps was/bedz just/rb Signore/np or/cc the/at Old/jj-tl Man/nn-tl',\n",
       " '/',\n",
       " 'But/cc this/dt was/bedz not/* unusual/jj ,/, because/cs youth/nn in/in these/dts quarters/nns was/bedz always/rb pushed/vbn at/in a/at distance/nn from/in its/pp$ elders/nns',\n",
       " '/',\n",
       " 'Youth/nn obeyed/vbd when/wrb commanded/vbn',\n",
       " '/',\n",
       " 'It/pps went/vbd to/in church/nn on/in Sunday/nr and/cc one/cd Saturday/nr a/at month/nn went/vbd to/in confession/nn',\n",
       " '/',\n",
       " 'But/cc youth/nn asked/vbd nothing/pn of/in its/pp$ parents/nns --/-- not/* a/at touch/nn of/in the/at hand/nn or/cc a/at kiss/nn given/vbn in/in passing/vbg',\n",
       " '/',\n",
       " 'The/at only/ap thing/nn unusual/jj about/in the/at Old/jj-tl Man/nn-tl had/hvd long/jj since/rb happened/vbn',\n",
       " '/',\n",
       " 'But/cc the/at past/nn was/bedz dead/jj here/rb as/cs the/at present/jj was/bedz dead/jj',\n",
       " '/',\n",
       " 'Once/cs the/at Old/jj-tl Man/nn-tl had/hvd had/hvn a/at wife/nn',\n",
       " '/',\n",
       " 'And/cc once/cs she/pps ,/, too/rb ,/, ignored/vbd him/ppo',\n",
       " '/',\n",
       " \"With/in a/at tiny/jj fur-piece/nn wrapped/vbd around/in her/pp$ shoulders/nns ,/, she/pps wiggled/vbd her/pp$ satin-covered/jj buttocks/nns down/in the/at street/nn before/in him/ppo and/cc didn't/dod* stop/vb\",\n",
       " '/',\n",
       " 'In/in one/cd hand/nn she/pps clutched/vbd a/at hundred/cd dollar/nn bill/nn and/cc in/in the/at other/ap a/at straw/nn suitcase/nn',\n",
       " '/',\n",
       " 'The/at way/nn she/pps strutted/vbd down/in the/at street/nn ,/, the/at Old/jj-tl Man/nn-tl would/md have/hv been/ben blind/jj not/* to/to have/hv noticed/vbn both/abx',\n",
       " '/',\n",
       " 'Without/in looking/vbg at/in him/ppo ,/, without/in looking/vbg at/in anything/pn except/in Drexel/np-tl Street/nn-tl directly/rb in/in front/nn of/in her/ppo ,/, she/pps climbed/vbd up/rp into/in one/cd of/in those/dts orange/jj streetcars/nns ,/, rode/vbd away/rb in/in it/ppo ,/, and/cc never/rb came/vbd back/rb',\n",
       " '/',\n",
       " \"``/`` But/cc she/pps shouldn't/md* have/hv come/vbn here/rb in/in the/at first/od place/nn ''/'' ,/, the/at women/nns had/hvd said/vbn\",\n",
       " '/',\n",
       " '``/`` No/rb ,/, no/rb',\n",
       " '/',\n",
       " 'Not/* that/dt one/pn',\n",
       " '/',\n",
       " \"She/pps thought/vbd she/pps was/bedz bigger/jjr than/cs we/ppss are/ber because/cs she/pps came/vbd from/in Torino/np ''/''\",\n",
       " '/',\n",
       " '``/`` Eh/uh ,/, Torino/np !/',\n",
       " '!/',\n",
       " 'She/pps gave/vbd herself/ppl fancy/jj airs/nns !/',\n",
       " '!/',\n",
       " \"Just/rb because/cs she/pps had/hvd a/at part/nn on/in the/at stage/nn in/in the/at old/jj country/nn ,/, she/pps thought/vbd she/pps could/md carry/vb her/pp$ head/nn higher/rbr than/cs ours/pp$$ ''/''\",\n",
       " '/',\n",
       " 'They/ppss had/hvd slapped/vbn their/pp$ thighs/nns',\n",
       " '/',\n",
       " \"``/`` It's/pps+bez not/* for/in making/vbg pretty/jj speeches/nns about/in Dante/np those/dts actresses/nns get/vb paid/vbn so/ql good/rb ''/''\",\n",
       " '/',\n",
       " \"``/`` Henh/uh ''/'' !/\",\n",
       " '!/',\n",
       " 'Calloused/vbn fingers/nns ,/, caressed/vbn only/rb by/in the/at smoothness/nn of/in polished/vbn rosaries/nns ,/, had/hvd swayed/vbn excitedly/rb beneath/in puckered/vbn chins/nns where/wrb tiny/jj black/jj hairs/nns sprouted/vbd ,/, never/rb to/to be/be tweezed/vbn away/rb',\n",
       " '/',\n",
       " \"Mauve-colored/jj mouths/nns that/wps had/hvd never/rb known/vbn anything/pn sweeter/jjr than/cs the/at taste/nn of/in new/jj wine/nn and/cc the/at passion/nn of/in man's/nn$ tongue/nn had/hvd not/* smiled/vbn ,/, but/cc had/hvd condemned/vbn again/rb and/cc again/rb\",\n",
       " '/',\n",
       " \"``/`` Puttana/fw-nn ''/'' !/\",\n",
       " '!/',\n",
       " 'But/cc if/cs the/at Old/jj-tl Man/nn-tl even/rb thought/vbd about/in his/pp$ wife/nn now/rb ,/, nobody/pn cared/vbd a/at fig/nn',\n",
       " '/',\n",
       " 'It/pps was/bedz enough/ap for/in people/nns to/to know/vb that/cs at/in one/cd time/nn he/pps had/hvd looked/vbn down/in the/at street/nn at/in the/at f']"
      ]
     },
     "execution_count": 74,
     "metadata": {},
     "output_type": "execute_result"
    }
   ],
   "source": [
    "# .로 끊어보자 -> X\n",
    "[sentence.strip() for sentence in romance.split('.')]"
   ]
  },
  {
   "cell_type": "code",
   "execution_count": 75,
   "id": "eff71efd-760e-486c-9e5f-38ef79b4ecc6",
   "metadata": {
    "collapsed": true,
    "jupyter": {
     "outputs_hidden": true
    },
    "tags": []
   },
   "outputs": [
    {
     "data": {
      "text/plain": [
       "['',\n",
       " '',\n",
       " 'They/ppss neither/cc liked/vbd nor/cc disliked/vbd the/at Old/jj-tl Man/nn-tl ./.',\n",
       " 'To/in them/ppo he/pps could/md have/hv been/ben the/at broken/vbn bell/nn in/in the/at church/nn tower/nn which/wdt rang/vbd before/in and/cc after/in Mass/nn-tl ,/, and/cc at/in noon/nn ,/, and/cc at/in six/cd each/dt evening/nn --/-- its/pp$ tone/nn ,/, repetitive/jj ,/, monotonous/jj ,/, never/rb breaking/vbg the/at boredom/nn of/in the/at streets/nns ./.',\n",
       " 'The/at Old/jj-tl Man/nn-tl was/bedz unimportant/jj ./.',\n",
       " '',\n",
       " '',\n",
       " 'Yet/rb if/cs he/pps were/bed not/* there/rb ,/, they/ppss would/md have/hv missed/vbn him/ppo ,/, as/cs they/ppss would/md have/hv missed/vbn the/at sounds/nns of/in bees/nns buzzing/vbg against/in the/at screen/nn door/nn in/in early/jj June/np ;/. ;/.',\n",
       " 'or/cc the/at smell/nn of/in thick/jj tomato/nn paste/nn --/-- the/at ripe/jj smell/nn that/wps was/bedz both/abx sweet/jj and/cc sour/jj --/-- rising/vbg up/rp from/in aluminum/nn trays/nns wrapped/vbn in/in fly-dotted/jj cheesecloth/nn ./.',\n",
       " 'Or/cc the/at surging/vbg whirling/vbg sounds/nns of/in bats/nns at/in night/nn ,/, when/wrb their/pp$ black/jj bodies/nns dived/vbd into/in the/at blackness/nn above/in and/cc below/in the/at amber/jj street/nn lights/nns ./.',\n",
       " 'Or/cc the/at bay/nn of/in female/nn dogs/nns in/in heat/nn ./.',\n",
       " '',\n",
       " '',\n",
       " 'They/ppss never/rb called/vbd him/ppo by/in name/nn ,/, although/cs he/pps had/hvd one/pn ./.',\n",
       " \"Filippo/np Rossi/np ,/, that's/dt+bez what/wdt he/pps was/bedz called/vbn in/in the/at old/jj country/nn ;/. ;/.\",\n",
       " 'but/cc here/rb he/pps was/bedz just/rb Signore/np or/cc the/at Old/jj-tl Man/nn-tl ./.',\n",
       " 'But/cc this/dt was/bedz not/* unusual/jj ,/, because/cs youth/nn in/in these/dts quarters/nns was/bedz always/rb pushed/vbn at/in a/at distance/nn from/in its/pp$ elders/nns ./.',\n",
       " 'Youth/nn obeyed/vbd when/wrb commanded/vbn ./.',\n",
       " 'It/pps went/vbd to/in church/nn on/in Sunday/nr and/cc one/cd Saturday/nr a/at month/nn went/vbd to/in confession/nn ./.',\n",
       " 'But/cc youth/nn asked/vbd nothing/pn of/in its/pp$ parents/nns --/-- not/* a/at touch/nn of/in the/at hand/nn or/cc a/at kiss/nn given/vbn in/in passing/vbg ./.',\n",
       " '',\n",
       " '',\n",
       " 'The/at only/ap thing/nn unusual/jj about/in the/at Old/jj-tl Man/nn-tl had/hvd long/jj since/rb happened/vbn ./.',\n",
       " 'But/cc the/at past/nn was/bedz dead/jj here/rb as/cs the/at present/jj was/bedz dead/jj ./.',\n",
       " 'Once/cs the/at Old/jj-tl Man/nn-tl had/hvd had/hvn a/at wife/nn ./.',\n",
       " 'And/cc once/cs she/pps ,/, too/rb ,/, ignored/vbd him/ppo ./.',\n",
       " \"With/in a/at tiny/jj fur-piece/nn wrapped/vbd around/in her/pp$ shoulders/nns ,/, she/pps wiggled/vbd her/pp$ satin-covered/jj buttocks/nns down/in the/at street/nn before/in him/ppo and/cc didn't/dod* stop/vb ./.\",\n",
       " 'In/in one/cd hand/nn she/pps clutched/vbd a/at hundred/cd dollar/nn bill/nn and/cc in/in the/at other/ap a/at straw/nn suitcase/nn ./.',\n",
       " 'The/at way/nn she/pps strutted/vbd down/in the/at street/nn ,/, the/at Old/jj-tl Man/nn-tl would/md have/hv been/ben blind/jj not/* to/to have/hv noticed/vbn both/abx ./.',\n",
       " 'Without/in looking/vbg at/in him/ppo ,/, without/in looking/vbg at/in anything/pn except/in Drexel/np-tl Street/nn-tl directly/rb in/in front/nn of/in her/ppo ,/, she/pps climbed/vbd up/rp into/in one/cd of/in those/dts orange/jj streetcars/nns ,/, rode/vbd away/rb in/in it/ppo ,/, and/cc never/rb came/vbd back/rb ./.',\n",
       " '',\n",
       " '',\n",
       " \"``/`` But/cc she/pps shouldn't/md* have/hv come/vbn here/rb in/in the/at first/od place/nn ''/'' ,/, the/at women/nns had/hvd said/vbn ./.\",\n",
       " '',\n",
       " '',\n",
       " '``/`` No/rb ,/, no/rb ./.',\n",
       " 'Not/* that/dt one/pn ./.',\n",
       " \"She/pps thought/vbd she/pps was/bedz bigger/jjr than/cs we/ppss are/ber because/cs she/pps came/vbd from/in Torino/np ''/'' ./.\",\n",
       " '',\n",
       " '',\n",
       " '``/`` Eh/uh ,/, Torino/np !/. !/.',\n",
       " 'She/pps gave/vbd herself/ppl fancy/jj airs/nns !/. !/.',\n",
       " \"Just/rb because/cs she/pps had/hvd a/at part/nn on/in the/at stage/nn in/in the/at old/jj country/nn ,/, she/pps thought/vbd she/pps could/md carry/vb her/pp$ head/nn higher/rbr than/cs ours/pp$$ ''/'' ./.\",\n",
       " 'They/ppss had/hvd slapped/vbn their/pp$ thighs/nns ./.',\n",
       " '',\n",
       " '',\n",
       " \"``/`` It's/pps+bez not/* for/in making/vbg pretty/jj speeches/nns about/in Dante/np those/dts actresses/nns get/vb paid/vbn so/ql good/rb ''/'' ./.\",\n",
       " '',\n",
       " '',\n",
       " \"``/`` Henh/uh ''/'' !/. !/.\",\n",
       " 'Calloused/vbn fingers/nns ,/, caressed/vbn only/rb by/in the/at smoothness/nn of/in polished/vbn rosaries/nns ,/, had/hvd swayed/vbn excitedly/rb beneath/in puckered/vbn chins/nns where/wrb tiny/jj black/jj hairs/nns sprouted/vbd ,/, never/rb to/to be/be tweezed/vbn away/rb ./.',\n",
       " \"Mauve-colored/jj mouths/nns that/wps had/hvd never/rb known/vbn anything/pn sweeter/jjr than/cs the/at taste/nn of/in new/jj wine/nn and/cc the/at passion/nn of/in man's/nn$ tongue/nn had/hvd not/* smiled/vbn ,/, but/cc had/hvd condemned/vbn again/rb and/cc again/rb ./.\",\n",
       " \"``/`` Puttana/fw-nn ''/'' !/. !/.\",\n",
       " '',\n",
       " '',\n",
       " 'But/cc if/cs the/at Old/jj-tl Man/nn-tl even/rb thought/vbd about/in his/pp$ wife/nn now/rb ,/, nobody/pn cared/vbd a/at fig/nn ./.',\n",
       " 'It/pps was/bedz enough/ap for/in people/nns to/to know/vb that/cs at/in one/cd time/nn he/pps had/hvd looked/vbn down/in the/at street/nn at/in the/at f']"
      ]
     },
     "execution_count": 75,
     "metadata": {},
     "output_type": "execute_result"
    }
   ],
   "source": [
    "# \\n 로 끊어보자 -> X\n",
    "[sentence.strip() for sentence in romance.split('\\n')]"
   ]
  },
  {
   "cell_type": "code",
   "execution_count": 79,
   "id": "cbab89bb-8d69-40a7-b872-52ff6a6d9e41",
   "metadata": {},
   "outputs": [
    {
     "data": {
      "text/plain": [
       "'They/ppss neither/cc liked/vbd nor/cc disliked/vbd the/at Old/jj-tl Man/nn-tl'"
      ]
     },
     "execution_count": 79,
     "metadata": {},
     "output_type": "execute_result"
    }
   ],
   "source": [
    "# 첫 문장\n",
    "sentence[0]"
   ]
  },
  {
   "cell_type": "code",
   "execution_count": 82,
   "id": "335211b3-8bbb-44ce-9246-85f83668d0fb",
   "metadata": {},
   "outputs": [
    {
     "data": {
      "text/plain": [
       "['They', 'neither', 'liked', 'nor', 'disliked', 'the', 'Old', 'Man']"
      ]
     },
     "execution_count": 82,
     "metadata": {},
     "output_type": "execute_result"
    }
   ],
   "source": [
    "# 단어 분절\n",
    "example = sentence[0]\n",
    "\n",
    "# 방법 1: example.split(' ') #공백을 기준으로 분절\n",
    "[word.split('/')[0] for word in example.split(' ')]\n"
   ]
  },
  {
   "cell_type": "code",
   "execution_count": 4,
   "id": "c0c5d734-8838-49fc-b2a8-46de72c9ab43",
   "metadata": {
    "tags": []
   },
   "outputs": [
    {
     "data": {
      "text/plain": [
       "['!', '\"', '#', '$', '%', '&', \"'\", '(', ')', '*']"
      ]
     },
     "execution_count": 4,
     "metadata": {},
     "output_type": "execute_result"
    }
   ],
   "source": [
    "# 문장부호 제외 \n",
    "import string\n",
    "punctuations = list(string.punctuation)\n",
    "punctuations[:10]\n"
   ]
  },
  {
   "cell_type": "code",
   "execution_count": 101,
   "id": "76586ace-fbc7-49c6-a6a5-67fe40fa136a",
   "metadata": {},
   "outputs": [
    {
     "data": {
      "text/plain": [
       "['fur', 'piece']"
      ]
     },
     "execution_count": 101,
     "metadata": {},
     "output_type": "execute_result"
    }
   ],
   "source": [
    "# 하이픈 제거\n",
    "#fur-piece ==> fur, piece\n",
    "'fur-piece'.split('-')  # --> list extend"
   ]
  },
  {
   "cell_type": "code",
   "execution_count": 27,
   "id": "eec2877b-8c31-4e0d-98a7-b2f4de3fcf92",
   "metadata": {},
   "outputs": [
    {
     "data": {
      "text/plain": [
       "('she', \"'s\")"
      ]
     },
     "execution_count": 27,
     "metadata": {},
     "output_type": "execute_result"
    }
   ],
   "source": [
    "# ' 제거\n",
    "#she's -> she, 's / she is...\n",
    "word = 'she\\'s'\n",
    "index = word .find('\\'')\n",
    "word[:index], word[index:]"
   ]
  },
  {
   "cell_type": "code",
   "execution_count": 34,
   "id": "ea820b4b-be56-412b-9bdc-1b549f70efc4",
   "metadata": {},
   "outputs": [
    {
     "data": {
      "text/plain": [
       "[False]"
      ]
     },
     "execution_count": 34,
     "metadata": {},
     "output_type": "execute_result"
    }
   ],
   "source": [
    "# 불용어 제거?\n",
    "stopwords = nltk.corpus.stopwords.words('english')\n",
    "[word not in stopwords]"
   ]
  },
  {
   "cell_type": "code",
   "execution_count": null,
   "id": "5e884320-1665-4911-84b5-f318e6d85912",
   "metadata": {},
   "outputs": [],
   "source": []
  },
  {
   "cell_type": "code",
   "execution_count": null,
   "id": "e6776218-8926-4376-88be-07eb42c2837a",
   "metadata": {},
   "outputs": [],
   "source": []
  },
  {
   "cell_type": "code",
   "execution_count": null,
   "id": "60c7072f-2cea-4403-bffe-fc4da253cc97",
   "metadata": {},
   "outputs": [],
   "source": []
  },
  {
   "cell_type": "code",
   "execution_count": null,
   "id": "b7246924-38a1-4741-9a48-7d7064d9d227",
   "metadata": {},
   "outputs": [],
   "source": []
  },
  {
   "cell_type": "code",
   "execution_count": null,
   "id": "f18efd32-ca85-41e8-a2a4-12b922f20f4e",
   "metadata": {},
   "outputs": [],
   "source": []
  },
  {
   "cell_type": "code",
   "execution_count": null,
   "id": "59787d19-d88c-41fd-8962-abe72e5e44e4",
   "metadata": {},
   "outputs": [],
   "source": []
  }
 ],
 "metadata": {
  "kernelspec": {
   "display_name": "Python 3",
   "language": "python",
   "name": "python3"
  },
  "language_info": {
   "codemirror_mode": {
    "name": "ipython",
    "version": 3
   },
   "file_extension": ".py",
   "mimetype": "text/x-python",
   "name": "python",
   "nbconvert_exporter": "python",
   "pygments_lexer": "ipython3",
   "version": "3.8.8"
  }
 },
 "nbformat": 4,
 "nbformat_minor": 5
}
