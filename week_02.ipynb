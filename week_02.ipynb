{
 "cells": [
  {
   "cell_type": "markdown",
   "id": "45ba6125",
   "metadata": {
    "tags": []
   },
   "source": [
    "## Ch2-1. Variables 변수\n",
    "\n",
    "- 자료형 변환하기\n",
    "    - int, str, float, bool"
   ]
  },
  {
   "cell_type": "code",
   "execution_count": 13,
   "id": "9b92717a",
   "metadata": {},
   "outputs": [
    {
     "data": {
      "text/plain": [
       "int"
      ]
     },
     "execution_count": 13,
     "metadata": {},
     "output_type": "execute_result"
    }
   ],
   "source": [
    "a = 10\n",
    "type(a)"
   ]
  },
  {
   "cell_type": "code",
   "execution_count": 15,
   "id": "2adafc10",
   "metadata": {},
   "outputs": [
    {
     "data": {
      "text/plain": [
       "10.0"
      ]
     },
     "execution_count": 15,
     "metadata": {},
     "output_type": "execute_result"
    }
   ],
   "source": [
    "# int => float\n",
    "float(a)"
   ]
  },
  {
   "cell_type": "code",
   "execution_count": 16,
   "id": "b80fce62",
   "metadata": {},
   "outputs": [
    {
     "data": {
      "text/plain": [
       "True"
      ]
     },
     "execution_count": 16,
     "metadata": {},
     "output_type": "execute_result"
    }
   ],
   "source": [
    "# int => bool\n",
    "bool(10)"
   ]
  },
  {
   "cell_type": "code",
   "execution_count": 17,
   "id": "bf6a35d5",
   "metadata": {},
   "outputs": [
    {
     "data": {
      "text/plain": [
       "10"
      ]
     },
     "execution_count": 17,
     "metadata": {},
     "output_type": "execute_result"
    }
   ],
   "source": [
    "# float => int  #정수로 변환시 소수점 이하 값 버림\n",
    "int(10.9)"
   ]
  },
  {
   "cell_type": "code",
   "execution_count": 12,
   "id": "f85c6728",
   "metadata": {},
   "outputs": [
    {
     "name": "stdout",
     "output_type": "stream",
     "text": [
      "12\n",
      "11\n"
     ]
    }
   ],
   "source": [
    "x = 4.6\n",
    "y = 7.9\n",
    "\n",
    "print(int(x + y)) #11.xx\n",
    "print(int(x) + int(y))  #4+7"
   ]
  },
  {
   "cell_type": "code",
   "execution_count": 5,
   "id": "7b3fa79e",
   "metadata": {},
   "outputs": [
    {
     "data": {
      "text/plain": [
       "88.3"
      ]
     },
     "execution_count": 5,
     "metadata": {},
     "output_type": "execute_result"
    }
   ],
   "source": [
    "# str -> int\n",
    "p = '88.3'   #나쁜 변수명\n",
    "#int(p)   #에러 나옴. 문자열을 정수형으로 바꿀 수 없음?\n",
    "float(p)  #실수형은 가능?"
   ]
  },
  {
   "cell_type": "markdown",
   "id": "dfbcbfe6",
   "metadata": {},
   "source": [
    "### 꿀팁 \n",
    "print()"
   ]
  },
  {
   "cell_type": "code",
   "execution_count": 7,
   "id": "61b2d340",
   "metadata": {},
   "outputs": [
    {
     "name": "stdout",
     "output_type": "stream",
     "text": [
      "orange apple tomato\n",
      "the next line\n"
     ]
    }
   ],
   "source": [
    "print('orange', 'apple', 'tomato')  #default : 띄어쓰기 저절로 되서 출력 됨\n",
    "print(\"the next line\")  #default : 줄바꾸기 저절로 됨"
   ]
  },
  {
   "cell_type": "code",
   "execution_count": 18,
   "id": "bbfea1d4",
   "metadata": {},
   "outputs": [
    {
     "name": "stdout",
     "output_type": "stream",
     "text": [
      "orangeappletomato\n",
      "orange apple tomato\n",
      "orange_apple_tomato\n",
      "\n",
      "EQL\n"
     ]
    }
   ],
   "source": [
    "orange = 'orange'\n",
    "apple = 'apple'\n",
    "tomato = 'tomato'\n",
    "\n",
    "#방법 1.\n",
    "print(orange + apple + tomato) #연결 가능하지만 공백 사라짐\n",
    "print(orange, apple, tomato, sep=' ', end='\\n')\n",
    "print(orange, apple, tomato, sep='_', end='\\n\\n')\n",
    "print('EQL')"
   ]
  },
  {
   "cell_type": "code",
   "execution_count": 19,
   "id": "2c99ff2b",
   "metadata": {},
   "outputs": [],
   "source": [
    "# 라인이 짧을 때 : 세미콜론(;) 사용해 줄 맞추기 \n",
    "orange = 'orange' ; apple = 'apple' ; tomato = 'tomato'"
   ]
  },
  {
   "cell_type": "code",
   "execution_count": 20,
   "id": "33fe853b",
   "metadata": {},
   "outputs": [
    {
     "name": "stdout",
     "output_type": "stream",
     "text": [
      "\n"
     ]
    }
   ],
   "source": [
    "num = 5 ; print(num)"
   ]
  },
  {
   "cell_type": "markdown",
   "id": "d358afc6-4c46-4d96-b7a2-5b1ce27a3932",
   "metadata": {
    "tags": []
   },
   "source": [
    "## Ch02-2. input()함수\n",
    "- console에서 사용자에게 값을 입력 받는 함수\n",
    "- 입출력 관련된 함수\n",
    "- 입력 받는 값의 타입은 문자열(str)\n",
    "- 입력 받는 값을 변수에 담아서 사용한다."
   ]
  },
  {
   "cell_type": "code",
   "execution_count": null,
   "id": "145925ee-9c08-4b66-b312-3c4b3953a0fb",
   "metadata": {
    "tags": []
   },
   "outputs": [],
   "source": [
    "input(\"What's your name? \")"
   ]
  },
  {
   "cell_type": "code",
   "execution_count": 3,
   "id": "9c02d672-1abf-4e25-ab47-36fba6733897",
   "metadata": {},
   "outputs": [
    {
     "name": "stdout",
     "output_type": "stream",
     "text": [
      "What'your name? Lee\n"
     ]
    }
   ],
   "source": [
    "#1.\n",
    "name = input(\"What'your name? \")"
   ]
  },
  {
   "cell_type": "code",
   "execution_count": 4,
   "id": "71428e73-d08f-4d68-9086-6e9d2685a968",
   "metadata": {},
   "outputs": [
    {
     "data": {
      "text/plain": [
       "'Lee'"
      ]
     },
     "execution_count": 4,
     "metadata": {},
     "output_type": "execute_result"
    }
   ],
   "source": [
    "name"
   ]
  },
  {
   "cell_type": "code",
   "execution_count": 5,
   "id": "5d8566eb-71e0-49c7-9cba-72b068a3260c",
   "metadata": {},
   "outputs": [
    {
     "name": "stdout",
     "output_type": "stream",
     "text": [
      "What'your name? \n",
      "Wang\n"
     ]
    }
   ],
   "source": [
    "#2.\n",
    "print(\"What'your name? \")\n",
    "name = input()"
   ]
  },
  {
   "cell_type": "code",
   "execution_count": 10,
   "id": "0045151c-a58e-40f9-8712-2056d27b269b",
   "metadata": {},
   "outputs": [
    {
     "name": "stdout",
     "output_type": "stream",
     "text": [
      "Wang\n"
     ]
    }
   ],
   "source": [
    "print(name)"
   ]
  },
  {
   "cell_type": "markdown",
   "id": "b523f809-bc4a-4fdd-b156-03e66490eeca",
   "metadata": {},
   "source": [
    "input을 str이 아닌 다른 타입으로 사용하고 싶으면 형 변환 미리 해주기"
   ]
  },
  {
   "cell_type": "code",
   "execution_count": 8,
   "id": "e7926fcd-7899-448d-b1dc-3107e90696e3",
   "metadata": {},
   "outputs": [
    {
     "name": "stdout",
     "output_type": "stream",
     "text": [
      "How old are you? 19\n"
     ]
    }
   ],
   "source": [
    "age = input(\"How old are you?\")"
   ]
  },
  {
   "cell_type": "code",
   "execution_count": 9,
   "id": "8630fc2c-d3f9-4372-a539-5e9d0faec119",
   "metadata": {},
   "outputs": [
    {
     "data": {
      "text/plain": [
       "str"
      ]
     },
     "execution_count": 9,
     "metadata": {},
     "output_type": "execute_result"
    }
   ],
   "source": [
    "type(age)"
   ]
  },
  {
   "cell_type": "code",
   "execution_count": 11,
   "id": "987b0381-7f2f-4d45-a042-a46f4d0def9d",
   "metadata": {},
   "outputs": [
    {
     "name": "stdout",
     "output_type": "stream",
     "text": [
      "How old are you? 20\n"
     ]
    }
   ],
   "source": [
    "age = int(input(\"How old are you?\"))"
   ]
  },
  {
   "cell_type": "code",
   "execution_count": 13,
   "id": "1781e00e-e56e-4a69-b2a7-1feb568841a9",
   "metadata": {},
   "outputs": [
    {
     "name": "stdout",
     "output_type": "stream",
     "text": [
      "당신이 태어난 해는 2003 입니다\n"
     ]
    }
   ],
   "source": [
    "print(\"당신이 태어난 해는\", 2022 - age + 1, '입니다')  #연산 가능해짐"
   ]
  },
  {
   "cell_type": "markdown",
   "id": "a89b70de-b075-4c93-a9d2-948f4a57b32b",
   "metadata": {
    "tags": []
   },
   "source": [
    "### printing : 문자열 포매팅"
   ]
  },
  {
   "cell_type": "code",
   "execution_count": 14,
   "id": "5b2b5368-346f-42d0-b2da-7bbd695da542",
   "metadata": {},
   "outputs": [
    {
     "name": "stdout",
     "output_type": "stream",
     "text": [
      "당신이 태어난 해는 20년입니다!\n"
     ]
    }
   ],
   "source": [
    "print(f'당신이 태어난 해는 {age}년입니다!')  #중괄호 안을 변수로 인식함, print(f'{<variable>})"
   ]
  },
  {
   "cell_type": "markdown",
   "id": "0ffb41bd-9515-40a6-9c35-224c32aac777",
   "metadata": {},
   "source": [
    "### Quiz 1\n",
    "택배 정보를 입력 받고 무게에 따른 값 산정하기\n",
    "\n",
    "- 수취인 성명 :\n",
    "- 수취인 주소 :\n",
    "    - 배송비는 3000원\n",
    "    - 물건 비용 : <계산된 값>원\n",
    "    - 총 합계 : <계산된 값>원\n",
    "    - 물건 비용은 무게 (g) * 5\n",
    "- 입력 값 = 이름, 주소, 무게"
   ]
  },
  {
   "cell_type": "code",
   "execution_count": 5,
   "id": "f25455b9-b873-4791-81e7-c74d87f017f0",
   "metadata": {},
   "outputs": [
    {
     "name": "stdin",
     "output_type": "stream",
     "text": [
      "수취인의 성명은 무엇입니까? 고해람\n",
      "수취인의 주소는 무엇입니가? 경기도 고양시 일산동구\n",
      "물건의 무게는 얼마입니까? (g기준입니다) 54\n"
     ]
    },
    {
     "name": "stdout",
     "output_type": "stream",
     "text": [
      "고해람 고객님이 지불하실 총 합계는 3270원입니다.\n"
     ]
    }
   ],
   "source": [
    "name = input(\"수취인의 성명은 무엇입니까?\")\n",
    "adress = input(\"수취인의 주소는 무엇입니가?\")\n",
    "weight = int(input(\"물건의 무게는 얼마입니까? (g기준입니다)\"))\n",
    "total = weight * 5 + 3000\n",
    "\n",
    "print(f'{name} 고객님이 지불하실 총 합계는 {total}원입니다.' )\n"
   ]
  },
  {
   "cell_type": "markdown",
   "id": "60e6d1a6-ae79-4c86-9479-e21d92c21d51",
   "metadata": {},
   "source": [
    "### Ch03.Numbers"
   ]
  },
  {
   "cell_type": "markdown",
   "id": "7a2347cf-4541-4141-98a4-6401762edb0b",
   "metadata": {},
   "source": [
    "### boolean\n",
    "- True / False\n",
    "- False인 값\n",
    "- if문 (조건식)에서 많이 씀 : \"만약 어떤 값이 True면, ...\""
   ]
  },
  {
   "cell_type": "code",
   "execution_count": 2,
   "id": "e3fbe0f8-58b4-4766-8ca9-72606cab5bea",
   "metadata": {},
   "outputs": [
    {
     "data": {
      "text/plain": [
       "False"
      ]
     },
     "execution_count": 2,
     "metadata": {},
     "output_type": "execute_result"
    }
   ],
   "source": [
    "bool(0)"
   ]
  },
  {
   "cell_type": "code",
   "execution_count": 3,
   "id": "670e4bdf-f205-4ee4-a434-ead0f25b9ccf",
   "metadata": {},
   "outputs": [
    {
     "data": {
      "text/plain": [
       "False"
      ]
     },
     "execution_count": 3,
     "metadata": {},
     "output_type": "execute_result"
    }
   ],
   "source": [
    "bool(None)"
   ]
  },
  {
   "cell_type": "markdown",
   "id": "2fefe4c3-7c94-47b3-8a39-05c7e22166d1",
   "metadata": {},
   "source": [
    "### integer\n",
    "- 분수나 소수가 아닌 정수\n",
    "- 음수는 '-' 기호를 붙인다 : i.e., -50\n",
    "- default = 양수\n",
    "- 숫자 앞에는 0을 쓰지 못한다 : i.e., 09 (x)\n",
    "    - cf.0bxx (10진수가 아닌)\n",
    "- 숫자 사이에 쉼표를 쓰면 오류 : 100,000 (x) -> 100_000\n",
    "    => 숫자 사이의 언더바는 인식하지 않는다는 의미"
   ]
  },
  {
   "cell_type": "code",
   "execution_count": 5,
   "id": "cc45d86e-47a5-4aad-8a94-37c939009cd7",
   "metadata": {},
   "outputs": [
    {
     "ename": "SyntaxError",
     "evalue": "leading zeros in decimal integer literals are not permitted; use an 0o prefix for octal integers (<ipython-input-5-4a84c0f7ac01>, line 1)",
     "output_type": "error",
     "traceback": [
      "\u001b[1;36m  File \u001b[1;32m\"<ipython-input-5-4a84c0f7ac01>\"\u001b[1;36m, line \u001b[1;32m1\u001b[0m\n\u001b[1;33m    a = 09    #0이 빨간색으로 오류남\u001b[0m\n\u001b[1;37m         ^\u001b[0m\n\u001b[1;31mSyntaxError\u001b[0m\u001b[1;31m:\u001b[0m leading zeros in decimal integer literals are not permitted; use an 0o prefix for octal integers\n"
     ]
    }
   ],
   "source": [
    "a = 09    #0이 빨간색으로 오류남"
   ]
  },
  {
   "cell_type": "code",
   "execution_count": 6,
   "id": "59c6a733-76b9-4b1f-9b6a-b3c1dc0e4fee",
   "metadata": {},
   "outputs": [
    {
     "data": {
      "text/plain": [
       "-1"
      ]
     },
     "execution_count": 6,
     "metadata": {},
     "output_type": "execute_result"
    }
   ],
   "source": [
    "a = -50\n",
    "b = 49\n",
    "a + b"
   ]
  },
  {
   "cell_type": "markdown",
   "id": "94af3057-fe88-428d-b8df-4dca17bdb285",
   "metadata": {},
   "source": [
    "### 연산자|operator\n",
    "- +, -, /, *\n",
    "- 피연산자|operand: 1,2, ..\n",
    "- 수식|expression\n"
   ]
  },
  {
   "cell_type": "code",
   "execution_count": 7,
   "id": "89bafe01-3218-4cea-836b-09f932bf28b4",
   "metadata": {},
   "outputs": [
    {
     "data": {
      "text/plain": [
       "6561"
      ]
     },
     "execution_count": 7,
     "metadata": {},
     "output_type": "execute_result"
    }
   ],
   "source": [
    "x = 9\n",
    "y = 4\n",
    "\n",
    "# 연산 5가지\n",
    "x + y\n",
    "x - y\n",
    "x * y\n",
    "x / y\n",
    "x ** y  #거듭제곱|erponential\n"
   ]
  },
  {
   "cell_type": "markdown",
   "id": "e60a8f86-a59f-40cc-b437-b113a4c21f73",
   "metadata": {},
   "source": [
    "나눗셈 = 몫, 나머지"
   ]
  },
  {
   "cell_type": "code",
   "execution_count": 9,
   "id": "32e33df7-f7f0-414e-96ed-854f2faca8f1",
   "metadata": {},
   "outputs": [
    {
     "data": {
      "text/plain": [
       "2.25"
      ]
     },
     "execution_count": 9,
     "metadata": {},
     "output_type": "execute_result"
    }
   ],
   "source": [
    "x / y  #몫, 나머지"
   ]
  },
  {
   "cell_type": "code",
   "execution_count": 11,
   "id": "bcf5554e-7249-4460-bf5d-84bb1eadfdcf",
   "metadata": {},
   "outputs": [
    {
     "data": {
      "text/plain": [
       "2"
      ]
     },
     "execution_count": 11,
     "metadata": {},
     "output_type": "execute_result"
    }
   ],
   "source": [
    "x // y #몫만 나옴"
   ]
  },
  {
   "cell_type": "code",
   "execution_count": 12,
   "id": "ec41c030-2e9c-410b-adc0-c2aabf9dccfa",
   "metadata": {},
   "outputs": [
    {
     "data": {
      "text/plain": [
       "1"
      ]
     },
     "execution_count": 12,
     "metadata": {},
     "output_type": "execute_result"
    }
   ],
   "source": [
    "x % y  #나머지만 나옴"
   ]
  },
  {
   "cell_type": "code",
   "execution_count": 13,
   "id": "ad59b9e9-8154-47b8-9270-79dc3480d77d",
   "metadata": {},
   "outputs": [
    {
     "data": {
      "text/plain": [
       "(2, 1)"
      ]
     },
     "execution_count": 13,
     "metadata": {},
     "output_type": "execute_result"
    }
   ],
   "source": [
    "divmod(x, y)  #(몫, 나머지) 튜플 형태로 반환됨"
   ]
  },
  {
   "cell_type": "code",
   "execution_count": 15,
   "id": "8521036b-842e-4581-a0f0-ae178553e075",
   "metadata": {},
   "outputs": [],
   "source": [
    "# division by zero 항시 유의 !"
   ]
  },
  {
   "cell_type": "code",
   "execution_count": 17,
   "id": "2f738c6f-de9a-49f2-bb1f-72b3bfbf1aff",
   "metadata": {},
   "outputs": [
    {
     "data": {
      "text/plain": [
       "20"
      ]
     },
     "execution_count": 17,
     "metadata": {},
     "output_type": "execute_result"
    }
   ],
   "source": [
    "1 + 9              + 10   #숫자 사이의 공백은 무시되어 연산됨"
   ]
  },
  {
   "cell_type": "markdown",
   "id": "f75465ce-1422-452d-8f8a-44ef5ab1be51",
   "metadata": {},
   "source": [
    "#### 복합 대입 연산자 | compound assignment operator \n",
    "- 자신의 값을 대입해 업데이트 함"
   ]
  },
  {
   "cell_type": "code",
   "execution_count": 20,
   "id": "2449900c-2b10-4486-97c3-8f56c0dee97a",
   "metadata": {},
   "outputs": [
    {
     "name": "stdout",
     "output_type": "stream",
     "text": [
      "5\n"
     ]
    }
   ],
   "source": [
    "x = 5\n",
    "x - 3\n",
    "print(x)   #x빼준 값을 대입하지 않아서 그대로 나온다"
   ]
  },
  {
   "cell_type": "code",
   "execution_count": 24,
   "id": "1f857fcd-4dd1-44d4-b7cb-03ea78c819b3",
   "metadata": {},
   "outputs": [
    {
     "name": "stdout",
     "output_type": "stream",
     "text": [
      "-7\n"
     ]
    }
   ],
   "source": [
    "x = x - 3\n",
    "print(x)\n",
    "\n",
    "#step 1. x - 3 계산\n",
    "#step 2. temp = x - 3 (임시변수에 담는다)\n",
    "#step 3. x = temp"
   ]
  },
  {
   "cell_type": "code",
   "execution_count": 25,
   "id": "c77e8b86-583e-4a4a-b8a7-e74aaa261c1d",
   "metadata": {},
   "outputs": [
    {
     "name": "stdout",
     "output_type": "stream",
     "text": [
      "-10\n"
     ]
    }
   ],
   "source": [
    "x -= 3\n",
    "print(x)  #2 - 3"
   ]
  },
  {
   "cell_type": "code",
   "execution_count": 26,
   "id": "f8c95bd6-ae27-4922-9e0e-a20442ffb43e",
   "metadata": {},
   "outputs": [],
   "source": [
    "x += 3\n",
    "x -+ 3\n",
    "x *= 3\n",
    "x /= 3\n",
    "\n",
    "x += 1"
   ]
  },
  {
   "cell_type": "markdown",
   "id": "148d4150-f8d5-4a47-9a53-b514d5980d36",
   "metadata": {},
   "source": [
    "### Quiz 1.\n",
    "- 반지름을 입력 받아서 원의 면적 구하기\n",
    "- 면적 = pi * r제곱"
   ]
  },
  {
   "cell_type": "code",
   "execution_count": 30,
   "id": "080e167c-a77a-42cf-aa23-08852bafe036",
   "metadata": {},
   "outputs": [
    {
     "name": "stdout",
     "output_type": "stream",
     "text": [
      "반지름은 얼마입니까?3.47\n",
      "원의 면적은 37.808426000000004입니다.\n"
     ]
    }
   ],
   "source": [
    "r = float(input('반지름은 얼마입니까?'))\n",
    "space = 3.14 * r * r\n",
    "\n",
    "print(f'원의 면적은 {space}입니다.')"
   ]
  },
  {
   "cell_type": "markdown",
   "id": "a2c87aef-605f-4c65-b76f-7cc35a3a5853",
   "metadata": {},
   "source": [
    "### Quiz 2.\n",
    "- 숫자를 입력 받고 3의 배수인지 확인하기 (True, False 사용해보기)\n",
    "- 숫자를 입력 받고 홀수인지 확인하기"
   ]
  },
  {
   "cell_type": "code",
   "execution_count": 33,
   "id": "bf9f1466-ae8f-4c7a-94e1-827b7a5817ad",
   "metadata": {},
   "outputs": [
    {
     "name": "stdout",
     "output_type": "stream",
     "text": [
      "숫자를 입력하세요 : 35\n",
      "3의 배수가 아닙니다!\n"
     ]
    }
   ],
   "source": [
    "num = int(input(\"숫자를 입력하세요 : \"))\n",
    "if num % 3 == 0:\n",
    "    print(\"3의 배수입니다!\")\n",
    "else : \n",
    "    print(\"3의 배수가 아닙니다!\")"
   ]
  },
  {
   "cell_type": "code",
   "execution_count": 35,
   "id": "a9cae1a8-cd32-4dfe-99c7-f93038274ba6",
   "metadata": {},
   "outputs": [
    {
     "name": "stdout",
     "output_type": "stream",
     "text": [
      "숫자를 입력하세요 :0\n",
      "짝수입니다!\n"
     ]
    }
   ],
   "source": [
    "num = int(input(\"숫자를 입력하세요 :\"))\n",
    "if num % 2 == 0 and num == 0:\n",
    "    print(\"짝수입니다!\")\n",
    "else : \n",
    "    print(\"홀수입니다!\")"
   ]
  },
  {
   "cell_type": "markdown",
   "id": "5d0e9f82-5ee1-4ca2-b8ec-57771bacd38f",
   "metadata": {},
   "source": [
    "### 지수 표현  (다시 복습하기)\n",
    "- 예: '1.0e4'\n",
    "- e의 앞부분은 소수, 정수, 둘다 됨\n",
    "- 뒷부분은 정수여야 함\n",
    "- 뒷부분이 음수면 소수점 자릿수를 의미함\n",
    "- e, E 둘다 사용 가능 "
   ]
  },
  {
   "cell_type": "code",
   "execution_count": 38,
   "id": "df6123a2-ba85-4a7f-a54e-7e305f0edaf8",
   "metadata": {},
   "outputs": [
    {
     "data": {
      "text/plain": [
       "10000.0"
      ]
     },
     "execution_count": 38,
     "metadata": {},
     "output_type": "execute_result"
    }
   ],
   "source": [
    "1.0e4  "
   ]
  },
  {
   "cell_type": "code",
   "execution_count": 39,
   "id": "008616d3-67d0-415e-bc30-eb575de1252d",
   "metadata": {},
   "outputs": [],
   "source": [
    "# 0.0004005 => 지수로 표현하기"
   ]
  },
  {
   "cell_type": "code",
   "execution_count": 45,
   "id": "989aa2ca-ff70-484b-9517-48ec46655ea8",
   "metadata": {},
   "outputs": [
    {
     "data": {
      "text/plain": [
       "0.0004005"
      ]
     },
     "execution_count": 45,
     "metadata": {},
     "output_type": "execute_result"
    }
   ],
   "source": [
    "4.005e-4  # e의 역할 무엇?"
   ]
  },
  {
   "cell_type": "markdown",
   "id": "472f488c-a1e4-437c-8946-a3435b78af67",
   "metadata": {},
   "source": [
    "### IF 조건문"
   ]
  },
  {
   "cell_type": "markdown",
   "id": "750e4933-dc82-482f-943e-dbafe6ba56f0",
   "metadata": {},
   "source": [
    "#### 코드 짜는 팁\n",
    "- 주석 달기\n",
    "    - '#' hash, sharp, ..\n",
    "    - '#' 시작지점부터 라인 끝까지가 주석 처리됨. 라인이 바뀌면 코드로 인식함\n",
    "    - \"\"\" \"\"\" : 긴 주석\n",
    "    - 문자열 안에 있는 sharp는 부호로 인식한다.\n",
    "    - 코드에 대한 설명은 최대한 하지 않는다. 코드만 봐도 의미 전달이 되어야 한다.\n",
    "    - 주석을 다는 이유는 의도를 나타내거나, 오류가 있거나,...(의미 외의 전달사항)\n",
    "\n",
    "- 라인 유지하기\n",
    "    - 들여쓰기 (default : space 4개, 탭을 이용하기)\n",
    "    - 논리 구조를 나타내기 때문에 굉장히 중요함 !\n",
    "    - 한 라인에 80자 정도 (백슬래시 \\로 라인을 끊어준다)"
   ]
  },
  {
   "cell_type": "code",
   "execution_count": 1,
   "id": "a6099220-088e-4363-ba3a-2f39d01e4899",
   "metadata": {},
   "outputs": [
    {
     "name": "stdout",
     "output_type": "stream",
     "text": [
      "3\n"
     ]
    }
   ],
   "source": [
    "a = 3 # 주석입니다\n",
    "\"\"\"\n",
    "주석1\n",
    "주석2\n",
    "주석3\n",
    "\"\"\"\n",
    "print(a)"
   ]
  },
  {
   "cell_type": "code",
   "execution_count": 2,
   "id": "775cd795-6eba-4be1-a6a8-873a71285cff",
   "metadata": {},
   "outputs": [
    {
     "name": "stdout",
     "output_type": "stream",
     "text": [
      "hey, there #\n"
     ]
    }
   ],
   "source": [
    "print('hey, there #')"
   ]
  },
  {
   "cell_type": "markdown",
   "id": "1680bc7b-3cff-46e6-af12-19bce51aac60",
   "metadata": {},
   "source": [
    "### if\n",
    "if <조건식>:\n",
    "    <실행할 코드>"
   ]
  },
  {
   "cell_type": "code",
   "execution_count": 4,
   "id": "cc32d68e-7967-4fce-b8e3-3bc43de07f8b",
   "metadata": {},
   "outputs": [],
   "source": [
    "if 3 == 1:\n",
    "    print(\"두 수는 같다\")  #False라 아무것도 출력되지 X"
   ]
  },
  {
   "cell_type": "code",
   "execution_count": 5,
   "id": "a908ec54-c8c8-4fc4-8548-369dc91acf0a",
   "metadata": {},
   "outputs": [
    {
     "name": "stdout",
     "output_type": "stream",
     "text": [
      "두 수는 같지 않다\n"
     ]
    }
   ],
   "source": [
    "if 3 != 1:\n",
    "    print(\"두 수는 같지 않다\")"
   ]
  },
  {
   "cell_type": "markdown",
   "id": "302d50f3-df94-44ea-a326-13932cf4e803",
   "metadata": {},
   "source": [
    "- if - else\n",
    "if <조건식>:\n",
    "    <실행할 코드>\n",
    "else:\n",
    "    <실행할 코드2>"
   ]
  },
  {
   "cell_type": "code",
   "execution_count": 6,
   "id": "86f56a38-6556-4d36-a3c9-877602e75c16",
   "metadata": {},
   "outputs": [
    {
     "name": "stdout",
     "output_type": "stream",
     "text": [
      "두 수는 같지 않다\n"
     ]
    }
   ],
   "source": [
    "if 3 != 1:\n",
    "    print(\"두 수는 같지 않다\")\n",
    "else:\n",
    "    print(\"두 수가 같다\")"
   ]
  },
  {
   "cell_type": "markdown",
   "id": "eb18f5f3-9a06-478b-8860-47bc6474b6b5",
   "metadata": {},
   "source": [
    "- if-elif-else\n",
    "if <조건식1>:\n",
    "    <실행할 코드1>\n",
    "elif <조건식2>:\n",
    "    <실행할 코드2>\n",
    "else :\n",
    "    <실행할 코드3>"
   ]
  },
  {
   "cell_type": "code",
   "execution_count": 8,
   "id": "53352583-8246-403d-b438-4d07d71cd4c1",
   "metadata": {},
   "outputs": [
    {
     "name": "stdout",
     "output_type": "stream",
     "text": [
      "3보다 크다\n"
     ]
    }
   ],
   "source": [
    "a = 4\n",
    "if a < 3:\n",
    "    print(\"3보다 작다\")\n",
    "elif a == 3:\n",
    "    print(\"3이다\")\n",
    "else:\n",
    "    print(\"3보다 크다\")"
   ]
  },
  {
   "cell_type": "code",
   "execution_count": 12,
   "id": "b85a473f-6b88-4f6a-96aa-86c0d8c68557",
   "metadata": {},
   "outputs": [],
   "source": [
    "if a < 3:\n",
    "    print(\"3보다 작다\")\n",
    "if a == 3:\n",
    "    print(\"3이다\")\n",
    "if a > 4:\n",
    "    print(\"3보다 크다\")    #실행 시 아무것도 출력 X  #if로만 이뤄져 있어서 새로 판별"
   ]
  },
  {
   "cell_type": "markdown",
   "id": "2a7f2672-8f5f-44c9-a7a6-620221e6fb54",
   "metadata": {},
   "source": [
    "### 비교연산자\n",
    "- x < y\n",
    "- x > y\n",
    "- x >= y\n",
    "- x<= y\n",
    "- x == y (값이)\n",
    "- x != y\n",
    "- x is y (값, 메모리주소)\n",
    "- x is not y\n",
    "    "
   ]
  },
  {
   "cell_type": "markdown",
   "id": "55a6c8a2-cd9b-455c-b7ce-a9ad2fe8b71c",
   "metadata": {},
   "source": [
    "### Quiz 4.\n",
    "- 1. 시험 점수를 입력 받고, 80점 이상이면 True, 아니면 False로 반환하기\n",
    "- 2. 시험 점수를 입력 받고, 95이상 A+, 90이상 A, 85이상 B+, 나머지 F로 출력하기"
   ]
  },
  {
   "cell_type": "code",
   "execution_count": 14,
   "id": "12ec8e48-e7f2-4db6-9c08-43cc1841990b",
   "metadata": {},
   "outputs": [
    {
     "name": "stdout",
     "output_type": "stream",
     "text": [
      "시험 점수를 입력하세요: 86\n",
      "True\n"
     ]
    }
   ],
   "source": [
    "score = int(input(\"시험 점수를 입력하세요: \"))\n",
    "\n",
    "if score >= 80:\n",
    "    print(\"True\")\n",
    "else:\n",
    "    print(\"False\")\n",
    "    "
   ]
  },
  {
   "cell_type": "code",
   "execution_count": 1,
   "id": "49f1f8ea-ffe1-4db2-a56d-1567717878e8",
   "metadata": {},
   "outputs": [
    {
     "name": "stdin",
     "output_type": "stream",
     "text": [
      "시험 점수를 입력하세요:  65\n"
     ]
    },
    {
     "name": "stdout",
     "output_type": "stream",
     "text": [
      "F\n"
     ]
    }
   ],
   "source": [
    "score = int(input(\"시험 점수를 입력하세요: \"))\n",
    "\n",
    "if score >= 95:\n",
    "    print(\"A+\")\n",
    "elif score >= 90:\n",
    "    print(\"A\")\n",
    "elif score >= 85:\n",
    "    print(\"B\")\n",
    "else:\n",
    "    print(\"F\")\n",
    "    \n"
   ]
  }
 ],
 "metadata": {
  "kernelspec": {
   "display_name": "Python 3",
   "language": "python",
   "name": "python3"
  },
  "language_info": {
   "codemirror_mode": {
    "name": "ipython",
    "version": 3
   },
   "file_extension": ".py",
   "mimetype": "text/x-python",
   "name": "python",
   "nbconvert_exporter": "python",
   "pygments_lexer": "ipython3",
   "version": "3.8.8"
  }
 },
 "nbformat": 4,
 "nbformat_minor": 5
}
