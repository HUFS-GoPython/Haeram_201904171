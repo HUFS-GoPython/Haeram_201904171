{
 "cells": [
  {
   "cell_type": "markdown",
   "id": "250e641b-b5a0-47a9-abf8-dafb614e368f",
   "metadata": {},
   "source": [
    "### 딕셔너리 Dictionary\n",
    "- 영어 사전과 비슷\n",
    "- 단어, 키 : 뜻, 값\n",
    "- 순서가 없어서 인덱싱 불가능함\n",
    "- 키를 중복되지 않는 고유한 값 존재\n",
    "- 수정/삭제/추가 가능\n",
    "- type : dict\n",
    "- 중괄호 {}사용함\n",
    "- 값에 다양한 자료구조가 올 수 있음\n"
   ]
  },
  {
   "cell_type": "code",
   "execution_count": 1,
   "id": "b67d50f7-1db9-422f-87c3-5b8cbed55f8d",
   "metadata": {},
   "outputs": [
    {
     "name": "stdout",
     "output_type": "stream",
     "text": [
      "<class 'dict'>\n",
      "<class 'set'>\n"
     ]
    }
   ],
   "source": [
    "# 빈 딕셔너리 선언하는 방법\n",
    "\n",
    "empty_dict = dict()\n",
    "empty_dict = {} # 이건 dict type\n",
    "print(type(empty_dict))\n",
    "\n",
    "# set과 헷갈리지 말자\n",
    "empty_set = set() # 이렇게 해야 set\n",
    "print(type(empty_set))"
   ]
  },
  {
   "cell_type": "code",
   "execution_count": 2,
   "id": "39a5ecd7-7406-4e58-951c-dd8bef54e598",
   "metadata": {},
   "outputs": [
    {
     "data": {
      "text/plain": [
       "({1, 2, 3}, {1: 'apple', 2: 'banana', 3: 'kiwi'})"
      ]
     },
     "execution_count": 2,
     "metadata": {},
     "output_type": "execute_result"
    }
   ],
   "source": [
    "a = {1, 2, 3} # set\n",
    "\n",
    "b = {1: 'apple', 2: 'banana', 3: 'kiwi'} # dict\n",
    "\n",
    "a, b"
   ]
  },
  {
   "cell_type": "code",
   "execution_count": 3,
   "id": "de59c00e-7f64-46d3-801f-59836c1af869",
   "metadata": {},
   "outputs": [
    {
     "data": {
      "text/plain": [
       "{'apple': 'a', 'banana': 'b', 'kiwi': 'c'}"
      ]
     },
     "execution_count": 3,
     "metadata": {},
     "output_type": "execute_result"
    }
   ],
   "source": [
    "b = {'': '', '': '', '': ''}\n",
    "\n",
    "# 이렇게 선언하는 경우 key값에 따옴표 안 해도 됨\n",
    "b = dict(apple='a', banana='b', kiwi='c')\n",
    "b"
   ]
  },
  {
   "cell_type": "code",
   "execution_count": 4,
   "id": "3171517a-6bd1-4784-b390-5f571ed3a783",
   "metadata": {},
   "outputs": [],
   "source": [
    "# 딕셔너리 실습\n",
    "# 출석부로 딕셔너리 만들기\n",
    "\n",
    "# 이름, 학번, 학과\n",
    "# james 202201 경제학과\n",
    "# laura 202203 스페인어과\n",
    "# louis 202202 컴공과\n"
   ]
  },
  {
   "cell_type": "code",
   "execution_count": 6,
   "id": "458f62da-01ba-401e-b78a-ae4bfdc4cf45",
   "metadata": {},
   "outputs": [
    {
     "data": {
      "text/plain": [
       "'james'"
      ]
     },
     "execution_count": 6,
     "metadata": {},
     "output_type": "execute_result"
    }
   ],
   "source": [
    "# 중복 안 되는 값을 key로 하기\n",
    "\n",
    "attendance_list = {'202201': ['james', '경제학과'], '202202': ['louis', '컴공과'], '202203': ['laura', '스페인어과']}\n",
    "attendance_list['202201'][0]"
   ]
  },
  {
   "cell_type": "markdown",
   "id": "dce2e502-4e18-4e09-a5b5-979f957835a5",
   "metadata": {},
   "source": [
    "#### 형 변환\n",
    "- key와 value가 쌍으로 존재할 때 가능함"
   ]
  },
  {
   "cell_type": "code",
   "execution_count": 7,
   "id": "a9c5ca5f-94c5-4ab0-b332-70a2dbaefd0e",
   "metadata": {},
   "outputs": [
    {
     "data": {
      "text/plain": [
       "{1: 2, 2: 3, 3: 4}"
      ]
     },
     "execution_count": 7,
     "metadata": {},
     "output_type": "execute_result"
    }
   ],
   "source": [
    "ex1 = [[1,2], [2,3], [3,4]]\n",
    "dict(ex1)"
   ]
  },
  {
   "cell_type": "code",
   "execution_count": 8,
   "id": "60fc90fc-2327-4df1-ad64-38f2c4c8d301",
   "metadata": {},
   "outputs": [
    {
     "data": {
      "text/plain": [
       "{1: 3, 2: 3}"
      ]
     },
     "execution_count": 8,
     "metadata": {},
     "output_type": "execute_result"
    }
   ],
   "source": [
    "# key가 똑같다면 마지막에 나오는 것을 기준으로 함\n",
    "\n",
    "ex2 = [(1,2),(2,3),(1,3)]\n",
    "dict(ex2)"
   ]
  },
  {
   "cell_type": "code",
   "execution_count": 9,
   "id": "b21482fb-466a-4120-a542-0d177164917d",
   "metadata": {},
   "outputs": [
    {
     "data": {
      "text/plain": [
       "{'a': 'b', 'b': 'c', 'c': 'd'}"
      ]
     },
     "execution_count": 9,
     "metadata": {},
     "output_type": "execute_result"
    }
   ],
   "source": [
    "# 문자열은 두 자리 문자열까지만 가능\n",
    "\n",
    "ex3 = ['ab', 'bc', 'cd'] \n",
    "dict(ex3)"
   ]
  },
  {
   "cell_type": "markdown",
   "id": "9c2fbad2-18e4-4737-9da4-2b41cea5ad97",
   "metadata": {},
   "source": [
    "#### 항목 조회와 변경"
   ]
  },
  {
   "cell_type": "code",
   "execution_count": 10,
   "id": "e0bda5b3-c9e0-46d1-8813-21492794b02e",
   "metadata": {},
   "outputs": [],
   "source": [
    "pythons = {\n",
    "    'Chapman' : 'Graham',\n",
    "    'Cleese' : 'John',\n",
    "    'Idle' : 'Eric',\n",
    "    'Jones' : 'Terry',\n",
    "    'Palin' : 'Michael'\n",
    "}"
   ]
  },
  {
   "cell_type": "code",
   "execution_count": 11,
   "id": "2c9dd5c6-9e40-417a-8561-b338b9b2f800",
   "metadata": {},
   "outputs": [
    {
     "data": {
      "text/plain": [
       "'Eric'"
      ]
     },
     "execution_count": 11,
     "metadata": {},
     "output_type": "execute_result"
    }
   ],
   "source": [
    "# 항목 조회(key로 value를 찾음)\n",
    "# 없는 값이면 예외\n",
    "\n",
    "pythons['Idle'] "
   ]
  },
  {
   "cell_type": "code",
   "execution_count": 12,
   "id": "88b3bbd8-cacf-4914-a416-810d43549080",
   "metadata": {},
   "outputs": [
    {
     "name": "stdout",
     "output_type": "stream",
     "text": [
      "False\n"
     ]
    },
    {
     "data": {
      "text/plain": [
       "0"
      ]
     },
     "execution_count": 12,
     "metadata": {},
     "output_type": "execute_result"
    }
   ],
   "source": [
    "# 예외 없게 하는 방법\n",
    "\n",
    "# 값이 있는지 확인하기\n",
    "print('Hwa' in pythons)\n",
    "\n",
    "# get() : key가 있으면 값을 반환, 없으면 None을 반환하는데 반환값 설정 가능\n",
    "pythons.get('Lee', 0)"
   ]
  },
  {
   "cell_type": "code",
   "execution_count": 13,
   "id": "e07a0a19-0fae-404d-994e-b6ea545f5e4a",
   "metadata": {},
   "outputs": [
    {
     "data": {
      "text/plain": [
       "{'Chapman': 'Graham',\n",
       " 'Cleese': 'John',\n",
       " 'Idle': 'James',\n",
       " 'Jones': 'Terry',\n",
       " 'Palin': 'Michael'}"
      ]
     },
     "execution_count": 13,
     "metadata": {},
     "output_type": "execute_result"
    }
   ],
   "source": [
    "# 항목 변경\n",
    "\n",
    "pythons['Idle'] = 'James' \n",
    "pythons"
   ]
  },
  {
   "cell_type": "markdown",
   "id": "d3f3eba4-99e0-4126-a617-b1d8345a277e",
   "metadata": {},
   "source": [
    "#### 항목추가와 삭제"
   ]
  },
  {
   "cell_type": "code",
   "execution_count": 15,
   "id": "01bde074-46a1-4deb-82bd-966ddc516e67",
   "metadata": {},
   "outputs": [
    {
     "data": {
      "text/plain": [
       "{'Chapman': 'Graham',\n",
       " 'Cleese': 'John',\n",
       " 'Idle': 'James',\n",
       " 'Jones': 'Terry',\n",
       " 'Palin': 'Michael',\n",
       " 'Hwa': 'Chloe'}"
      ]
     },
     "execution_count": 15,
     "metadata": {},
     "output_type": "execute_result"
    }
   ],
   "source": [
    "# 항목 추가\n",
    "\n",
    "pythons['Hwa'] = 'Chloe'\n",
    "pythons"
   ]
  },
  {
   "cell_type": "code",
   "execution_count": 16,
   "id": "68b5f530-298e-4545-a0df-111f43706d0b",
   "metadata": {},
   "outputs": [
    {
     "data": {
      "text/plain": [
       "{'Chapman': 'Graham',\n",
       " 'Cleese': 'John',\n",
       " 'Idle': 'James',\n",
       " 'Jones': 'Terry',\n",
       " 'Palin': 'Michael',\n",
       " 'Hwa': 'Chloe',\n",
       " 'Marx': 'Groucho',\n",
       " 'Howard': 'Noe'}"
      ]
     },
     "execution_count": 16,
     "metadata": {},
     "output_type": "execute_result"
    }
   ],
   "source": [
    "# 여러 개를 추가하는 경우 update\n",
    "# 만약 원래 있던 key라면 마지막 값 기준으로 update\n",
    "\n",
    "others = {\n",
    "    'Marx': 'Groucho',\n",
    "    'Howard' : 'Noe'\n",
    "}\n",
    "\n",
    "pythons.update(others)\n",
    "pythons"
   ]
  },
  {
   "cell_type": "code",
   "execution_count": 17,
   "id": "2d782f63-75ba-41b1-b8c8-24f5a692ab0a",
   "metadata": {},
   "outputs": [
    {
     "data": {
      "text/plain": [
       "{'Chapman': 'Graham',\n",
       " 'Cleese': 'John',\n",
       " 'Idle': 'James',\n",
       " 'Jones': 'Terry',\n",
       " 'Palin': 'Michael',\n",
       " 'Howard': 'Noe'}"
      ]
     },
     "execution_count": 17,
     "metadata": {},
     "output_type": "execute_result"
    }
   ],
   "source": [
    "# 항목 삭제\n",
    "\n",
    "del pythons['Hwa']\n",
    "pythons\n",
    "\n",
    "# 값을 출력하고 삭제\n",
    "\n",
    "pythons.pop('Marx')\n",
    "pythons"
   ]
  },
  {
   "cell_type": "code",
   "execution_count": 18,
   "id": "82519437-b93c-41ea-9146-ff1068e525c5",
   "metadata": {},
   "outputs": [
    {
     "data": {
      "text/plain": [
       "0"
      ]
     },
     "execution_count": 18,
     "metadata": {},
     "output_type": "execute_result"
    }
   ],
   "source": [
    "# key가 없으면 예외는 나지만, 예외시 출력 값을 지정할 수 있음\n",
    "\n",
    "pythons.pop('Lee', 0) "
   ]
  },
  {
   "cell_type": "code",
   "execution_count": 19,
   "id": "518f8eb7-7ece-410f-bc79-165a57a2ed33",
   "metadata": {},
   "outputs": [
    {
     "data": {
      "text/plain": [
       "{}"
      ]
     },
     "execution_count": 19,
     "metadata": {},
     "output_type": "execute_result"
    }
   ],
   "source": [
    "# 전체 삭제\n",
    "\n",
    "pythons.clear()\n",
    "pythons = {}\n",
    "\n",
    "pythons"
   ]
  },
  {
   "cell_type": "markdown",
   "id": "416bdf0c-29fb-4d1b-95a2-5b79fc20ef75",
   "metadata": {},
   "source": [
    "### 전체 조회\n",
    "- keys()\n",
    "- values()\n",
    "- items()"
   ]
  },
  {
   "cell_type": "code",
   "execution_count": 20,
   "id": "53e2ce38-7691-43b5-8950-e8ad08981701",
   "metadata": {},
   "outputs": [
    {
     "data": {
      "text/plain": [
       "dict_keys(['Chapman', 'Cleese', 'Idle', 'Jones', 'Palin', 'Hwa'])"
      ]
     },
     "execution_count": 20,
     "metadata": {},
     "output_type": "execute_result"
    }
   ],
   "source": [
    "pythons = {\n",
    "    'Chapman' : 'Graham',\n",
    "    'Cleese' : 'John',\n",
    "    'Idle' : 'Eric',\n",
    "    'Jones' : 'Terry',\n",
    "    'Palin' : 'Michael',\n",
    "    'Hwa' : 'Chloe'\n",
    "}\n",
    "pythons.keys() # key값 조회"
   ]
  },
  {
   "cell_type": "code",
   "execution_count": 21,
   "id": "4e8b3d54-84ae-40d8-8454-abf9480ab6f5",
   "metadata": {},
   "outputs": [
    {
     "data": {
      "text/plain": [
       "dict_values(['Graham', 'John', 'Eric', 'Terry', 'Michael', 'Chloe'])"
      ]
     },
     "execution_count": 21,
     "metadata": {},
     "output_type": "execute_result"
    }
   ],
   "source": [
    "pythons.values() # value값 조회"
   ]
  },
  {
   "cell_type": "code",
   "execution_count": 22,
   "id": "b4fa2456-1884-4c78-8a23-1cb01b053354",
   "metadata": {},
   "outputs": [
    {
     "data": {
      "text/plain": [
       "dict_items([('Chapman', 'Graham'), ('Cleese', 'John'), ('Idle', 'Eric'), ('Jones', 'Terry'), ('Palin', 'Michael'), ('Hwa', 'Chloe')])"
      ]
     },
     "execution_count": 22,
     "metadata": {},
     "output_type": "execute_result"
    }
   ],
   "source": [
    "pythons.items() # (키, 값) 튜플 형태로"
   ]
  },
  {
   "cell_type": "code",
   "execution_count": 23,
   "id": "0149b445-cdfd-4232-9af9-35f1440f89b1",
   "metadata": {},
   "outputs": [
    {
     "data": {
      "text/plain": [
       "['Chapman', 'Cleese', 'Idle', 'Jones', 'Palin', 'Hwa']"
      ]
     },
     "execution_count": 23,
     "metadata": {},
     "output_type": "execute_result"
    }
   ],
   "source": [
    "list(pythons.keys())"
   ]
  },
  {
   "cell_type": "code",
   "execution_count": 24,
   "id": "5f7d8aa4-ae9b-41ba-b579-226c45d43daf",
   "metadata": {},
   "outputs": [
    {
     "name": "stdout",
     "output_type": "stream",
     "text": [
      "Chapman = Graham\n",
      "Cleese = John\n",
      "Idle = Eric\n",
      "Jones = Terry\n",
      "Palin = Michael\n",
      "Hwa = Chloe\n",
      "\n"
     ]
    },
    {
     "data": {
      "text/plain": [
       "[('Chapman', 'Graham'),\n",
       " ('Cleese', 'John'),\n",
       " ('Idle', 'Eric'),\n",
       " ('Jones', 'Terry'),\n",
       " ('Palin', 'Michael'),\n",
       " ('Hwa', 'Chloe')]"
      ]
     },
     "execution_count": 24,
     "metadata": {},
     "output_type": "execute_result"
    }
   ],
   "source": [
    "# items 순회\n",
    "\n",
    "for k, v in pythons.items(): \n",
    "    print(f'{k} = {v}')\n",
    "    \n",
    "print()\n",
    "\n",
    "# 리스트 컴프리헨션으로도 가능\n",
    "\n",
    "[(k, v) for (k,v) in pythons.items()]"
   ]
  },
  {
   "cell_type": "code",
   "execution_count": 25,
   "id": "8692cbac-7c0f-44c7-94e0-16aa0b0ddc99",
   "metadata": {},
   "outputs": [
    {
     "data": {
      "text/plain": [
       "['Graham', 'John', 'Eric', 'Terry', 'Michael', 'Chloe']"
      ]
     },
     "execution_count": 25,
     "metadata": {},
     "output_type": "execute_result"
    }
   ],
   "source": [
    "# items()는 튜플 형태로 들어있기 때문에 인덱스로 접근 가능\n",
    "# 0은 key값, 1은 value값\n",
    "\n",
    "[k[1] for k in pythons.items()] "
   ]
  },
  {
   "cell_type": "code",
   "execution_count": 26,
   "id": "3471669d-c9dc-41cf-8256-7d40fe3164a2",
   "metadata": {},
   "outputs": [
    {
     "data": {
      "text/plain": [
       "['Chapman', 'Cleese', 'Idle', 'Jones', 'Palin', 'Hwa']"
      ]
     },
     "execution_count": 26,
     "metadata": {},
     "output_type": "execute_result"
    }
   ],
   "source": [
    "[k for k in pythons] # 그냥 하면 키값만 나옴"
   ]
  },
  {
   "cell_type": "code",
   "execution_count": 27,
   "id": "c614e3ec-d339-4ca1-8dfe-4d14a45ed73f",
   "metadata": {},
   "outputs": [],
   "source": [
    "### 딕셔너리 실습\n",
    "\n",
    "# animal : num_leg 딕셔너리를 만드시오\n",
    "animal = 'cat snake monkey ant spider'.split()\n",
    "legs = 4, 0, 2, 4, 8"
   ]
  },
  {
   "cell_type": "code",
   "execution_count": 28,
   "id": "607ba656-ede0-40e3-b4f3-2f76cbf2e6a0",
   "metadata": {},
   "outputs": [
    {
     "data": {
      "text/plain": [
       "{'cat': 4, 'snake': 0, 'monkey': 2, 'ant': 4, 'spider': 8}"
      ]
     },
     "execution_count": 28,
     "metadata": {},
     "output_type": "execute_result"
    }
   ],
   "source": [
    "animal_leg = dict([(k, v) for (k, v) in zip(animal, legs)])\n",
    "animal_leg"
   ]
  },
  {
   "cell_type": "code",
   "execution_count": 29,
   "id": "911c9800-06ed-4b34-a625-642f9db835ec",
   "metadata": {},
   "outputs": [
    {
     "data": {
      "text/plain": [
       "{'cat': 4, 'snake': 0, 'monkey': 2, 'ant': 4, 'spider': 8}"
      ]
     },
     "execution_count": 29,
     "metadata": {},
     "output_type": "execute_result"
    }
   ],
   "source": [
    "dictionary = {}\n",
    "for i in range(len(animal)):\n",
    "    dictionary[animal[i]] = legs[i]\n",
    "    \n",
    "dictionary"
   ]
  },
  {
   "cell_type": "code",
   "execution_count": 30,
   "id": "7d5c3d06-7fbd-4962-8f79-27fbcfc68c88",
   "metadata": {},
   "outputs": [],
   "source": [
    "# pythons에서 성: 이름, 성 첫 글자만, 이름은 글자 개수로 이루어진 튜플\n",
    "# (성, 이름) 리스트로 반환하기\n",
    "# dict comprehension 쓰지 말기"
   ]
  },
  {
   "cell_type": "code",
   "execution_count": 31,
   "id": "b49eff6b-22a4-41fb-805f-c13125cf5484",
   "metadata": {},
   "outputs": [
    {
     "data": {
      "text/plain": [
       "[('Chapman', 'Graham'),\n",
       " ('Cleese', 'John'),\n",
       " ('Idle', 'Eric'),\n",
       " ('Jones', 'Terry'),\n",
       " ('Palin', 'Michael'),\n",
       " ('Hwa', 'Chloe')]"
      ]
     },
     "execution_count": 31,
     "metadata": {},
     "output_type": "execute_result"
    }
   ],
   "source": [
    "[(k, v) for k, v in pythons.items()]\n",
    "# 여기서 고쳐나가면 됨"
   ]
  },
  {
   "cell_type": "code",
   "execution_count": 32,
   "id": "b1bc378c-8445-495c-87aa-523f5961ee19",
   "metadata": {},
   "outputs": [
    {
     "data": {
      "text/plain": [
       "[('C', 6), ('C', 4), ('I', 4), ('J', 5), ('P', 7), ('H', 5)]"
      ]
     },
     "execution_count": 32,
     "metadata": {},
     "output_type": "execute_result"
    }
   ],
   "source": [
    "[(key[0], len(value)) for (key, value) in pythons.items()]"
   ]
  },
  {
   "cell_type": "code",
   "execution_count": 33,
   "id": "1f92e33c-e19a-4ab8-97b9-19faff585b7f",
   "metadata": {},
   "outputs": [
    {
     "data": {
      "text/plain": [
       "[('C', 6), ('C', 4), ('I', 4), ('J', 5), ('P', 7), ('H', 5)]"
      ]
     },
     "execution_count": 33,
     "metadata": {},
     "output_type": "execute_result"
    }
   ],
   "source": [
    "[(k[0][0], len(k[1])) for k in pythons.items()]"
   ]
  },
  {
   "cell_type": "markdown",
   "id": "9db9eb97-02c1-4fd9-b22b-f155e09a2d6f",
   "metadata": {},
   "source": [
    "#### 복제\n",
    "- 할당 : b = a *같은 주소 참조\n",
    "- 얕은 복사: c = a.copy() *다른 객체 생성\n",
    "- 깊은 복사: deepcopy\n",
    "- 리스트와 동일"
   ]
  },
  {
   "cell_type": "code",
   "execution_count": null,
   "id": "44e20f02-4db0-4b97-8949-455ad40f8c60",
   "metadata": {},
   "outputs": [],
   "source": [
    "a = {1:1, 2:2, 3:3}\n",
    "b = a\n",
    "\n",
    "a[1] = 45\n",
    "\n",
    "# 할당의 문제점: b도 값이 변한다. (복사한 가변객체이기 때문에)\n",
    "a, b"
   ]
  },
  {
   "cell_type": "code",
   "execution_count": null,
   "id": "63ea1b3f-edff-4cb6-bf41-39ab08be72f1",
   "metadata": {},
   "outputs": [],
   "source": [
    "# 다른 객체 생성 - 얕은 복사 \n",
    "\n",
    "c = a.copy()\n",
    "a[2] = 22\n",
    "a, c"
   ]
  },
  {
   "cell_type": "code",
   "execution_count": null,
   "id": "1f1f38ce-8e76-4885-aebf-92ebca7b90d1",
   "metadata": {},
   "outputs": [],
   "source": [
    "# 얕은 복사의 문제점: 가변객체에 대해 또 참조가 됨\n",
    "\n",
    "a = {1: [1,2,3], 2: [2,3,4]}\n",
    "d = a.copy()\n",
    "a[1][0] = 100\n",
    "a, d"
   ]
  },
  {
   "cell_type": "code",
   "execution_count": null,
   "id": "b8186c31-5a23-4b53-967b-3f540146e90f",
   "metadata": {},
   "outputs": [],
   "source": [
    "# deepcopy\n",
    "\n",
    "import copy\n",
    "e = copy.deepcopy(a)\n",
    "a[1][1] = 999\n",
    "a, e"
   ]
  },
  {
   "cell_type": "markdown",
   "id": "849f1f12-169a-470a-9e91-bc527bcd7a5b",
   "metadata": {},
   "source": [
    "### 비교\n",
    "- 같다, 다르다 만 된다."
   ]
  },
  {
   "cell_type": "code",
   "execution_count": null,
   "id": "574f7dd5-95d8-444b-9df3-33063034d5cc",
   "metadata": {},
   "outputs": [],
   "source": [
    "a != b"
   ]
  },
  {
   "cell_type": "markdown",
   "id": "01573ea6-328b-4129-8a6e-b0d31ec668cc",
   "metadata": {},
   "source": [
    "### EX\n",
    "-두 리스트로 하나의 딕셔너리 생성\n",
    "-명왕성 = pluto 추가하기\n",
    "-'성'으로 끝나지 않는 키 삭제하기(태양 지구 같은것들)\n",
    "    - del dict1['태양'] 이런거 안된다고\n",
    "- sorted 이용해서 값을 정렬하기 1) key 기준 2) value 기준"
   ]
  },
  {
   "cell_type": "code",
   "execution_count": null,
   "id": "c644a3b7-2315-487a-bbd9-2bfa8fd19898",
   "metadata": {},
   "outputs": [],
   "source": [
    "solar_kor = '태양 수성 금성 지구 화성 목성 토성 천왕성 해왕성'.split()\n",
    "solar_eng = 'sun mercury venus earth mars jupiter saturn uranus neptune'.split()"
   ]
  },
  {
   "cell_type": "code",
   "execution_count": null,
   "id": "16936170-a964-4b57-9469-c3acc92fcc8e",
   "metadata": {},
   "outputs": [],
   "source": [
    "new_solar = {}\n",
    "\n",
    "for i in range(len(solar_kor)):\n",
    "    new_solar[solar_kor[i]] = solar_eng[i]\n",
    "    \n",
    "new_solar['명왕성'] = 'pluto'\n",
    "\n",
    "new_solar = [planet for planet in new_solar.items() if planet[0][-1] == '성']\n",
    "\n",
    "new_solar"
   ]
  },
  {
   "cell_type": "code",
   "execution_count": null,
   "id": "13f1884d-e005-429c-b329-8402b6ae2160",
   "metadata": {},
   "outputs": [],
   "source": [
    "system = {}\n",
    "for k, v in zip(solar_kor, solar_eng):\n",
    "    system[k] = v\n",
    "    \n",
    "system['명왕성'] = 'pluto'\n",
    "\n",
    "system = dict([(key, value)\n",
    "               for key, value in system.items()\n",
    "               if key.endswith('성')])\n",
    "\n",
    "# key 기준\n",
    "print(sorted(system.keys()))\n",
    "\n",
    "# value 기준\n",
    "print(sorted(system.values()))"
   ]
  },
  {
   "cell_type": "markdown",
   "id": "3270603b-c62d-4fbd-a8f0-33e994aeb38e",
   "metadata": {},
   "source": [
    "### 딕셔너리 컴프리헨션\n",
    "- 리스트 컴프리헨션 후에 dict()로 감싸는 것이 비효율적임"
   ]
  },
  {
   "cell_type": "code",
   "execution_count": null,
   "id": "99a4c93e-6fb2-4d2d-8567-890504970328",
   "metadata": {},
   "outputs": [],
   "source": [
    "letter = 'apple'\n",
    "\n",
    "# a: 1, p: 2, ...\n",
    "{ch: letter.count(ch) for ch in letter}"
   ]
  },
  {
   "cell_type": "code",
   "execution_count": null,
   "id": "7aedc52f-8602-4442-982e-ebd1ea2b87c2",
   "metadata": {},
   "outputs": [],
   "source": [
    "# 단어의 모음 세기\n",
    "vowels = 'aeiou'\n",
    "word = 'onomatopoeia'\n",
    "\n",
    "# word 순회, vowels 순회\n",
    "print({w: word.count(w) for w in set(word) if w in vowels})\n",
    "print({v: word.count(v) for v in set(vowels) if v in word})"
   ]
  },
  {
   "cell_type": "code",
   "execution_count": null,
   "id": "57ae84e0-ec59-4c73-b30b-28246cf7717d",
   "metadata": {},
   "outputs": [],
   "source": [
    "# 위의 태양계 실습을 딕셔너리 컴프리헨션으로!\n",
    "# {key:value}\n",
    "\n",
    "system = {key:value \n",
    "          for key, value in system.items() \n",
    "          if key.endswith('성')}\n",
    "\n",
    "system"
   ]
  },
  {
   "cell_type": "markdown",
   "id": "a10ee47e-01ad-4651-9720-6673530ee39a",
   "metadata": {},
   "source": [
    "## sorting"
   ]
  },
  {
   "cell_type": "code",
   "execution_count": null,
   "id": "fea5f013-2d3f-4236-a9bb-bf395c37342d",
   "metadata": {},
   "outputs": [],
   "source": [
    "# 그냥 sorted는 key만\n",
    "\n",
    "sorted(system)"
   ]
  },
  {
   "cell_type": "code",
   "execution_count": null,
   "id": "7977ab88-cb28-44eb-b680-9c2074a0ae08",
   "metadata": {},
   "outputs": [],
   "source": [
    "def fx(x):\n",
    "    return x[0] # 0은 key, 1은 value\n",
    "\n",
    "sorted(system.items(), key=fx)"
   ]
  },
  {
   "cell_type": "code",
   "execution_count": null,
   "id": "957c94f2-dec6-43dc-84e6-0c233e9b061b",
   "metadata": {},
   "outputs": [],
   "source": [
    "# lambda식\n",
    "# 함수에서 이름 짓는 부분과 예약어를 빼고 익명으로 함수 구현\n",
    "\n",
    "sorted(system.items(), key=lambda x: x[1])"
   ]
  },
  {
   "cell_type": "markdown",
   "id": "2bb245b7-a7e0-4fe6-8d9c-8da532856b31",
   "metadata": {},
   "source": [
    "## set\n",
    "- \"중복이 없다\"\n",
    "- 집합과 동일한 개념 => 교집합, 합집합, 차집합, ...\n",
    "- 중복과 순서가 없는 bag과 같음, 인덱싱도 없다."
   ]
  },
  {
   "cell_type": "code",
   "execution_count": null,
   "id": "b7eed3d5-0414-468a-9c10-0806735fc5f4",
   "metadata": {},
   "outputs": [],
   "source": [
    "# set 만들기\n",
    "\n",
    "empty = set()\n",
    "empty"
   ]
  },
  {
   "cell_type": "code",
   "execution_count": null,
   "id": "5abb4e77-58e7-4475-9698-6e03d0551329",
   "metadata": {},
   "outputs": [],
   "source": [
    "a = {1, 2, 3} # 값이 있으면 이렇게 해도 됨\n",
    "a"
   ]
  },
  {
   "cell_type": "code",
   "execution_count": null,
   "id": "535c46d3-7bcc-4067-9d74-86e5fc08f141",
   "metadata": {},
   "outputs": [],
   "source": [
    "# a = set(1, 2, 3) => 오류\n",
    "# 선언과 형 변환이 동일\n",
    "\n",
    "b = set((1, 2, 3))\n",
    "b"
   ]
  },
  {
   "cell_type": "code",
   "execution_count": null,
   "id": "d0f26362-ace3-4a33-8343-3417d78a2f9d",
   "metadata": {},
   "outputs": [],
   "source": [
    "# 추가\n",
    "a.add(4)\n",
    "print(a)\n",
    "\n",
    "# 삭제\n",
    "a.remove(4)\n",
    "print(a)"
   ]
  },
  {
   "cell_type": "code",
   "execution_count": null,
   "id": "bc2ef67e-1fe8-4cb0-9d01-90f0e8e9de5a",
   "metadata": {},
   "outputs": [],
   "source": [
    "# 멤버십 연산자\n",
    "\n",
    "drinks = {\n",
    "    'martini': {'vodka', 'vermouth'},\n",
    "    'black russian': {'vodka', 'kahlua'},\n",
    "    'white russian': {'cream', 'kahlua', 'vodka'},\n",
    "    'manhattan': {'rye', 'vermouth', 'bitters'},\n",
    "    'screwdriver': {'orange juice', 'vodka'}\n",
    "}\n",
    "\n",
    "# 보드카가 포함된 술 출력하기\n",
    "# 보드카는 있지만 크림이나 vermouth 없는 술 출력하기"
   ]
  },
  {
   "cell_type": "code",
   "execution_count": null,
   "id": "2f9cc76a-025d-45bb-8d51-21ab833ec87f",
   "metadata": {},
   "outputs": [],
   "source": [
    "for k, v in drinks.items():\n",
    "    if 'vodka' in v:\n",
    "        print(k) # 보드카가 포함된 술\n",
    "        \n",
    "for k, v in drinks.items():\n",
    "    if 'vodka' in v:\n",
    "        if 'cream' not in v and 'vermouth' not in v:\n",
    "            print(k) # 보드카는 있지만 cream, vermouth 없는 술 "
   ]
  },
  {
   "cell_type": "code",
   "execution_count": null,
   "id": "92bb4355-ded7-4889-b6f3-0a8407a7574e",
   "metadata": {},
   "outputs": [],
   "source": [
    "for k, v in drinks.items():\n",
    "    if 'vodka' in v and not ('cream' in v or 'vermouth' in v):\n",
    "        print(k)"
   ]
  },
  {
   "cell_type": "code",
   "execution_count": null,
   "id": "d96eeb13-fbec-47a6-bd7a-be5e5a33f7d7",
   "metadata": {},
   "outputs": [],
   "source": [
    "a = {1, 2, 3}\n",
    "b = {2, 3, 4}\n",
    "\n",
    "# 교집합 | intersection\n",
    "a.intersection(b)\n",
    "a & b\n",
    "\n",
    "# 합집합 | union\n",
    "a.union(b)\n",
    "a | b\n",
    "\n",
    "# 차집합 | difference\n",
    "a.difference(b)\n",
    "a - b , b - a"
   ]
  },
  {
   "cell_type": "code",
   "execution_count": null,
   "id": "541a1a80-4e77-46d2-9148-a78251f5006f",
   "metadata": {},
   "outputs": [],
   "source": [
    "for k, v in drinks.items():\n",
    "    if 'vodka' in v and not ('cream' in v or 'vermouth' in v):\n",
    "        print(k)\n",
    "# set을 활용해서 바꾸기"
   ]
  },
  {
   "cell_type": "code",
   "execution_count": null,
   "id": "8bdcafbd-a0a5-48dd-92b9-c664ac21603c",
   "metadata": {},
   "outputs": [],
   "source": [
    "for k, v in drinks.items():\n",
    "    d = {'cream', 'vermouth'}\n",
    "    if 'vodka' in v and len(v.intersection(d)) == 0:\n",
    "        print(k)\n",
    "# 길이를 잴 필요는 없다\n"
   ]
  },
  {
   "cell_type": "code",
   "execution_count": null,
   "id": "b0812def-0197-490f-9b4d-81b55e8dbba2",
   "metadata": {},
   "outputs": [],
   "source": [
    "for k, v in drinks.items():\n",
    "    if 'vodka' in v and not v & {'cream', 'vermouth'}:\n",
    "        print(k)"
   ]
  },
  {
   "cell_type": "code",
   "execution_count": null,
   "id": "d6dd7a27-34f0-44d6-993a-8ad966242038",
   "metadata": {},
   "outputs": [],
   "source": [
    "# set comprehension\n",
    "\n",
    "{s for s in range(5)}"
   ]
  },
  {
   "cell_type": "code",
   "execution_count": null,
   "id": "eb9b9955-2f35-4ce2-be22-c1a4e84ae4e7",
   "metadata": {},
   "outputs": [],
   "source": [
    "# frozenset : 가변 객체를 불변 객체로\n",
    "\n",
    "set([1,2])\n",
    "frozenset([1,2])"
   ]
  }
 ],
 "metadata": {
  "kernelspec": {
   "display_name": "Python 3",
   "language": "python",
   "name": "python3"
  },
  "language_info": {
   "codemirror_mode": {
    "name": "ipython",
    "version": 3
   },
   "file_extension": ".py",
   "mimetype": "text/x-python",
   "name": "python",
   "nbconvert_exporter": "python",
   "pygments_lexer": "ipython3",
   "version": "3.8.8"
  }
 },
 "nbformat": 4,
 "nbformat_minor": 5
}
