{
 "cells": [
  {
   "cell_type": "markdown",
   "id": "a6ec1527",
   "metadata": {},
   "source": [
    "## input()\n",
    "- console에서 사용자에게 값을 입력 받는 함수\n",
    "- 입출력 관련된 함수\n",
    "- 입력 받는 값의 타입은 문자열(str)\n",
    "- 입력 받는 값을 변수에 담아서 사용한다."
   ]
  },
  {
   "cell_type": "code",
   "execution_count": null,
   "id": "588edbee",
   "metadata": {},
   "outputs": [],
   "source": [
    "input(\"What's your name? \")"
   ]
  },
  {
   "cell_type": "code",
   "execution_count": 3,
   "id": "3bbc077a",
   "metadata": {},
   "outputs": [
    {
     "name": "stdout",
     "output_type": "stream",
     "text": [
      "What'your name? Lee\n"
     ]
    }
   ],
   "source": [
    "#1.\n",
    "name = input(\"What'your name? \")"
   ]
  },
  {
   "cell_type": "code",
   "execution_count": 4,
   "id": "bb71ba9d",
   "metadata": {},
   "outputs": [
    {
     "data": {
      "text/plain": [
       "'Lee'"
      ]
     },
     "execution_count": 4,
     "metadata": {},
     "output_type": "execute_result"
    }
   ],
   "source": [
    "name"
   ]
  },
  {
   "cell_type": "code",
   "execution_count": 5,
   "id": "cc0f8a80",
   "metadata": {},
   "outputs": [
    {
     "name": "stdout",
     "output_type": "stream",
     "text": [
      "What'your name? \n",
      "Wang\n"
     ]
    }
   ],
   "source": [
    "#2.\n",
    "print(\"What'your name? \")\n",
    "name = input()"
   ]
  },
  {
   "cell_type": "code",
   "execution_count": 10,
   "id": "3f72c62b",
   "metadata": {},
   "outputs": [
    {
     "name": "stdout",
     "output_type": "stream",
     "text": [
      "Wang\n"
     ]
    }
   ],
   "source": [
    "print(name)"
   ]
  },
  {
   "cell_type": "markdown",
   "id": "f0a1a671",
   "metadata": {},
   "source": [
    "input을 str이 아닌 다른 타입으로 사용하고 싶으면 형 변환 미리 해주기"
   ]
  },
  {
   "cell_type": "code",
   "execution_count": 8,
   "id": "3f8a80ea",
   "metadata": {},
   "outputs": [
    {
     "name": "stdout",
     "output_type": "stream",
     "text": [
      "How old are you? 19\n"
     ]
    }
   ],
   "source": [
    "age = input(\"How old are you?\")"
   ]
  },
  {
   "cell_type": "code",
   "execution_count": 9,
   "id": "3b2d7b8a",
   "metadata": {},
   "outputs": [
    {
     "data": {
      "text/plain": [
       "str"
      ]
     },
     "execution_count": 9,
     "metadata": {},
     "output_type": "execute_result"
    }
   ],
   "source": [
    "type(age)"
   ]
  },
  {
   "cell_type": "code",
   "execution_count": 11,
   "id": "24182d49",
   "metadata": {},
   "outputs": [
    {
     "name": "stdout",
     "output_type": "stream",
     "text": [
      "How old are you? 20\n"
     ]
    }
   ],
   "source": [
    "age = int(input(\"How old are you?\"))"
   ]
  },
  {
   "cell_type": "code",
   "execution_count": 13,
   "id": "60d0b305",
   "metadata": {},
   "outputs": [
    {
     "name": "stdout",
     "output_type": "stream",
     "text": [
      "당신이 태어난 해는 2003 입니다\n"
     ]
    }
   ],
   "source": [
    "print(\"당신이 태어난 해는\", 2022 - age + 1, '입니다')  #연산 가능해짐"
   ]
  },
  {
   "cell_type": "markdown",
   "id": "a7728386",
   "metadata": {},
   "source": [
    "### printing"
   ]
  },
  {
   "cell_type": "code",
   "execution_count": 14,
   "id": "ce5e821e",
   "metadata": {},
   "outputs": [
    {
     "name": "stdout",
     "output_type": "stream",
     "text": [
      "당신이 태어난 해는 20년입니다!\n"
     ]
    }
   ],
   "source": [
    "print(f'당신이 태어난 해는 {age}년입니다!')  #중괄호 안을 변수로 인식함, print(f'{<variable>})"
   ]
  },
  {
   "cell_type": "markdown",
   "id": "c79b8bb7",
   "metadata": {},
   "source": [
    "### Quiz 1\n",
    "택배 정보를 입력 받고 무게에 따른 값 산정하기\n",
    "\n",
    "- 수취인 성명 :\n",
    "- 수취인 주소 :\n",
    "    - 배송비는 3000원\n",
    "    - 물건 비용 : <계산된 값>원\n",
    "    - 총 합계 : <계산된 값>원\n",
    "    - 물건 비용은 무게 (g) * 5\n",
    "- 입력 값 = 이름, 주소, 무게"
   ]
  },
  {
   "cell_type": "code",
   "execution_count": 24,
   "id": "f7f327d4",
   "metadata": {},
   "outputs": [
    {
     "name": "stdout",
     "output_type": "stream",
     "text": [
      "이름을 입력하세요 : 고해람\n",
      "주소를 입력하세요 : 경기도 고양시\n",
      "무게를 입력하세요 : 430\n",
      "물건 비용은 2150원입니다 !\n",
      "총 합계는 5150원입니다!\n"
     ]
    }
   ],
   "source": [
    "name = input(\"이름을 입력하세요 : \")\n",
    "address = input(\"주소를 입력하세요 : \")\n",
    "weight = int(input(\"무게를 입력하세요 : \"))\n",
    "price = weight * 5 \n",
    "total = price + 3000\n",
    "\n",
    "print(f'물건 비용은 {price}원입니다 !')\n",
    "print(f'총 합계는 {total}원입니다!')"
   ]
  },
  {
   "cell_type": "code",
   "execution_count": null,
   "id": "b6e91a09",
   "metadata": {},
   "outputs": [],
   "source": []
  }
 ],
 "metadata": {
  "kernelspec": {
   "display_name": "Python 3",
   "language": "python",
   "name": "python3"
  },
  "language_info": {
   "codemirror_mode": {
    "name": "ipython",
    "version": 3
   },
   "file_extension": ".py",
   "mimetype": "text/x-python",
   "name": "python",
   "nbconvert_exporter": "python",
   "pygments_lexer": "ipython3",
   "version": "3.8.8"
  }
 },
 "nbformat": 4,
 "nbformat_minor": 5
}
