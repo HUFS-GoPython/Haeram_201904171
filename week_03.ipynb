{
 "cells": [
  {
   "cell_type": "markdown",
   "id": "eb3f4a6f-6a71-4798-a94b-f0ea5b7de686",
   "metadata": {},
   "source": [
    "## 중첩조건문 \n",
    "- nested conditional \n",
    "- if 블록 안에 if 블록이 또 있는 것\n",
    "- 들여쓰기로 논리(조건)를 구분한다.\n",
    "- 가독성을 높이자"
   ]
  },
  {
   "cell_type": "code",
   "execution_count": 3,
   "id": "56ef3963-5dfb-4bb6-a067-bedea0671588",
   "metadata": {
    "tags": []
   },
   "outputs": [
    {
     "name": "stdout",
     "output_type": "stream",
     "text": [
      "Block B\n"
     ]
    }
   ],
   "source": [
    "x = 0\n",
    "y = 1\n",
    "if x == y:\n",
    "    print(\"Block A\")\n",
    "else:\n",
    "    if x < y:\n",
    "        print(\"Block B\")\n",
    "    else:\n",
    "        print(\"Block C\")    #안 좋은 예시"
   ]
  },
  {
   "cell_type": "code",
   "execution_count": null,
   "id": "869d9ba6-066c-4fae-baa8-701c465e6208",
   "metadata": {},
   "outputs": [],
   "source": [
    "# 0 < x < 10\n",
    "if x > 0:\n",
    "    print('block A')\n",
    "    if x < 10:\n",
    "        print('block'B')\n",
    "    else:\n",
    "        print('block C')\n",
    "else:\n",
    "    print('block D')\n",
    "              \n",
    "# 고치는 방법 1\n",
    "'''\n",
    "if x > 0 and x < 10: # 논리 연산자\n",
    "    'A'\n",
    "else:\n",
    "    'B'\n",
    "# 고치는 방법 2 \n",
    "if 0 < x < 10: # 이건 파이썬에서만 가능!\n",
    "    'block A'\n",
    "else:\n",
    "    'block B'\n",
    "'''"
   ]
  },
  {
   "cell_type": "markdown",
   "id": "c6c5dd26-d38b-45ff-814d-0b831a2f6974",
   "metadata": {},
   "source": [
    "### 논리연산자\n",
    "- 비교연산자가 여러번 사용될 때 사용하는 것\n",
    "    - and : A and  B : A도 참이고, B도 참일 때 True (둘다 T여야함)\n",
    "        - 예 : A & B\n",
    "    - or : A or B : A 혹은 B, 둘중 하나만 참이면 True\n",
    "        - 예 : A | B\n",
    "    - not A : A가 False -> True, True -> False\n",
    "- 비교연산자의 괄호는 가독성을 위한 것임 (optional)\n",
    "- 파이썬에서만 가능한 표현 : 0 < x < 10"
   ]
  },
  {
   "cell_type": "markdown",
   "id": "2f47f646-674b-4c6b-8544-7aafa0b67b06",
   "metadata": {},
   "source": [
    "### True, False\n",
    "- '만약 a가 참이라면, ....'\n",
    "- a = True"
   ]
  },
  {
   "cell_type": "code",
   "execution_count": 13,
   "id": "c705f128-54e7-4460-9796-53cbc2525527",
   "metadata": {},
   "outputs": [
    {
     "ename": "NameError",
     "evalue": "name 'a' is not defined",
     "output_type": "error",
     "traceback": [
      "\u001b[1;31m---------------------------------------------------------------------------\u001b[0m",
      "\u001b[1;31mNameError\u001b[0m                                 Traceback (most recent call last)",
      "\u001b[1;32m<ipython-input-13-0bca0f7a4112>\u001b[0m in \u001b[0;36m<module>\u001b[1;34m\u001b[0m\n\u001b[1;32m----> 1\u001b[1;33m \u001b[1;32mif\u001b[0m \u001b[0ma\u001b[0m \u001b[1;33m==\u001b[0m \u001b[1;32mTrue\u001b[0m\u001b[1;33m:\u001b[0m\u001b[1;33m\u001b[0m\u001b[1;33m\u001b[0m\u001b[0m\n\u001b[0m\u001b[0;32m      2\u001b[0m     \u001b[0mprint\u001b[0m\u001b[1;33m(\u001b[0m\u001b[1;33m)\u001b[0m  \u001b[1;31m#틀림!!!!\u001b[0m\u001b[1;33m\u001b[0m\u001b[1;33m\u001b[0m\u001b[0m\n",
      "\u001b[1;31mNameError\u001b[0m: name 'a' is not defined"
     ]
    }
   ],
   "source": [
    "if a == True:\n",
    "    print()  #틀림!!!!"
   ]
  },
  {
   "cell_type": "code",
   "execution_count": 42,
   "id": "f2991711-3d03-44ee-b870-6e86f02678f2",
   "metadata": {},
   "outputs": [
    {
     "name": "stdout",
     "output_type": "stream",
     "text": [
      "\n"
     ]
    }
   ],
   "source": [
    "if a:\n",
    "    print()  # ? 다시 복습하기"
   ]
  },
  {
   "cell_type": "markdown",
   "id": "c47d184b-76e1-41c6-a122-e797417c0192",
   "metadata": {},
   "source": [
    "### in\n",
    "- membership operator\n",
    "- 어떤 요소가 그 안에 있는지 확인하고 싶다\n",
    "- 비슷한 조건이 여러번 반복될 때 사용 가능"
   ]
  },
  {
   "cell_type": "code",
   "execution_count": 16,
   "id": "b713a93f-cd1a-4ed3-b5ad-36551f47becf",
   "metadata": {},
   "outputs": [
    {
     "name": "stdout",
     "output_type": "stream",
     "text": [
      "No\n"
     ]
    }
   ],
   "source": [
    "letter = 'abcde'\n",
    "\n",
    "# letter의 모음 확인하기 (a, e, i, o, u)\n",
    "#if letter == 'a' or letter == 'e' ...\n",
    "\n",
    "if letter in ['a', 'e', 'i', 'o', 'u']: #리스트 요소에 letter와 일치하는 것이 있는가\n",
    "    print(\"Yes\")\n",
    "else:\n",
    "    print(\"No\")\n"
   ]
  },
  {
   "cell_type": "code",
   "execution_count": 17,
   "id": "4deeb76a-9912-40cb-a46e-95bbf3ef4097",
   "metadata": {},
   "outputs": [
    {
     "name": "stdout",
     "output_type": "stream",
     "text": [
      "모음이 없습니다\n"
     ]
    }
   ],
   "source": [
    "#word에 모음이 있는지 확인하기(내가 푼것->틀렸음, 리스트로 하지마)\n",
    "\n",
    "word = 'abcde'\n",
    "\n",
    "if word in ['a', 'e', 'i', 'o', 'u']:\n",
    "    print(\"모음이 존재합니다\")\n",
    "else:\n",
    "    print(\"모음이 없습니다\")  #이유 : abcde == a,b,...를 따지는 것이라 모음 없다고 나옴"
   ]
  },
  {
   "cell_type": "code",
   "execution_count": 18,
   "id": "f36effd4-e24a-415f-a04c-39cf4e8cb2ea",
   "metadata": {},
   "outputs": [
    {
     "name": "stdout",
     "output_type": "stream",
     "text": [
      "모음이 존재합니다\n"
     ]
    }
   ],
   "source": [
    "#word에 모음이 있는지 확인하기(다른 사람이 푼것)\n",
    "\n",
    "word = 'abcde'\n",
    "\n",
    "if 'a' or 'e' or 'i' or 'o' or 'u' in word:\n",
    "    print(\"모음이 존재합니다\")\n",
    "else:\n",
    "    print(\"모음이 없습니다\")"
   ]
  },
  {
   "cell_type": "code",
   "execution_count": 10,
   "id": "f1a17ba8-c0a5-47b5-8850-c8c2a561504d",
   "metadata": {},
   "outputs": [
    {
     "name": "stdout",
     "output_type": "stream",
     "text": [
      "모음 있음\n"
     ]
    }
   ],
   "source": [
    "# 다른 방법\n",
    "word = 'apple'\n",
    "if 'a' or 'e' or 'i' or 'o' or 'u' in word:\n",
    "    print('모음 있음')"
   ]
  },
  {
   "cell_type": "markdown",
   "id": "c4d2f7e1-ec23-4339-859f-258d7e1c8bf1",
   "metadata": {},
   "source": [
    "### 바다코끼리 연산자\n",
    "- walrus operator\n",
    "- 할당과 테스트를 동시에 하는 기능\n",
    "- := "
   ]
  },
  {
   "cell_type": "code",
   "execution_count": 20,
   "id": "a008c36c-acb5-49ef-b819-daeed5705f0a",
   "metadata": {},
   "outputs": [
    {
     "data": {
      "text/plain": [
       "'blahblahblahblahblahblahblahblahblahblahblahblahblahblahblahblahblahblahblahblahblahblahblahblahblahblahblahblahblahblahblahblahblahblahblahblahblahblahblahblahblahblahblahblahblahblahblahblahblahblah'"
      ]
     },
     "execution_count": 20,
     "metadata": {},
     "output_type": "execute_result"
    }
   ],
   "source": [
    "tweet_limit = 200\n",
    "tweet_string = 'blah' * 50\n",
    "\n",
    "tweet_string  #50번 출력될 것"
   ]
  },
  {
   "cell_type": "code",
   "execution_count": 21,
   "id": "32d70c79-5181-42fa-a013-ca61dadd5e66",
   "metadata": {},
   "outputs": [
    {
     "name": "stdout",
     "output_type": "stream",
     "text": [
      "불가능\n"
     ]
    }
   ],
   "source": [
    "diff = tweet_limit - len(tweet_string) #string이 limit을 넘는지 알고 싶음\n",
    "if diff > 0:   #이 두줄을 바다코끼리 연산자로 바꿀수 있음\n",
    "    print(\"가능\")\n",
    "else:\n",
    "    print(\"불가능\")"
   ]
  },
  {
   "cell_type": "code",
   "execution_count": 27,
   "id": "8963ef43-19fa-406e-9c0e-5471b6d9d7be",
   "metadata": {},
   "outputs": [],
   "source": [
    "if diff := tweet_limit - len(tweet_string) > 0:\n",
    "        print(\"가능\")"
   ]
  },
  {
   "cell_type": "markdown",
   "id": "8eb6ffea-d1ad-43eb-bba9-b26658e9d3e1",
   "metadata": {},
   "source": [
    "### Quiz\n",
    "- 윤년을 구하는 코드를 짜보자 \n",
    "    - <조건> 연도가 4로 나눠떨어지면 윤년\n",
    "    - 100으로 나눠떨어지면 안된다\n",
    "    - 400으로 나눠떨어지면 된다\n",
    "    \n",
    "- year를 입력받는다.\n",
    "- '{}년은 윤년입니다 / '{}년은 윤년이 아닙니다.'"
   ]
  },
  {
   "cell_type": "code",
   "execution_count": 38,
   "id": "786fce46-152e-4e8d-bebd-661a6975e0af",
   "metadata": {},
   "outputs": [
    {
     "name": "stdin",
     "output_type": "stream",
     "text": [
      "연도를 입력하세요: 2022\n"
     ]
    },
    {
     "name": "stdout",
     "output_type": "stream",
     "text": [
      "2022년은 윤년이 아닙니다\n"
     ]
    }
   ],
   "source": [
    "#내가 푼것\n",
    "\n",
    "#년도를 입력받는다\n",
    "year = int(input(\"연도를 입력하세요:\"))\n",
    "\n",
    "#조건문\n",
    "if year % 4 == 0 or year % 400 == 0:\n",
    "        print(f'{year}년은 윤년입니다')\n",
    "elif year % 100 == 0:\n",
    "              print(f'{year}년은 윤년이 아닙니다')\n",
    "else:\n",
    "    print(f'{year}년은 윤년이 아닙니다')  #print문 중복된게 있어서 좋지 않음"
   ]
  },
  {
   "cell_type": "code",
   "execution_count": 44,
   "id": "729210ca-bdd6-4e82-bbc0-b6eed6df89de",
   "metadata": {},
   "outputs": [
    {
     "name": "stdin",
     "output_type": "stream",
     "text": [
      "연도를 입력하세요: 4800\n"
     ]
    },
    {
     "name": "stdout",
     "output_type": "stream",
     "text": [
      "4800년은 윤년입니다\n"
     ]
    }
   ],
   "source": [
    "#고친 것 : 논리연산자 사용하기 !!\n",
    "\n",
    "#년도를 입력받는다\n",
    "year = int(input(\"연도를 입력하세요:\"))\n",
    "\n",
    "#조건문\n",
    "if (year % 4 == 0) or (year % 400 == 0) and (year % 100 == 0):  #한번에 묶기\n",
    "        print(f'{year}년은 윤년입니다')\n",
    "else:\n",
    "    print(f'{year}년은 윤년이 아닙니다') "
   ]
  },
  {
   "cell_type": "code",
   "execution_count": null,
   "id": "a0e2e59c-e332-422c-ab93-842a34f3f749",
   "metadata": {},
   "outputs": [],
   "source": []
  },
  {
   "cell_type": "code",
   "execution_count": null,
   "id": "7f6b68c2-6493-420c-8ce7-d5317b71f149",
   "metadata": {},
   "outputs": [],
   "source": []
  },
  {
   "cell_type": "markdown",
   "id": "ef68ea6f-172b-48e5-9e86-77040df17803",
   "metadata": {},
   "source": [
    "### String | 문자열\n",
    "- str type\n",
    "- 시스템에서 가장 작은 단위\n",
    "- 불변적인 성격을 가짐 (immutable)\n",
    "    - 'abcd' -> b -> a 바꿀 수 없다\n",
    "- 문법 : '', \"\"으로 감싸면 모두 문자열\n",
    "    - 예: '24'는 숫자가 아니라 문자열이다\n",
    "- ''' or \"\"\" => 주석\n",
    "- 형 변환은 str()\n",
    "\n",
    "## Escape character | 이스케이프문자\n",
    "- 눈이 보이는대로 인식되지 않는 문자열 \n",
    "- 문법: \\ + character\n",
    "- \\n, \\t, \\b, \\'\n",
    "- print()함수 쓰지 않으면 형태가 출력은 된다\n",
    "- '\\n' 출력은 어떻게?\n",
    "    - \\\\n\n",
    "    - r'' (raw string)\n",
    "- 문자열을 바꾸는게 아니라 표면상의 형태를 말하는 것"
   ]
  },
  {
   "cell_type": "code",
   "execution_count": 6,
   "id": "0108748e-a806-492d-96f3-e4531c7d2eeb",
   "metadata": {},
   "outputs": [
    {
     "name": "stdout",
     "output_type": "stream",
     "text": [
      "hello \\tworld I\\'m a boy\n"
     ]
    }
   ],
   "source": [
    "sent = r\"hello \\tworld I\\'m a boy\"\n",
    "print(sent)"
   ]
  },
  {
   "cell_type": "code",
   "execution_count": 5,
   "id": "034798ca-8625-4d42-8c7d-6c3e25b87eb9",
   "metadata": {},
   "outputs": [
    {
     "data": {
      "text/plain": [
       "\"hello \\tworld I'm a boy\""
      ]
     },
     "execution_count": 5,
     "metadata": {},
     "output_type": "execute_result"
    }
   ],
   "source": [
    "sent"
   ]
  },
  {
   "cell_type": "markdown",
   "id": "dbf41921-9381-4f2c-9426-6d9c919cd495",
   "metadata": {},
   "source": [
    "### 연산\n",
    "- concatenation (+)\n",
    "    -'' + '' => 붙이기\n",
    "- 복제 (*)\n",
    "    - ''*4 => 4번 반복"
   ]
  },
  {
   "cell_type": "code",
   "execution_count": 7,
   "id": "529d543e-5cc9-4fe0-8e89-7229f51c720c",
   "metadata": {},
   "outputs": [
    {
     "data": {
      "text/plain": [
       "'brainbrain'"
      ]
     },
     "execution_count": 7,
     "metadata": {},
     "output_type": "execute_result"
    }
   ],
   "source": [
    "word = 'brain' #공백 없이 출력된다\n",
    "word + word"
   ]
  },
  {
   "cell_type": "code",
   "execution_count": 12,
   "id": "f55bd51e-8910-44f0-a94f-6ddd0f3ea4ab",
   "metadata": {},
   "outputs": [
    {
     "data": {
      "text/plain": [
       "'brainbrainbrainbrain'"
      ]
     },
     "execution_count": 12,
     "metadata": {},
     "output_type": "execute_result"
    }
   ],
   "source": [
    "word * 4"
   ]
  },
  {
   "cell_type": "code",
   "execution_count": 13,
   "id": "d3d7159b-160e-4c44-a34c-cdf5d71bcd02",
   "metadata": {},
   "outputs": [
    {
     "data": {
      "text/plain": [
       "'My name isJake'"
      ]
     },
     "execution_count": 13,
     "metadata": {},
     "output_type": "execute_result"
    }
   ],
   "source": [
    "\"My name is\" + \"Jake\""
   ]
  },
  {
   "cell_type": "markdown",
   "id": "d06579cc-b666-4fa2-959c-68e4a6013a6f",
   "metadata": {},
   "source": [
    "### Slicing \n",
    "- 지정 범위의 문자열을 추추하는 것\n",
    "- 문법: 대괄호 + 오프셋 이용 | [offset]\n",
    "    - [start:end:step]\n",
    "- 오프셋은 0부터 시작\n",
    "- start 포함, end 불포함 (크거나 같고, 작다)\n",
    "- start나 end가 0이면 0생략한다\n",
    "    - 예: ~4까지 출력하기 => [1:5] \n",
    "    - 처음부터 끝까지 2스텝씩 => [::2]\n",
    "    - 처음부터 끝까지 역순으로 => [::-1]\n",
    "- 오프셋은 거꾸로도 가능하다. 단 0이 아닌 -1부터 시작함"
   ]
  },
  {
   "cell_type": "code",
   "execution_count": 15,
   "id": "cbac226f-ffc2-4cc7-aa17-0d8a67f86f6d",
   "metadata": {},
   "outputs": [
    {
     "data": {
      "text/plain": [
       "(\"hello \\\\tworld I\\\\'m a boy\", 'e')"
      ]
     },
     "execution_count": 15,
     "metadata": {},
     "output_type": "execute_result"
    }
   ],
   "source": [
    "sent, sent[1] "
   ]
  },
  {
   "cell_type": "code",
   "execution_count": 16,
   "id": "6d9f8539-3c4f-4cb0-83bb-c4913c810292",
   "metadata": {},
   "outputs": [
    {
     "data": {
      "text/plain": [
       "'l'"
      ]
     },
     "execution_count": 16,
     "metadata": {},
     "output_type": "execute_result"
    }
   ],
   "source": [
    "sent[3:4]"
   ]
  },
  {
   "cell_type": "code",
   "execution_count": 17,
   "id": "92e95e39-89d2-4d6a-b9d2-333b0b8f8728",
   "metadata": {},
   "outputs": [
    {
     "data": {
      "text/plain": [
       "'hell'"
      ]
     },
     "execution_count": 17,
     "metadata": {},
     "output_type": "execute_result"
    }
   ],
   "source": [
    "#처음부터 4까지\n",
    "sent[:4]"
   ]
  },
  {
   "cell_type": "code",
   "execution_count": 18,
   "id": "ecf236b4-75b9-41b5-8f6a-e47d0f4d6317",
   "metadata": {},
   "outputs": [
    {
     "data": {
      "text/plain": [
       "11"
      ]
     },
     "execution_count": 18,
     "metadata": {},
     "output_type": "execute_result"
    }
   ],
   "source": [
    "# 공백도 offset에 포함된다\n",
    "sent2 = 'hello world'\n",
    "len(sent2) #length(공백 포함)"
   ]
  },
  {
   "cell_type": "code",
   "execution_count": 19,
   "id": "5aeecafb-8f1f-4df2-b2d3-d990b5d5e14e",
   "metadata": {},
   "outputs": [
    {
     "data": {
      "text/plain": [
       "\"hlo\\\\wrdI'  o\""
      ]
     },
     "execution_count": 19,
     "metadata": {},
     "output_type": "execute_result"
    }
   ],
   "source": [
    "#처음부터 끝까지 2스텝씩 출력하기\n",
    "sent[::2]    #start:end:step이니까"
   ]
  },
  {
   "cell_type": "code",
   "execution_count": 21,
   "id": "233d9332-5f11-41b4-a08b-a0b9a35203a2",
   "metadata": {},
   "outputs": [
    {
     "data": {
      "text/plain": [
       "\"yob a m'\\\\I dlrowt\\\\ olleh\""
      ]
     },
     "execution_count": 21,
     "metadata": {},
     "output_type": "execute_result"
    }
   ],
   "source": [
    "#처음부터 끝까지 역순으로 출력하기\n",
    "sent[::-1]"
   ]
  },
  {
   "cell_type": "code",
   "execution_count": 22,
   "id": "ec904b57-20b4-4505-89d9-1a9f472390a4",
   "metadata": {},
   "outputs": [
    {
     "ename": "NameError",
     "evalue": "name 'hello' is not defined",
     "output_type": "error",
     "traceback": [
      "\u001b[1;31m---------------------------------------------------------------------------\u001b[0m",
      "\u001b[1;31mNameError\u001b[0m                                 Traceback (most recent call last)",
      "\u001b[1;32m<ipython-input-22-3a9acbe8b8a0>\u001b[0m in \u001b[0;36m<module>\u001b[1;34m\u001b[0m\n\u001b[0;32m      1\u001b[0m \u001b[1;31m#주의\u001b[0m\u001b[1;33m\u001b[0m\u001b[1;33m\u001b[0m\u001b[1;33m\u001b[0m\u001b[0m\n\u001b[1;32m----> 2\u001b[1;33m \u001b[0mhello\u001b[0m\u001b[1;33m[\u001b[0m\u001b[1;36m2\u001b[0m\u001b[1;33m]\u001b[0m \u001b[1;33m=\u001b[0m \u001b[1;34m'L'\u001b[0m\u001b[1;33m\u001b[0m\u001b[1;33m\u001b[0m\u001b[0m\n\u001b[0m\u001b[0;32m      3\u001b[0m \u001b[0mhello\u001b[0m\u001b[1;33m\u001b[0m\u001b[1;33m\u001b[0m\u001b[0m\n",
      "\u001b[1;31mNameError\u001b[0m: name 'hello' is not defined"
     ]
    }
   ],
   "source": [
    "#주의 : 불변타입이라 바꿀 수 없다\n",
    "hello[2] = 'L'\n",
    "hello"
   ]
  },
  {
   "cell_type": "code",
   "execution_count": null,
   "id": "405861c7-d625-4ebe-aec5-662a9eaa78b3",
   "metadata": {},
   "outputs": [],
   "source": []
  },
  {
   "cell_type": "markdown",
   "id": "d6164001-01ca-426c-b876-69493adb20b2",
   "metadata": {},
   "source": [
    "### NLTK\n",
    "- natural language toolkill\n",
    "- 교육용 자연어 처리 패키지\n",
    "- 코퍼스 제공하는데 어떤 처리가 되어 있다\n",
    "    - 토크나이즈, 파싱, 태깅, .."
   ]
  },
  {
   "cell_type": "code",
   "execution_count": 4,
   "id": "f93557b2-38f8-4022-96b9-eda0a76dc9a0",
   "metadata": {},
   "outputs": [
    {
     "name": "stdout",
     "output_type": "stream",
     "text": [
      "Requirement already satisfied: nltk in c:\\users\\blubl\\anaconda3\\lib\\site-packages (3.6.1)\n",
      "Requirement already satisfied: click in c:\\users\\blubl\\anaconda3\\lib\\site-packages (from nltk) (7.1.2)\n",
      "Requirement already satisfied: regex in c:\\users\\blubl\\anaconda3\\lib\\site-packages (from nltk) (2021.4.4)\n",
      "Requirement already satisfied: tqdm in c:\\users\\blubl\\anaconda3\\lib\\site-packages (from nltk) (4.59.0)\n",
      "Requirement already satisfied: joblib in c:\\users\\blubl\\anaconda3\\lib\\site-packages (from nltk) (1.0.1)\n"
     ]
    }
   ],
   "source": [
    "!pip install nltk  #nltk 설치"
   ]
  },
  {
   "cell_type": "code",
   "execution_count": null,
   "id": "14736b6e-7223-4cef-973f-fad00adebba8",
   "metadata": {},
   "outputs": [],
   "source": [
    "import nltk\n",
    "nltk.download('book', quiet=True)  #조용히 설치"
   ]
  },
  {
   "cell_type": "code",
   "execution_count": 8,
   "id": "953d9bff-1cd6-415d-aa85-3fc8c5752788",
   "metadata": {},
   "outputs": [
    {
     "name": "stdout",
     "output_type": "stream",
     "text": [
      "*** Introductory Examples for the NLTK Book ***\n",
      "Loading text1, ..., text9 and sent1, ..., sent9\n",
      "Type the name of the text or sentence to view it.\n",
      "Type: 'texts()' or 'sents()' to list the materials.\n",
      "text1: Moby Dick by Herman Melville 1851\n",
      "text2: Sense and Sensibility by Jane Austen 1811\n",
      "text3: The Book of Genesis\n",
      "text4: Inaugural Address Corpus\n",
      "text5: Chat Corpus\n",
      "text6: Monty Python and the Holy Grail\n",
      "text7: Wall Street Journal\n",
      "text8: Personals Corpus\n",
      "text9: The Man Who Was Thursday by G . K . Chesterton 1908\n"
     ]
    }
   ],
   "source": [
    "from nltk import book"
   ]
  },
  {
   "cell_type": "code",
   "execution_count": 9,
   "id": "374c903d-ea47-4524-8d50-64a19a868600",
   "metadata": {},
   "outputs": [],
   "source": [
    "moby = book.text1"
   ]
  },
  {
   "cell_type": "code",
   "execution_count": 13,
   "id": "85b8b833-9df7-48ed-816d-954f00ba387d",
   "metadata": {
    "tags": []
   },
   "outputs": [
    {
     "data": {
      "text/plain": [
       "'\\n토큰? 프로그래밍에서 정의하는 단어\\n    \"I\\'m a boy.\" i\\'m, i am, i\\'m\\n'"
      ]
     },
     "execution_count": 13,
     "metadata": {},
     "output_type": "execute_result"
    }
   ],
   "source": [
    "moby.tokens  #단어에 접근\n",
    "\"\"\"\n",
    "토큰? 프로그래밍에서 정의하는 단어\n",
    "    \"I'm a boy.\" i'm, i am, i'm\n",
    "\"\"\""
   ]
  },
  {
   "cell_type": "code",
   "execution_count": 11,
   "id": "93f91e65-7347-47a6-b911-006e43a9fc97",
   "metadata": {},
   "outputs": [
    {
     "data": {
      "text/plain": [
       "260819"
      ]
     },
     "execution_count": 11,
     "metadata": {},
     "output_type": "execute_result"
    }
   ],
   "source": [
    "# 단어의 총 길이 \n",
    "len(moby.tokens)"
   ]
  },
  {
   "cell_type": "code",
   "execution_count": 14,
   "id": "52087ac0-4639-4c1f-a664-e3fa5566b875",
   "metadata": {
    "collapsed": true,
    "jupyter": {
     "outputs_hidden": true
    },
    "tags": []
   },
   "outputs": [
    {
     "data": {
      "text/plain": [
       "{'oft',\n",
       " 'rowing',\n",
       " 'proper',\n",
       " 'pitied',\n",
       " 'unwarrantably',\n",
       " 'fiery',\n",
       " 'impenitent',\n",
       " 'unattended',\n",
       " 'convey',\n",
       " 'quietude',\n",
       " 'Yon',\n",
       " 'felicities',\n",
       " 'popularize',\n",
       " 'intolerable',\n",
       " 'childish',\n",
       " '3d',\n",
       " 'Judgment',\n",
       " 'unfathomably',\n",
       " 'clattering',\n",
       " 'banner',\n",
       " 'Durer',\n",
       " 'collect',\n",
       " 'Hang',\n",
       " 'Passage',\n",
       " 'Bendigoes',\n",
       " 'skrimmage',\n",
       " 'detestation',\n",
       " 'tell',\n",
       " 'futures',\n",
       " 'adieux',\n",
       " 'Sherry',\n",
       " 'suspect',\n",
       " '1750',\n",
       " ':',\n",
       " 'mainly',\n",
       " 'repeatedly',\n",
       " 'impudence',\n",
       " 'rail',\n",
       " 'boasts',\n",
       " 'approving',\n",
       " 'impotently',\n",
       " 'kicked',\n",
       " 'ledge',\n",
       " 'risen',\n",
       " 'sob',\n",
       " 'demigorgon',\n",
       " 'hurling',\n",
       " 'Perhaps',\n",
       " '--\"',\n",
       " 'wondered',\n",
       " 'appalling',\n",
       " 'quietly',\n",
       " 'cleft',\n",
       " 'worsted',\n",
       " 'spars',\n",
       " 'Sheet',\n",
       " 'sugary',\n",
       " 'chewed',\n",
       " 'exceed',\n",
       " 'builders',\n",
       " 'wrenched',\n",
       " 'ponderosity',\n",
       " 'conceivable',\n",
       " 'brigger',\n",
       " 'darkey',\n",
       " 'allowed',\n",
       " 'Duodecimoes',\n",
       " 'preluding',\n",
       " 'taffrail',\n",
       " 'inkling',\n",
       " 'Bottom',\n",
       " 'bestowal',\n",
       " 'hostile',\n",
       " 'jurisprudence',\n",
       " 'Owners',\n",
       " 'resign',\n",
       " 'fee',\n",
       " 'fencer',\n",
       " 'schoolmasters',\n",
       " 'glimpses',\n",
       " 'whether',\n",
       " 'writer',\n",
       " 'respect',\n",
       " 'succeed',\n",
       " 'requirest',\n",
       " 'aspects',\n",
       " 'whit',\n",
       " 'reasonest',\n",
       " 'elevate',\n",
       " 'importunity',\n",
       " 'madest',\n",
       " 'AGAINST',\n",
       " 'unclouded',\n",
       " 'each',\n",
       " 'bannisters',\n",
       " '36',\n",
       " 'counterpoise',\n",
       " 'tolerably',\n",
       " 'sensations',\n",
       " 'hence',\n",
       " 'Cyclades',\n",
       " 'lassitude',\n",
       " 'Extending',\n",
       " 'incurable',\n",
       " 'birch',\n",
       " 'brilliant',\n",
       " 'respite',\n",
       " 'ESCAPED',\n",
       " 'cultured',\n",
       " 'violently',\n",
       " 'unimaginable',\n",
       " 'contending',\n",
       " 'irresistibly',\n",
       " 'tinkerings',\n",
       " 'motto',\n",
       " 'soggy',\n",
       " 'brack',\n",
       " 'receptacle',\n",
       " 'landless',\n",
       " 'quietest',\n",
       " '--(',\n",
       " 'distrustful',\n",
       " 'primal',\n",
       " 'Dome',\n",
       " 'Walks',\n",
       " 'cogent',\n",
       " 'Besides',\n",
       " 'trooped',\n",
       " 'implements',\n",
       " 'pumps',\n",
       " 'talks',\n",
       " 'Inferable',\n",
       " 'sky',\n",
       " 'gallopingly',\n",
       " 'buried',\n",
       " 'unendurable',\n",
       " 'flour',\n",
       " 'advice',\n",
       " 'blubber',\n",
       " 'remind',\n",
       " 'deaden',\n",
       " 'Pagans',\n",
       " 'humanities',\n",
       " 'twigged',\n",
       " 'quarters',\n",
       " 'vital',\n",
       " 'Starbuck',\n",
       " 'BLOOD',\n",
       " 'sleet',\n",
       " 'envelope',\n",
       " 'HIMSELF',\n",
       " 'HORRID',\n",
       " 'grazed',\n",
       " 'veil',\n",
       " 'contrastingly',\n",
       " 'lancers',\n",
       " 'Hand',\n",
       " 'illuminate',\n",
       " 'WILLIAM',\n",
       " 'gives',\n",
       " 'churning',\n",
       " 'criterion',\n",
       " 'scuffling',\n",
       " 'indispensableness',\n",
       " 'dwarfed',\n",
       " 'correct',\n",
       " 'SWEDISH',\n",
       " 'May',\n",
       " 'artificially',\n",
       " 'throned',\n",
       " 'fades',\n",
       " 'mutual',\n",
       " 'insist',\n",
       " 'pond',\n",
       " 'happy',\n",
       " 'cried',\n",
       " 'untattooed',\n",
       " 'Leap',\n",
       " 'style',\n",
       " 'alike',\n",
       " 'Tumble',\n",
       " 'Forced',\n",
       " 'unmanageably',\n",
       " 'companionship',\n",
       " 'religious',\n",
       " 'hilariously',\n",
       " 'coronation',\n",
       " 'projections',\n",
       " 'bleached',\n",
       " 'La',\n",
       " 'merit',\n",
       " 'Spread',\n",
       " 'adolescence',\n",
       " 'astronomers',\n",
       " 'inches',\n",
       " 'drawlingly',\n",
       " 'soapstone',\n",
       " 'orders',\n",
       " 'afternoons',\n",
       " 'quill',\n",
       " 'Africans',\n",
       " 'perplexity',\n",
       " 'quay',\n",
       " 'residuary',\n",
       " 'ballroom',\n",
       " 'greener',\n",
       " 'COILS',\n",
       " 'allegory',\n",
       " 'Yorkshire',\n",
       " 'hinting',\n",
       " 'quiver',\n",
       " 'bashfulness',\n",
       " 'messmates',\n",
       " 'lash',\n",
       " 'unseamanlike',\n",
       " 'crutch',\n",
       " 'WIND',\n",
       " 'violent',\n",
       " 'ULLOA',\n",
       " 'glass',\n",
       " 'nursery',\n",
       " 'furnaces',\n",
       " 'scooped',\n",
       " 'fastidious',\n",
       " 'one',\n",
       " 'butt',\n",
       " 'Octavo',\n",
       " 'tracing',\n",
       " 'gaffman',\n",
       " 'swift',\n",
       " 'ABOUT',\n",
       " 'pleasing',\n",
       " 'leap',\n",
       " 'seamen',\n",
       " 'heaped',\n",
       " 'Ready',\n",
       " 'transpointed',\n",
       " 'external',\n",
       " 'ENSUING',\n",
       " 'beef',\n",
       " 'Author',\n",
       " 'Platonian',\n",
       " 'steal',\n",
       " 'lirra',\n",
       " 'qualified',\n",
       " 'warn',\n",
       " 'Luck',\n",
       " 'Vedas',\n",
       " 'rollings',\n",
       " 'uttered',\n",
       " 'foreheads',\n",
       " 'billed',\n",
       " 'Subs',\n",
       " 'bedeadened',\n",
       " 'THRUSTS',\n",
       " 'damndest',\n",
       " 'lurches',\n",
       " 'sage',\n",
       " 'deferential',\n",
       " 'spouted',\n",
       " 'Court',\n",
       " 'shape',\n",
       " 'baked',\n",
       " 'flaming',\n",
       " 'L150',\n",
       " 'congenialities',\n",
       " 'King',\n",
       " 'deaf',\n",
       " 'refuge',\n",
       " '16th',\n",
       " 'This',\n",
       " 'entrails',\n",
       " 'devoting',\n",
       " 'Bulwarks',\n",
       " 'Goodwin',\n",
       " 'insignificant',\n",
       " 'veins',\n",
       " 'casked',\n",
       " 'fittings',\n",
       " 'halloo',\n",
       " 'held',\n",
       " 'gregarious',\n",
       " '45',\n",
       " 'Cowper',\n",
       " 'haunts',\n",
       " 'reelingly',\n",
       " 'bottomless',\n",
       " 'Consequently',\n",
       " 'magazine',\n",
       " 'drew',\n",
       " 'gestures',\n",
       " 'Beware',\n",
       " 'overtakes',\n",
       " 'universal',\n",
       " 'nightmare',\n",
       " 'errors',\n",
       " 'tackles',\n",
       " 'stifled',\n",
       " 'College',\n",
       " 'remotest',\n",
       " 'complimentary',\n",
       " 'twitched',\n",
       " 'oath',\n",
       " 'withdrawals',\n",
       " 'variously',\n",
       " 'enemy',\n",
       " 'foaled',\n",
       " 'omen',\n",
       " 'prey',\n",
       " 'played',\n",
       " '96',\n",
       " 'elbowed',\n",
       " 'happily',\n",
       " 'greybeards',\n",
       " 'unprincipled',\n",
       " 'reflection',\n",
       " 'Death',\n",
       " 'morning',\n",
       " 'everything',\n",
       " 'previously',\n",
       " 'deceive',\n",
       " 'called',\n",
       " 'casement',\n",
       " 'accomplishment',\n",
       " 'communicates',\n",
       " 'rebels',\n",
       " 'Hands',\n",
       " 'consistence',\n",
       " 'shared',\n",
       " 'dodging',\n",
       " 'ETCHINGS',\n",
       " 'Annawon',\n",
       " 'torn',\n",
       " 'Mt',\n",
       " 'woes',\n",
       " 'Teeth',\n",
       " 'glades',\n",
       " 'hems',\n",
       " 'adventurous',\n",
       " 'Sub',\n",
       " 'resumed',\n",
       " 'arises',\n",
       " 'deserve',\n",
       " 'Patience',\n",
       " 'whalin',\n",
       " 'demands',\n",
       " 'speakest',\n",
       " 'rayther',\n",
       " 'condemned',\n",
       " 'phrenologically',\n",
       " 'Historians',\n",
       " 'REPUBLICA',\n",
       " 'reveries',\n",
       " 'EZEKIEL',\n",
       " 'glade',\n",
       " 'mayhap',\n",
       " 'sterns',\n",
       " 'unread',\n",
       " 'Jonathan',\n",
       " 'AROUND',\n",
       " 'mountain',\n",
       " 'fishing',\n",
       " 'thin',\n",
       " 'Propontis',\n",
       " 'exultingly',\n",
       " 'Philistines',\n",
       " 'parent',\n",
       " 'basso',\n",
       " 'omnipresence',\n",
       " 'freezing',\n",
       " 'livingly',\n",
       " 'lion',\n",
       " 'rollicking',\n",
       " 'confession',\n",
       " 'shipkeepers',\n",
       " 'FROCK',\n",
       " 'familiarly',\n",
       " 'melted',\n",
       " 'personified',\n",
       " 'escapes',\n",
       " 'GANGWAY',\n",
       " 'adjust',\n",
       " 'crisp',\n",
       " 'east',\n",
       " 'limitless',\n",
       " 'Diaz',\n",
       " 'aorta',\n",
       " 'lent',\n",
       " 'HERE',\n",
       " 'travels',\n",
       " 'brutes',\n",
       " 'mediums',\n",
       " 'HOLLAND',\n",
       " 'Webster',\n",
       " 'soul',\n",
       " 'source',\n",
       " 'headway',\n",
       " 'bawled',\n",
       " 'nominally',\n",
       " 'thrusting',\n",
       " 'Categut',\n",
       " 'prostrate',\n",
       " 'embarrassed',\n",
       " 'steers',\n",
       " 'Icy',\n",
       " 'opulence',\n",
       " 'floors',\n",
       " 'leaps',\n",
       " 'duties',\n",
       " 'chiefs',\n",
       " 'Issuing',\n",
       " 'native',\n",
       " 'tangled',\n",
       " 'flowered',\n",
       " 'Immortal',\n",
       " 'verity',\n",
       " 'decks',\n",
       " 'effects',\n",
       " 'Floating',\n",
       " 'conjure',\n",
       " 'conspicuously',\n",
       " 'whom',\n",
       " 'blooded',\n",
       " 'frost',\n",
       " 'sighting',\n",
       " 'illustrative',\n",
       " 'Tiger',\n",
       " 'seeks',\n",
       " 'dismemberment',\n",
       " 'force',\n",
       " 'known',\n",
       " 'poised',\n",
       " 'lethargy',\n",
       " 'hereditarily',\n",
       " 'indulging',\n",
       " 'twist',\n",
       " 'stick',\n",
       " 'comical',\n",
       " 'evanescent',\n",
       " 'phrensy',\n",
       " 'inward',\n",
       " 'Every',\n",
       " 'clearings',\n",
       " 'opium',\n",
       " '22',\n",
       " 'overawing',\n",
       " 'moments',\n",
       " 'hieroglyphics',\n",
       " 'ago',\n",
       " 'thole',\n",
       " 'cob',\n",
       " 'unfulfilments',\n",
       " 'unwritten',\n",
       " 'warming',\n",
       " ').',\n",
       " 'brains',\n",
       " 'starred',\n",
       " 'alleged',\n",
       " 'outreaching',\n",
       " 'Sw',\n",
       " 'Shaking',\n",
       " 'Corrupt',\n",
       " 'bud',\n",
       " 'perverse',\n",
       " 'Frederick',\n",
       " 'Lake',\n",
       " 'appears',\n",
       " 'Cologne',\n",
       " 'seizing',\n",
       " 'Abraham',\n",
       " 'transported',\n",
       " 'rage',\n",
       " 'spoiling',\n",
       " 'as',\n",
       " 'aboriginalness',\n",
       " 'hospitals',\n",
       " 'Persians',\n",
       " 'bursting',\n",
       " 'wreak',\n",
       " 'Farewell',\n",
       " 'Jesu',\n",
       " 'trouble',\n",
       " 'tusks',\n",
       " 'rigorous',\n",
       " 'lotus',\n",
       " 'telegraph',\n",
       " 'concubines',\n",
       " 'sweetly',\n",
       " 'Elsewhere',\n",
       " 'WHALESHIPS',\n",
       " 'knaves',\n",
       " 'Wretched',\n",
       " 'Mecca',\n",
       " 'suppressed',\n",
       " 'inaccessible',\n",
       " 'cup',\n",
       " 'pangs',\n",
       " 'Mary',\n",
       " 'ordaining',\n",
       " 'Carson',\n",
       " 'Arsacides',\n",
       " 'technical',\n",
       " 'Iceland',\n",
       " 'baptised',\n",
       " 'sheeted',\n",
       " 'diddled',\n",
       " 'Regarded',\n",
       " 'tombstones',\n",
       " 'Isolatoes',\n",
       " 'Keel',\n",
       " 'backwoods',\n",
       " 'DANISH',\n",
       " 'patentee',\n",
       " 'Spin',\n",
       " 'cheapest',\n",
       " 'grotesqueness',\n",
       " 'lodges',\n",
       " 'eleven',\n",
       " 'puddingers',\n",
       " 'Hoisting',\n",
       " '!)',\n",
       " 'colouring',\n",
       " 'GAZING',\n",
       " 'Bestow',\n",
       " 'dominion',\n",
       " 'gaff',\n",
       " 'serpentine',\n",
       " 'sinned',\n",
       " 'howls',\n",
       " 'prolongings',\n",
       " 'luck',\n",
       " 'stroll',\n",
       " 'ANY',\n",
       " 'noise',\n",
       " 'ethereal',\n",
       " 'dan',\n",
       " 'ASIDE',\n",
       " 'fortunes',\n",
       " 'switching',\n",
       " 'severed',\n",
       " 'coin',\n",
       " 'sooty',\n",
       " 'Letter',\n",
       " 'Kentuckian',\n",
       " 'Doesn',\n",
       " 'Tahiti',\n",
       " 'fowls',\n",
       " 'stabs',\n",
       " 'fold',\n",
       " 'beard',\n",
       " 'inhale',\n",
       " 'Or',\n",
       " 'classify',\n",
       " 'leash',\n",
       " 'rifles',\n",
       " 'Vitus',\n",
       " \"'--\",\n",
       " 'Pulling',\n",
       " 'smoothe',\n",
       " 'pool',\n",
       " '120',\n",
       " 'Moses',\n",
       " 'staple',\n",
       " 'pieces',\n",
       " 'parading',\n",
       " 'cleats',\n",
       " 'PILGRIM',\n",
       " 'influential',\n",
       " 'garters',\n",
       " 'Hydrus',\n",
       " 'starry',\n",
       " 'hoarded',\n",
       " 'horrible',\n",
       " 'unconscious',\n",
       " 'mode',\n",
       " 'howled',\n",
       " 'scoot',\n",
       " 'SCENE',\n",
       " 'advances',\n",
       " 'stabbing',\n",
       " 'present',\n",
       " 'waits',\n",
       " 'respectful',\n",
       " 'masses',\n",
       " 'Lively',\n",
       " 'worming',\n",
       " 'acridness',\n",
       " 'foothold',\n",
       " 'airley',\n",
       " 'amputating',\n",
       " 'ferrule',\n",
       " 'disappeared',\n",
       " 'Rokovoko',\n",
       " 'glens',\n",
       " 'volcanoes',\n",
       " 'monsieurs',\n",
       " 'artist',\n",
       " 'kith',\n",
       " 'sadness',\n",
       " 'sallies',\n",
       " 'spending',\n",
       " 'sex',\n",
       " 'muscle',\n",
       " 'lamps',\n",
       " 'transcend',\n",
       " 'gloves',\n",
       " 'writers',\n",
       " 'silent',\n",
       " 'responsible',\n",
       " 'discharges',\n",
       " 'Zealand',\n",
       " 'day',\n",
       " 'petticoat',\n",
       " 'upbraiding',\n",
       " 'Leviathan',\n",
       " 'innumerable',\n",
       " 'glue',\n",
       " 'every',\n",
       " 'west',\n",
       " 'doorway',\n",
       " 'shirts',\n",
       " 'gudgeon',\n",
       " 'parsley',\n",
       " 'undiluted',\n",
       " 'managers',\n",
       " 'pound',\n",
       " 'Yonder',\n",
       " 'whalebone',\n",
       " 'tableau',\n",
       " 'ranged',\n",
       " 'invoking',\n",
       " 'Whereupon',\n",
       " 'gases',\n",
       " 'happens',\n",
       " 'revealed',\n",
       " 'looker',\n",
       " 'muster',\n",
       " 'bust',\n",
       " 'sights',\n",
       " 'sown',\n",
       " 'hours',\n",
       " 'preserving',\n",
       " 'expandingly',\n",
       " 'Supreme',\n",
       " 'nut',\n",
       " 'afflicted',\n",
       " 'incapable',\n",
       " 'clapt',\n",
       " 'becomes',\n",
       " 'attending',\n",
       " 'Arrived',\n",
       " 'thumb',\n",
       " 'valleys',\n",
       " 'Furl',\n",
       " 'Albicore',\n",
       " 'promptly',\n",
       " 'suspending',\n",
       " 'torsoes',\n",
       " 'blanket',\n",
       " 'merrily',\n",
       " '50',\n",
       " 'housekeeping',\n",
       " '34',\n",
       " 'Polynesians',\n",
       " 'quarrel',\n",
       " 'well',\n",
       " 'creation',\n",
       " 'depths',\n",
       " 'huzza',\n",
       " 'witty',\n",
       " 'at',\n",
       " 'peddlin',\n",
       " 'breedeth',\n",
       " 'Halloa',\n",
       " 'grooved',\n",
       " 'brushing',\n",
       " 'skittishly',\n",
       " 'cerebellum',\n",
       " 'blackest',\n",
       " 'twilight',\n",
       " 'Paul',\n",
       " 'conceded',\n",
       " 'guarding',\n",
       " 'convulsively',\n",
       " 'Improving',\n",
       " 'webbed',\n",
       " 'THE',\n",
       " 'deliberate',\n",
       " 'laughed',\n",
       " 'motion',\n",
       " 'perished',\n",
       " 'shabbiest',\n",
       " 'Americans',\n",
       " 'betrayed',\n",
       " 'embellished',\n",
       " 'abounded',\n",
       " 'Goldsmith',\n",
       " 'cellars',\n",
       " 'spike',\n",
       " 'adopt',\n",
       " 'punishment',\n",
       " 'aslope',\n",
       " 'unwarranted',\n",
       " 'allurements',\n",
       " 'peak',\n",
       " 'loadstone',\n",
       " 'openly',\n",
       " 'congregated',\n",
       " 'huskily',\n",
       " 'practices',\n",
       " 'Hosmannus',\n",
       " 'urgent',\n",
       " 'dad',\n",
       " 'loses',\n",
       " 'oak',\n",
       " 'machine',\n",
       " 'state',\n",
       " 'per',\n",
       " 'tepid',\n",
       " 'shoes',\n",
       " 'ain',\n",
       " 'subtly',\n",
       " 'cough',\n",
       " 'lest',\n",
       " 'lonely',\n",
       " 'perilously',\n",
       " 'caravans',\n",
       " 'indite',\n",
       " 'extracted',\n",
       " 'undivided',\n",
       " 'crouches',\n",
       " 'write',\n",
       " 'panic',\n",
       " 'concluded',\n",
       " 'stately',\n",
       " 'subtilty',\n",
       " 'Tongatobooarrs',\n",
       " 'tarred',\n",
       " 'Grief',\n",
       " 'spells',\n",
       " 'mischievous',\n",
       " 'affected',\n",
       " 'facing',\n",
       " 'whoever',\n",
       " 'grounds',\n",
       " 'gaunt',\n",
       " 'juices',\n",
       " 'subdued',\n",
       " 'Dying',\n",
       " 'baulks',\n",
       " 'begotten',\n",
       " 'clutching',\n",
       " 'unassailable',\n",
       " 'plaintive',\n",
       " 'branches',\n",
       " 'spent',\n",
       " 'observant',\n",
       " 'Horatii',\n",
       " 'incarcerated',\n",
       " 'boxes',\n",
       " 'keenest',\n",
       " 'diameter',\n",
       " 'duelled',\n",
       " 'purty',\n",
       " 'Horned',\n",
       " 'tread',\n",
       " 'ignoring',\n",
       " 'visions',\n",
       " 'distinctive',\n",
       " 'Into',\n",
       " 'Cooper',\n",
       " 'describes',\n",
       " 'hey',\n",
       " 'archangelic',\n",
       " 'tiller',\n",
       " 'commentaries',\n",
       " 'conical',\n",
       " 'mantle',\n",
       " 'kettles',\n",
       " 'Availing',\n",
       " 'breeze',\n",
       " 'founded',\n",
       " 'Abominable',\n",
       " 'Frenchmen',\n",
       " 'clotted',\n",
       " 'lodgings',\n",
       " 'yawning',\n",
       " 'inasmuch',\n",
       " 'deadreckoning',\n",
       " 'doleful',\n",
       " 'closing',\n",
       " 'disobey',\n",
       " 'provides',\n",
       " 'tribes',\n",
       " 'Dost',\n",
       " 'tethered',\n",
       " 'hams',\n",
       " 'Dish',\n",
       " 'stamped',\n",
       " 'focus',\n",
       " 'Baltimore',\n",
       " 'booting',\n",
       " 'recede',\n",
       " 'gifted',\n",
       " 'Et',\n",
       " 'fiftieth',\n",
       " 'guests',\n",
       " 'bulb',\n",
       " 'had',\n",
       " 'pride',\n",
       " 'compendious',\n",
       " 'untutored',\n",
       " 'Muster',\n",
       " 'Third',\n",
       " 'REST',\n",
       " 'vibrate',\n",
       " 'evince',\n",
       " 'go',\n",
       " 'brimmed',\n",
       " 'corroborative',\n",
       " 'Measured',\n",
       " 'biscuits',\n",
       " 'rescued',\n",
       " 'surveying',\n",
       " 'Republican',\n",
       " 'sparkling',\n",
       " 'habit',\n",
       " 'seize',\n",
       " 'coves',\n",
       " 'HAS',\n",
       " 'basis',\n",
       " 'grand',\n",
       " 'poet',\n",
       " 'renown',\n",
       " 'cocoanuts',\n",
       " 'liberally',\n",
       " 'typhoon',\n",
       " 'surveillance',\n",
       " 'eavesdroppers',\n",
       " 'prominent',\n",
       " 'highly',\n",
       " 'PRESSED',\n",
       " 'blessing',\n",
       " 'Retribution',\n",
       " 'salamed',\n",
       " 'slower',\n",
       " 'ALL',\n",
       " 'Dericks',\n",
       " 'assigned',\n",
       " 'toil',\n",
       " 'skulking',\n",
       " 'filling',\n",
       " 'whip',\n",
       " 'holiday',\n",
       " 'lonesomely',\n",
       " 'female',\n",
       " 'got',\n",
       " 'bayonets',\n",
       " 'torpid',\n",
       " 'Forehead',\n",
       " 'communities',\n",
       " 'notches',\n",
       " 'miserably',\n",
       " 'obedience',\n",
       " 'project',\n",
       " 'multitudes',\n",
       " 'stranded',\n",
       " 'Connecticut',\n",
       " 'outraged',\n",
       " 'aglow',\n",
       " 'roots',\n",
       " 'kingdoms',\n",
       " 'legendary',\n",
       " 'unsocial',\n",
       " 'visitors',\n",
       " 'gorings',\n",
       " 'lave',\n",
       " 'Berlin',\n",
       " 'cabinet',\n",
       " 'HALF',\n",
       " 'looped',\n",
       " 'bathed',\n",
       " 'uncheered',\n",
       " 'bunks',\n",
       " 'Commanders',\n",
       " 'evangelist',\n",
       " 'seas',\n",
       " 'blown',\n",
       " 'distilled',\n",
       " 'dilating',\n",
       " 'unprejudiced',\n",
       " 'grain',\n",
       " 'brightest',\n",
       " 'watery',\n",
       " 'production',\n",
       " 'Hunter',\n",
       " 'becalmed',\n",
       " 'walls',\n",
       " 'duke',\n",
       " 'relieved',\n",
       " 'dishes',\n",
       " 'lightest',\n",
       " 'argument',\n",
       " 'retreating',\n",
       " 'Deacon',\n",
       " 'clanging',\n",
       " 'staggered',\n",
       " 'snow',\n",
       " 'Lost',\n",
       " 'crazed',\n",
       " 'public',\n",
       " 'straining',\n",
       " '75',\n",
       " 'crammed',\n",
       " 'opposition',\n",
       " 'IMPOSING',\n",
       " 'positive',\n",
       " 'temple',\n",
       " 'rustiness',\n",
       " 'swear',\n",
       " 'Purchas',\n",
       " 'disclosed',\n",
       " 'RAIMOND',\n",
       " 'Wisdom',\n",
       " 'Cooks',\n",
       " 'dainty',\n",
       " 'guardian',\n",
       " 'cargoes',\n",
       " 'Agassiz',\n",
       " 'amuck',\n",
       " 'untouchable',\n",
       " 'SLABS',\n",
       " 'Almost',\n",
       " 'immeasurable',\n",
       " 'lazy',\n",
       " 'THOMAS',\n",
       " 'chief',\n",
       " 'suggest',\n",
       " 'SENATE',\n",
       " 'eagle',\n",
       " 'voracity',\n",
       " 'Western',\n",
       " 'venting',\n",
       " 'feminine',\n",
       " 'consciences',\n",
       " 'dreamy',\n",
       " 'steeply',\n",
       " 'Stretched',\n",
       " 'flog',\n",
       " 'coerced',\n",
       " 'Jew',\n",
       " 'subdivisions',\n",
       " 'revered',\n",
       " 'Daboll',\n",
       " 'quadrupeds',\n",
       " 'shooks',\n",
       " 'hogs',\n",
       " 'addressed',\n",
       " 'warped',\n",
       " 'thunders',\n",
       " 'Earls',\n",
       " 'grotesque',\n",
       " 'supposed',\n",
       " 'shed',\n",
       " 'battened',\n",
       " 'Two',\n",
       " 'unaided',\n",
       " 'Commanded',\n",
       " 'resembles',\n",
       " 'mathematics',\n",
       " 'knightly',\n",
       " 'curvetting',\n",
       " 'confine',\n",
       " 'scrambled',\n",
       " 'establishing',\n",
       " 'furred',\n",
       " 'cheek',\n",
       " '61',\n",
       " 'Egypt',\n",
       " 'hugeness',\n",
       " 'rests',\n",
       " 'spherical',\n",
       " 'overmuch',\n",
       " 'amplify',\n",
       " 'chase',\n",
       " 'Sam',\n",
       " 'Harry',\n",
       " 'Societies',\n",
       " 'insurance',\n",
       " 'yielding',\n",
       " 'unstricken',\n",
       " 'chiefly',\n",
       " 'summit',\n",
       " 'gallop',\n",
       " 'admonishing',\n",
       " 'stem',\n",
       " 'implement',\n",
       " 'up',\n",
       " '),',\n",
       " 'goney',\n",
       " ...}"
      ]
     },
     "execution_count": 14,
     "metadata": {},
     "output_type": "execute_result"
    }
   ],
   "source": [
    "# 문제는 중복되는 단어들도 있다는 것\n",
    "set(moby.tokens)"
   ]
  },
  {
   "cell_type": "markdown",
   "id": "2442f030-635c-4c99-b12f-651d273ae01a",
   "metadata": {},
   "source": [
    "- set\n",
    "    - {a, b, c, ...}\n",
    "    - 중복 불가능\n",
    "    - 수학의 집합과 동일 개념\n",
    "    - 순서 없음(슬라이싱 불가능)\n",
    "- list\n",
    "    - [a, b, c, ...]\n",
    "    - 중복 가능 ex.cars = [kia, benz, kia]\n",
    "    - 순서 있음(슬라이싱 가능)\n"
   ]
  },
  {
   "cell_type": "code",
   "execution_count": 15,
   "id": "b3166814-daec-4d37-a9c5-64139ffd7354",
   "metadata": {},
   "outputs": [
    {
     "data": {
      "text/plain": [
       "19317"
      ]
     },
     "execution_count": 15,
     "metadata": {},
     "output_type": "execute_result"
    }
   ],
   "source": [
    "# 중복 없는 단어 수 \n",
    "len(set(moby.tokens))"
   ]
  },
  {
   "cell_type": "code",
   "execution_count": 16,
   "id": "9b747477-d797-4bba-9f0e-1d4374d4b921",
   "metadata": {},
   "outputs": [
    {
     "data": {
      "text/plain": [
       "0.07406285585022564"
      ]
     },
     "execution_count": 16,
     "metadata": {},
     "output_type": "execute_result"
    }
   ],
   "source": [
    "# lexical diversity : 얼마나 어휘를 풍부하게 사용하는지\n",
    "len(set(moby.tokens)) / len(moby.tokens)"
   ]
  },
  {
   "cell_type": "code",
   "execution_count": 22,
   "id": "ce86e242-d48a-45fe-b63d-abaedb3ba2bc",
   "metadata": {},
   "outputs": [
    {
     "data": {
      "text/plain": [
       "['kia', 'kia', 'hyundai', 'benz']"
      ]
     },
     "execution_count": 22,
     "metadata": {},
     "output_type": "execute_result"
    }
   ],
   "source": [
    "# 오름차순, 내림차순 정렬\n",
    "cars = ['kia', 'benz', 'kia', 'hyundai']\n",
    "sorted(cars, reverse=True)"
   ]
  },
  {
   "cell_type": "code",
   "execution_count": 21,
   "id": "684d7285-3dba-42ea-89ba-f4048340961c",
   "metadata": {},
   "outputs": [
    {
     "data": {
      "text/plain": [
       "['zoology',\n",
       " 'zones',\n",
       " 'zoned',\n",
       " 'zone',\n",
       " 'zodiac',\n",
       " 'zig',\n",
       " 'zephyr',\n",
       " 'zeal',\n",
       " 'zay',\n",
       " 'zag']"
      ]
     },
     "execution_count": 21,
     "metadata": {},
     "output_type": "execute_result"
    }
   ],
   "source": [
    "# mobydick 정렬하기\n",
    "sorted(set(moby.tokens), reverse=True)[:10]  #슬라이싱은 보기 편하기 위해"
   ]
  },
  {
   "cell_type": "markdown",
   "id": "ef3a3083-15c5-43d7-bc78-add80a50cf6c",
   "metadata": {},
   "source": [
    "### Quiz 1.\n",
    "- text9에서 lexical diversity 계산하기\n",
    "- text6에서 중복없는 셋 내림차순 정렬하기\n",
    "    - a. 앞에서 단어 10개 추출하기 \n",
    "    - b. 조건문 연습: 'z'가 있으면 대문자로 바꾸기, 'z'가 없는데 4자 이상이면 끝 글자 대문자로 바꾸기\n",
    "    \n",
    " "
   ]
  },
  {
   "cell_type": "markdown",
   "id": "a8282f20-5d08-43f5-b64e-043c331841c7",
   "metadata": {},
   "source": [
    "### Quiz 2.\n",
    "- 주민등록번호, 휴대폰 번호, 이메일 입력받는다.\n",
    "    - 주민번호, 휴대폰은 숫자만 입력(-없이)\n",
    "    - 이메일은 아이디만 입력받기 (@뒷부분 없이)\n",
    "- 출력:\n",
    "    - \"당신은 {}년 {}월 {}일 출생의 {남성/여성}입니다.\"\n",
    "    - 휴대폰 번호 : {}  #하이픈(-)으로 연결\n",
    "    - 이메일 주소 : {아이디}@gmail.com"
   ]
  },
  {
   "cell_type": "code",
   "execution_count": 14,
   "id": "5be4aff5-1c7c-4053-af8d-5c0082dc0fa0",
   "metadata": {},
   "outputs": [
    {
     "name": "stdin",
     "output_type": "stream",
     "text": [
      "주민번호를 입력하세요: 990629\n",
      "휴대폰 번호를 입력하세요: 01053990043\n",
      "이메일 아이디를 입력하세요: 123\n"
     ]
    },
    {
     "name": "stdout",
     "output_type": "stream",
     "text": [
      "당신은9906년 29월 일 출생입니다.\n",
      "휴대폰 번호는 010-5399-004\n",
      "이메일 주소는 123@gmail.com\n"
     ]
    }
   ],
   "source": [
    "id_num = input('주민번호를 입력하세요:')\n",
    "ph_num = input('휴대폰 번호를 입력하세요:')\n",
    "mail = input('이메일 아이디를 입력하세요:')\n",
    "\n",
    "print(f'당신은{id_num[:4]}년 {id_num[4:6]}월 {id_num[6:]}일 출생입니다.')\n",
    "print(f'휴대폰 번호는 {ph_num[:3]}-{ph_num[3:7]}-{ph_num[7:]}')\n",
    "print(f'이메일 주소는 {mail}@gmail.com')\n"
   ]
  }
 ],
 "metadata": {
  "kernelspec": {
   "display_name": "Python 3",
   "language": "python",
   "name": "python3"
  },
  "language_info": {
   "codemirror_mode": {
    "name": "ipython",
    "version": 3
   },
   "file_extension": ".py",
   "mimetype": "text/x-python",
   "name": "python",
   "nbconvert_exporter": "python",
   "pygments_lexer": "ipython3",
   "version": "3.8.8"
  }
 },
 "nbformat": 4,
 "nbformat_minor": 5
}
