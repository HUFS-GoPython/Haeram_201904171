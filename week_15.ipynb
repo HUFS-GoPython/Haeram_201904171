{
 "cells": [
  {
   "cell_type": "markdown",
   "id": "e1d0711f",
   "metadata": {},
   "source": [
    "### 파일과 디렉터리\n",
    "- 디렉터리: 폴더의 다른 말. 파일이 논리적으로 묶인 단위\n",
    "- 파일: 컴퓨터를 실행하는 기본 단위(파일을 기준으로 작업이루어짐)\n",
    "    - 파일명+확장자로 이루어짐\n",
    "    - 확장자: 파일의 쓰임 구분하는 글자\n",
    "    - .pdf, .txt, .xlsx, .hwp 등등\n",
    "    - 종류: 바이너리 파일, 텍스트 파일\n",
    "    - 바이너리 파일: 파일이 이진정보로 저장되어있음\n",
    "- 이진정보니까 내용 확인 X\n",
    "- 해당 확장자를 열 수 있는 프로그램 필요.\n",
    "- 효율적이지만 사람한테는 불편\n",
    "- 텍스트 파일: 사람이 이해할 수 있는 문자열로 저장됨\n",
    "- 메모장, html, py 등등\n",
    "- 변경 기준: 아스키코드, 유니코드\n",
    "- 변경해서 저장하는 행위: 인코딩(encoding) -> utf-8, cp494 등"
   ]
  },
  {
   "cell_type": "markdown",
   "id": "bb15b781",
   "metadata": {},
   "source": [
    "- 파일 열기\n",
    "- open(파일명, 모드)\n",
    "- 모드\n",
    "\n",
    "    - r : read\n",
    "    - w : write\n",
    "    - 파일이 있으면 덮어쓰고 없으면 생성\n",
    "    - x : write\n",
    "    - 파일이 없을때만 생성\n",
    "    - a : write\n",
    "    - 있을 때 마지막 라인에 추가\n",
    "- 추가모드\n",
    "\n",
    "    - b: binary\n",
    "    - t: text (default)\n",
    "\n",
    "    - 'rb', 'rt'"
   ]
  },
  {
   "cell_type": "code",
   "execution_count": null,
   "id": "4239bbdb",
   "metadata": {},
   "outputs": [],
   "source": [
    "#파일 열기\n",
    "file = 'Harrypotter.txt'\n",
    "f = open(file, 'r', encoding='UTF8')"
   ]
  },
  {
   "cell_type": "code",
   "execution_count": null,
   "id": "e029efd3",
   "metadata": {},
   "outputs": [],
   "source": [
    "f"
   ]
  },
  {
   "cell_type": "markdown",
   "id": "0dd39c9c",
   "metadata": {},
   "source": [
    "### 파일 읽기\n",
    "- read(n): 전체를 하나의 str로\n",
    "    - 포인터\n",
    "- readline():한줄만 str\n",
    "- readlines(): 전체가 list, 각 줄이 한 str"
   ]
  },
  {
   "cell_type": "code",
   "execution_count": null,
   "id": "e2e27a3d",
   "metadata": {},
   "outputs": [],
   "source": [
    "f.read(5)"
   ]
  },
  {
   "cell_type": "code",
   "execution_count": null,
   "id": "4d1832cc",
   "metadata": {},
   "outputs": [],
   "source": [
    "f.readline()"
   ]
  },
  {
   "cell_type": "code",
   "execution_count": null,
   "id": "38404250",
   "metadata": {},
   "outputs": [],
   "source": [
    "f = open(file, 'r', encoding='UTF8')\n",
    "sents = f.readlines()\n",
    "sents = [s.strip() for s in sents] #텍스트 정제\n",
    "f.close()"
   ]
  },
  {
   "cell_type": "code",
   "execution_count": null,
   "id": "75c6481e",
   "metadata": {},
   "outputs": [],
   "source": [
    "sents[:20]"
   ]
  },
  {
   "cell_type": "markdown",
   "id": "c0969ba5",
   "metadata": {},
   "source": [
    "### 파일 닫기\n",
    "- 파일 여는 즉시 바로 닫기\n",
    "- 자원 해제\n",
    "- (변수에 내용 담아두면 파일 닫아도 내용 쓸 수 있음)"
   ]
  },
  {
   "cell_type": "code",
   "execution_count": null,
   "id": "3bde1787",
   "metadata": {},
   "outputs": [],
   "source": [
    "with open(file, 'r', encoding='UTF8') as f:#file\n",
    "    #open이 적용되는 블럭\n",
    "    content = f.read()\n",
    "# close안해도 자동으로 파일 닫힘"
   ]
  },
  {
   "cell_type": "code",
   "execution_count": null,
   "id": "3292ce5e",
   "metadata": {},
   "outputs": [],
   "source": [
    "\n",
    "content[:100]"
   ]
  },
  {
   "cell_type": "code",
   "execution_count": 1,
   "id": "494af52c",
   "metadata": {},
   "outputs": [],
   "source": [
    "#실습\n",
    "#readline 파일 읽기 \n",
    "#while 사용해서 한 줄씩 읽고, strip()해서 리스트 반환함수 만들기"
   ]
  },
  {
   "cell_type": "code",
   "execution_count": null,
   "id": "9bfd66e4",
   "metadata": {},
   "outputs": [],
   "source": [
    "file = 'Harrypotter.txt'\n",
    "sents = []\n",
    "with open(file, 'r', encoding='UTF8') as f:\n",
    "    while True:\n",
    "        line = f.readline() #''\n",
    "        if not line: #빈 줄 ('')의 길이도 1, 대신 컨텐츠가 없을때는 0\n",
    "            break\n",
    "        sent = line.strip()\n",
    "        sents.append(sent)"
   ]
  },
  {
   "cell_type": "code",
   "execution_count": null,
   "id": "253b1a69",
   "metadata": {},
   "outputs": [],
   "source": [
    "def make_readlines(file):\n",
    "    sent = []\n",
    "    with open(file, 'r', encoding='UTF8') as f:\n",
    "        while content := f.readline().strip():\n",
    "                sent.append(content)\n",
    "    return sent\n",
    "\n",
    "make_readlines(file)"
   ]
  },
  {
   "cell_type": "markdown",
   "id": "5c9050d6",
   "metadata": {},
   "source": [
    "### 경로가 달라질 때\n",
    "- . : 현재경로\n",
    "- .. : 상위경로"
   ]
  },
  {
   "cell_type": "code",
   "execution_count": null,
   "id": "26271f53",
   "metadata": {},
   "outputs": [],
   "source": [
    "file = '..\\Downloads\\HarryPotter.txt'\n",
    "\n",
    "with open(file, encoding='UTF8') as f:\n",
    "    print(f.read(100))"
   ]
  },
  {
   "cell_type": "markdown",
   "id": "a770899a",
   "metadata": {},
   "source": [
    "### 파일에 쓰기\n",
    "- 인코딩 유의해서 쓰기"
   ]
  },
  {
   "cell_type": "code",
   "execution_count": null,
   "id": "2534e263",
   "metadata": {},
   "outputs": [],
   "source": [
    "with open('test2.txt', 'w', encoding='UTF8') as f:\n",
    "                        #'r'아니고 'w'\n",
    "    for i in range(10):\n",
    "        data = f'{i}번째 줄입니다. \\n'\n",
    "        f.write(data)"
   ]
  },
  {
   "cell_type": "code",
   "execution_count": null,
   "id": "435a081b",
   "metadata": {},
   "outputs": [],
   "source": [
    "#print()\n",
    "file_out = open('test2.txt', 'a', encoding='UTF8')\n",
    "print('한 줄 추가했습니다.', file = file_out)"
   ]
  },
  {
   "cell_type": "markdown",
   "id": "dedbd7a1",
   "metadata": {},
   "source": [
    "### 폴더 만들어서 추가하기\n",
    "- 폴더 만들어서 접근하기"
   ]
  },
  {
   "cell_type": "code",
   "execution_count": null,
   "id": "476c59ca",
   "metadata": {},
   "outputs": [],
   "source": [
    "import os"
   ]
  },
  {
   "cell_type": "code",
   "execution_count": null,
   "id": "cb919a38",
   "metadata": {},
   "outputs": [],
   "source": [
    "os.mkdir('New')#make directory 폴더 만드는 함수"
   ]
  },
  {
   "cell_type": "code",
   "execution_count": null,
   "id": "65c3d195",
   "metadata": {},
   "outputs": [],
   "source": [
    "with open(r'.\\New\\test2.txt', 'w', encoding='UTF8') as f:\n",
    "    for i in range(10):\n",
    "        data = f'{i}번째 줄입니다. \\n'\n",
    "        f.write(data)"
   ]
  },
  {
   "cell_type": "code",
   "execution_count": null,
   "id": "61e07f67",
   "metadata": {},
   "outputs": [],
   "source": [
    "path = 'New'\n",
    "#있는지 확인\n",
    "if not os.isdir(path):\n",
    "    os.mkdir(path)\n",
    "\n",
    "#dir_name = '\n",
    "dir_name = os.path.join(path, 'test2.txt')\n",
    "\n",
    "#재확인 \n",
    "if not os.path.exists(dir_name):\n",
    "    with open(dir_name, 'w') as f: #덮어쓸 가능성 없애기\n",
    "        #원하는 내용의 코드넣기"
   ]
  },
  {
   "cell_type": "code",
   "execution_count": null,
   "id": "1cfb9a7e",
   "metadata": {},
   "outputs": [],
   "source": [
    "os.remove(file_name) #파일 삭제\n",
    "os.rmdir(dir_name) #폴더 안에 파일 있으면 삭제 X"
   ]
  },
  {
   "cell_type": "code",
   "execution_count": null,
   "id": "8cbf2155",
   "metadata": {},
   "outputs": [],
   "source": [
    "import shutil\n",
    "\n",
    "shutil.rmtree(dir_name) #강제로 전부 삭제"
   ]
  },
  {
   "cell_type": "markdown",
   "id": "6b6c2d5e",
   "metadata": {},
   "source": [
    "- 폴더 새로 만들어서\n",
    "- 파일에 내용쓰고\n",
    "- 파일 열기"
   ]
  },
  {
   "cell_type": "code",
   "execution_count": null,
   "id": "02cffe0d",
   "metadata": {},
   "outputs": [],
   "source": [
    "os.getcwd() #지금 내가 있는 디렉토리"
   ]
  },
  {
   "cell_type": "code",
   "execution_count": null,
   "id": "11c0fd51",
   "metadata": {},
   "outputs": [],
   "source": [
    "os.chdir('..')"
   ]
  },
  {
   "cell_type": "markdown",
   "id": "9282bb2a",
   "metadata": {},
   "source": [
    "### pickle\n",
    "- 객체를 파일로 저장할 수 있음\n",
    "- 넘길때: dump\n",
    "- 가져올때: load"
   ]
  },
  {
   "cell_type": "code",
   "execution_count": null,
   "id": "26a01c0e",
   "metadata": {},
   "outputs": [],
   "source": [
    "import pickle"
   ]
  },
  {
   "cell_type": "code",
   "execution_count": null,
   "id": "409269b1",
   "metadata": {},
   "outputs": [],
   "source": [
    "nums = list(range(10))\n",
    "nums"
   ]
  },
  {
   "cell_type": "code",
   "execution_count": null,
   "id": "b4afc60b",
   "metadata": {},
   "outputs": [],
   "source": [
    "with open('test.pickle', 'wb') as f:\n",
    "    pickle.dump(nums, f)"
   ]
  },
  {
   "cell_type": "code",
   "execution_count": null,
   "id": "268184d6",
   "metadata": {},
   "outputs": [],
   "source": [
    "with open('test.pickle', 'rb') as f:\n",
    "    number = pickle.load(f)"
   ]
  },
  {
   "cell_type": "code",
   "execution_count": null,
   "id": "17b32bd8",
   "metadata": {},
   "outputs": [],
   "source": [
    "number"
   ]
  }
 ],
 "metadata": {
  "kernelspec": {
   "display_name": "Python 3",
   "language": "python",
   "name": "python3"
  },
  "language_info": {
   "codemirror_mode": {
    "name": "ipython",
    "version": 3
   },
   "file_extension": ".py",
   "mimetype": "text/x-python",
   "name": "python",
   "nbconvert_exporter": "python",
   "pygments_lexer": "ipython3",
   "version": "3.8.8"
  }
 },
 "nbformat": 4,
 "nbformat_minor": 5
}
