{
 "cells": [
  {
   "cell_type": "markdown",
   "id": "e5598e3e",
   "metadata": {},
   "source": [
    "### 함수 2"
   ]
  },
  {
   "cell_type": "markdown",
   "id": "7324dc05",
   "metadata": {},
   "source": [
    "#### asterisk (stars) *, **"
   ]
  },
  {
   "cell_type": "code",
   "execution_count": 3,
   "id": "b2bc61c9",
   "metadata": {},
   "outputs": [
    {
     "name": "stdout",
     "output_type": "stream",
     "text": [
      "('hey', 'hello', 'hi')\n"
     ]
    }
   ],
   "source": [
    "def print_arg(*args):  #*를 쓰면 여러개를 선언 가능\n",
    "    # 인자를 튜플로 묶어서 활용하는 역할\n",
    "    print(args)\n",
    "    \n",
    "print_arg('hey', 'hello', 'hi')"
   ]
  },
  {
   "cell_type": "code",
   "execution_count": 4,
   "id": "f9299837",
   "metadata": {},
   "outputs": [
    {
     "name": "stdout",
     "output_type": "stream",
     "text": [
      "hey hello hi\n"
     ]
    }
   ],
   "source": [
    "def print_arg(*args): \n",
    "    print(*args)   #여기서도 쓰먄 괄호 없이 출력됨 언패킹(튜플을 인자로)\n",
    "    \n",
    "print_arg('hey', 'hello', 'hi')"
   ]
  },
  {
   "cell_type": "code",
   "execution_count": 6,
   "id": "efc51a90",
   "metadata": {},
   "outputs": [
    {
     "name": "stdout",
     "output_type": "stream",
     "text": [
      "obligatory book\n",
      "1 2 3 4\n"
     ]
    }
   ],
   "source": [
    "def print_arg2(name, *args):\n",
    "    print('obligatory', name)\n",
    "    print(*args)\n",
    "    \n",
    "print_arg2('book', 1, 2, 3, 4)"
   ]
  },
  {
   "cell_type": "markdown",
   "id": "a8fcb542",
   "metadata": {},
   "source": [
    "### 외부에서 활용하기\n",
    "- 컬렉션 자료형 언패킹 출력 시\n",
    "- zip()\n",
    "- 키워드 전용 인수 선언\n",
    "    - 별 뒤에 오는 매개변수들은 반드시 키워드 인수로 들어오도록 설정하는 역할"
   ]
  },
  {
   "cell_type": "code",
   "execution_count": 7,
   "id": "84f1c8b3",
   "metadata": {},
   "outputs": [
    {
     "name": "stdout",
     "output_type": "stream",
     "text": [
      "0 1 2 3 4\n"
     ]
    }
   ],
   "source": [
    "nums = list(range(5))\n",
    "print(*nums)"
   ]
  },
  {
   "cell_type": "code",
   "execution_count": 11,
   "id": "4d2f1941",
   "metadata": {},
   "outputs": [],
   "source": [
    "a = [\n",
    "    [1, 2],\n",
    "    [3, 4],\n",
    "    [5, 6]\n",
    "]\n",
    "\n",
    "# 1, 3, 5랑 2, 4, 6 따로 출력하기 (열을 순회하고 싶다)"
   ]
  },
  {
   "cell_type": "code",
   "execution_count": 12,
   "id": "7323eb93",
   "metadata": {},
   "outputs": [
    {
     "name": "stdout",
     "output_type": "stream",
     "text": [
      "[1, 2]\n",
      "[3, 4]\n",
      "[5, 6]\n"
     ]
    }
   ],
   "source": [
    "for row in a:\n",
    "    print(row)"
   ]
  },
  {
   "cell_type": "code",
   "execution_count": 13,
   "id": "d0ffdef7",
   "metadata": {},
   "outputs": [
    {
     "name": "stdout",
     "output_type": "stream",
     "text": [
      "(1, 3, 5)\n",
      "(2, 4, 6)\n"
     ]
    }
   ],
   "source": [
    "for row in zip(*a):\n",
    "    print(row)"
   ]
  },
  {
   "cell_type": "code",
   "execution_count": 14,
   "id": "50ee7213",
   "metadata": {},
   "outputs": [
    {
     "name": "stdout",
     "output_type": "stream",
     "text": [
      "obligatory book\n",
      "1 2 3 4\n",
      "obligatory book\n",
      "(1, 2, 3, 4)\n",
      "obligatory book\n",
      "1 2 3 4\n"
     ]
    }
   ],
   "source": [
    "def print_arg2(name, *args):\n",
    "    print('obligatory', name)\n",
    "    print(*args)\n",
    "    \n",
    "print_arg2('book', 1, 2, 3, 4)\n",
    "nums = (1, 2, 3, 4)\n",
    "x = print_arg2('book', nums)\n",
    "y = print_arg2('book', *nums)"
   ]
  },
  {
   "cell_type": "code",
   "execution_count": 18,
   "id": "7a5ddf93",
   "metadata": {},
   "outputs": [
    {
     "name": "stdout",
     "output_type": "stream",
     "text": [
      "2\n",
      "3\n"
     ]
    }
   ],
   "source": [
    "def print_data(data, *, start, end):  #start, end -> start=0\n",
    "    for value in data[start:end]:\n",
    "        print(value)\n",
    "        \n",
    "print_data(nums, start=1, end=3)"
   ]
  },
  {
   "cell_type": "code",
   "execution_count": 20,
   "id": "3b9c5b82",
   "metadata": {},
   "outputs": [
    {
     "name": "stdout",
     "output_type": "stream",
     "text": [
      "{'wine': 'merlot', 'desser': 'cake'}\n",
      "merlot is sweet\n"
     ]
    }
   ],
   "source": [
    "def print_kargs(**kargs):\n",
    "    print(kargs)\n",
    "    print(kargs['wine'], 'is sweet')\n",
    "    \n",
    "print_kargs(wine='merlot', desser='cake')"
   ]
  },
  {
   "cell_type": "code",
   "execution_count": 21,
   "id": "f98eef48",
   "metadata": {},
   "outputs": [
    {
     "name": "stdout",
     "output_type": "stream",
     "text": [
      "{'wine': 'merlot', 'dessert': 'scone'}\n",
      "merlot is sweet\n",
      "{'wine': 'cabernet', 'dessert': 'scone'}\n",
      "cabernet is sweet\n",
      "{'wine': 'cianze', 'dessert': 'scone'}\n",
      "cianze is sweet\n"
     ]
    }
   ],
   "source": [
    "wine_list = 'merlot cabernet cianze'. split()\n",
    "for wine in wine_list:\n",
    "    print_kargs(wine=wine, dessert='scone')"
   ]
  },
  {
   "cell_type": "code",
   "execution_count": 22,
   "id": "f506a97e",
   "metadata": {},
   "outputs": [
    {
     "name": "stdout",
     "output_type": "stream",
     "text": [
      "15\n",
      "{'first': 1, 'second': 2}\n"
     ]
    }
   ],
   "source": [
    "def print_both(one, two, *args, **kargs):   #위치인수 > args > kargs\n",
    "    print(one + two + sum(args))\n",
    "    print(kargs)\n",
    "    \n",
    "print_both(1,2,3,4,5,first=1, second=2)"
   ]
  },
  {
   "cell_type": "markdown",
   "id": "31af131a",
   "metadata": {},
   "source": [
    "### 딕셔너리 결합할 때 사용할 수 있다 (파이썬 3.5이상)"
   ]
  },
  {
   "cell_type": "code",
   "execution_count": 1,
   "id": "49102762",
   "metadata": {},
   "outputs": [
    {
     "data": {
      "text/plain": [
       "{1: 'a', 2: 'c', 3: 'd'}"
      ]
     },
     "execution_count": 1,
     "metadata": {},
     "output_type": "execute_result"
    }
   ],
   "source": [
    "x = {1:'a',2:'b'}\n",
    "y = {2:'c',3:'d'}\n",
    "{**x,**y}\n",
    "# '2'의 값이 중복됨 > 뒤에 나오는 키의 value값으로 대응됨"
   ]
  },
  {
   "cell_type": "code",
   "execution_count": 2,
   "id": "3a6cedf4",
   "metadata": {},
   "outputs": [
    {
     "data": {
      "text/plain": [
       "{2: 'b', 3: 'd', 1: 'a'}"
      ]
     },
     "execution_count": 2,
     "metadata": {},
     "output_type": "execute_result"
    }
   ],
   "source": [
    "# 2값을 뒤 x에서 가져옴\n",
    "{**y,**x} "
   ]
  },
  {
   "cell_type": "markdown",
   "id": "176e5b9e",
   "metadata": {},
   "source": [
    "### 일급객체\n",
    "- first class object / first class citizen\n",
    "- 함수도 객체다.\n",
    "    - 객체는 인자로 전달 가능\n",
    "    - 객체는 반환값이 될 수 있다.\n",
    "    - 객체는 수정, 할당될 수 있다."
   ]
  },
  {
   "cell_type": "code",
   "execution_count": 3,
   "id": "ed185326",
   "metadata": {},
   "outputs": [
    {
     "name": "stdout",
     "output_type": "stream",
     "text": [
      "43\n",
      "43\n"
     ]
    }
   ],
   "source": [
    "def answer():\n",
    "    print(43)\n",
    "def run_something(func): # 파이썬에서만 가능 => 함수가 객체의 성질을 갖기 때문\n",
    "    func()\n",
    "    \n",
    "run_something(answer)\n",
    "\n",
    "# 둘의 차이는 return과 함수 실행\n",
    "def run_anything(func):\n",
    "    return func\n",
    "\n",
    "run_anything(answer)() # 괄호 > 함수 실행"
   ]
  },
  {
   "cell_type": "code",
   "execution_count": 4,
   "id": "e59370fb",
   "metadata": {},
   "outputs": [
    {
     "data": {
      "text/plain": [
       "<function __main__.answer()>"
      ]
     },
     "execution_count": 4,
     "metadata": {},
     "output_type": "execute_result"
    }
   ],
   "source": [
    "# 괄호가 없는 경우\n",
    "run_anything(answer)"
   ]
  },
  {
   "cell_type": "code",
   "execution_count": 5,
   "id": "6dfa5033",
   "metadata": {},
   "outputs": [
    {
     "data": {
      "text/plain": [
       "15"
      ]
     },
     "execution_count": 5,
     "metadata": {},
     "output_type": "execute_result"
    }
   ],
   "source": [
    "def sum_args(*args):\n",
    "    return sum(args)\n",
    "\n",
    "def run_with_possitional_args(func, *args):\n",
    "    return func(*args)\n",
    "\n",
    "run_with_possitional_args(sum_args,1,2,3,4,5)"
   ]
  },
  {
   "cell_type": "code",
   "execution_count": 6,
   "id": "f68f24db",
   "metadata": {},
   "outputs": [
    {
     "name": "stdout",
     "output_type": "stream",
     "text": [
      "merlot = 15도\n"
     ]
    }
   ],
   "source": [
    "# kargs 사용\n",
    "def print_kargs3(**kargs):\n",
    "    print(kargs.get('wine')[0],'=',kargs.get('wine')[1])\n",
    "\n",
    "def run_with_kargs(func,**kargs):\n",
    "    return func(**kargs)\n",
    "    \n",
    "run_with_kargs(print_kargs3,wine=['merlot','15도'])"
   ]
  },
  {
   "cell_type": "code",
   "execution_count": 7,
   "id": "816b8c1e",
   "metadata": {},
   "outputs": [],
   "source": [
    "# 가변 인자일 때 => 초기화하지 않으면 변수 내용이 변할 수 있음\n",
    "def func(num_list):\n",
    "    # 변할 수 있음을 문서화 할 것, 혹은 다른 방법 찾아볼것\n",
    "    # 다른 방법 > copy하거나 안에서 새로 만듬\n",
    "    sum_num = sum(num_list)\n",
    "    num_list.append(sum_num)\n",
    "    \n",
    "a = [1,3,5]\n",
    "func(a)"
   ]
  },
  {
   "cell_type": "code",
   "execution_count": 9,
   "id": "33f1c964",
   "metadata": {},
   "outputs": [
    {
     "data": {
      "text/plain": [
       "[1, 3, 5, 9]"
      ]
     },
     "execution_count": 9,
     "metadata": {},
     "output_type": "execute_result"
    }
   ],
   "source": [
    "a #a에 쌓임"
   ]
  },
  {
   "cell_type": "code",
   "execution_count": 10,
   "id": "a50b2513",
   "metadata": {},
   "outputs": [
    {
     "data": {
      "text/plain": [
       "[1, 3, 5, 9, 18]"
      ]
     },
     "execution_count": 10,
     "metadata": {},
     "output_type": "execute_result"
    }
   ],
   "source": [
    "func(a)\n",
    "a\n",
    "# 초기화 되지 않고 계속 쌓임"
   ]
  },
  {
   "cell_type": "code",
   "execution_count": 11,
   "id": "3102a06f",
   "metadata": {},
   "outputs": [
    {
     "data": {
      "text/plain": [
       "[1, 3, 5, 9]"
      ]
     },
     "execution_count": 11,
     "metadata": {},
     "output_type": "execute_result"
    }
   ],
   "source": [
    "import copy\n",
    "\n",
    "def func2(num_list):\n",
    "    new_num_list = copy.deepcopy(num_list)\n",
    "    sum_num = sum(new_num_list)\n",
    "    new_num_list.append(sum_num)\n",
    "    return new_num_list\n",
    "    \n",
    "b = [1,3,5]\n",
    "func2(b)    "
   ]
  },
  {
   "cell_type": "code",
   "execution_count": 13,
   "id": "230e6d6e",
   "metadata": {},
   "outputs": [
    {
     "data": {
      "text/plain": [
       "[1, 3, 5]"
      ]
     },
     "execution_count": 13,
     "metadata": {},
     "output_type": "execute_result"
    }
   ],
   "source": [
    "b"
   ]
  },
  {
   "cell_type": "markdown",
   "id": "a85ed3d7",
   "metadata": {},
   "source": [
    "### 익명함수(람다)\n",
    "- lambda\n",
    "- 함수인데 이름이 없음(def, return)\n",
    "- 사용 이유: 단순한 함수를 사용할 때(한줄짜리)\n",
    "- 단, 잦은 사용은 권장하지 않는다 > 직관적이지 않고 재활용이 불가능하기 때문\n",
    "- 문법: lambda x: <x를 요리할 코드>"
   ]
  },
  {
   "cell_type": "code",
   "execution_count": 14,
   "id": "3247e2d5",
   "metadata": {},
   "outputs": [
    {
     "name": "stdout",
     "output_type": "stream",
     "text": [
      "ok\n",
      "ok\n"
     ]
    },
    {
     "data": {
      "text/plain": [
       "'ok'"
      ]
     },
     "execution_count": 14,
     "metadata": {},
     "output_type": "execute_result"
    }
   ],
   "source": [
    "# 함수를 선언해서\n",
    "def f(x):\n",
    "    return x.lower()\n",
    "print(f('OK'))\n",
    "\n",
    "# 특정 이름에 람다를 선언해서\n",
    "f2 = lambda x:x.lower()\n",
    "print(f2('OK'))\n",
    "\n",
    "# 이름 없이 사용 가능\n",
    "(lambda x:x.lower())('OK')"
   ]
  },
  {
   "cell_type": "code",
   "execution_count": 15,
   "id": "433f5383",
   "metadata": {},
   "outputs": [
    {
     "data": {
      "text/plain": [
       "10"
      ]
     },
     "execution_count": 15,
     "metadata": {},
     "output_type": "execute_result"
    }
   ],
   "source": [
    "f3 = lambda x,y : x+y\n",
    "f3(5,5)"
   ]
  },
  {
   "cell_type": "code",
   "execution_count": 16,
   "id": "c70fd689",
   "metadata": {},
   "outputs": [
    {
     "data": {
      "text/plain": [
       "'Abc!'"
      ]
     },
     "execution_count": 16,
     "metadata": {},
     "output_type": "execute_result"
    }
   ],
   "source": [
    "10\n",
    "# Quiz\n",
    "# abc -> Abc!\n",
    "# 방법 1 => 비효율적 방법\n",
    "f4 = lambda x: x[0].upper() + x[1:] + '!'\n",
    "f4('abc')\n",
    "\n",
    "# 방법 2 \n",
    "f5 = lambda x : x.capitalize() + '!'\n",
    "f5('abc')"
   ]
  },
  {
   "cell_type": "code",
   "execution_count": 18,
   "id": "949c90b2",
   "metadata": {},
   "outputs": [
    {
     "data": {
      "text/plain": [
       "[11, 12, 13]"
      ]
     },
     "execution_count": 18,
     "metadata": {},
     "output_type": "execute_result"
    }
   ],
   "source": [
    "# lambda 활용 -> map 함수 활용\n",
    "list(map(lambda x: x + 10, [1, 2, 3]))"
   ]
  }
 ],
 "metadata": {
  "kernelspec": {
   "display_name": "Python 3",
   "language": "python",
   "name": "python3"
  },
  "language_info": {
   "codemirror_mode": {
    "name": "ipython",
    "version": 3
   },
   "file_extension": ".py",
   "mimetype": "text/x-python",
   "name": "python",
   "nbconvert_exporter": "python",
   "pygments_lexer": "ipython3",
   "version": "3.8.8"
  }
 },
 "nbformat": 4,
 "nbformat_minor": 5
}
