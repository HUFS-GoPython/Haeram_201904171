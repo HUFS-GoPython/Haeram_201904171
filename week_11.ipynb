{
 "cells": [
  {
   "cell_type": "markdown",
   "id": "d2368bcc",
   "metadata": {},
   "source": [
    "### 상속 | inheritance\n",
    "- 이전 클래스의 속성, 내용물 추가, 변경해야 할 경우 (다시 쓰고 싶지 않아서?)\n",
    "- 코드 재사용의 유용함\n",
    "- 기준 : vehicle, parent, super, base, 부모클래스\n",
    "- 상속 받는 클래스 : child, sub, derived, 자식클래스\n",
    "- Vehicle <- Car (상속 받음)\n",
    "    - 부모클래스를 자식클래스가 구체화시킴\n",
    "    - Car is-a-Vehicle\n",
    "    - has-a : Notebook has-a-Note"
   ]
  },
  {
   "cell_type": "code",
   "execution_count": 4,
   "id": "b8b3e9e4",
   "metadata": {},
   "outputs": [],
   "source": [
    "class Vehicle:\n",
    "    def __init__(self, speed):\n",
    "        self.speed = speed\n",
    "        \n",
    "    def go(self):\n",
    "        print(f'{self.speed}의 속력으로 달린다.')\n",
    "        \n",
    "\n",
    "# 자식클래스\n",
    "class Car(Vehicle):   #물려받음\n",
    "    pass"
   ]
  },
  {
   "cell_type": "code",
   "execution_count": 5,
   "id": "20f96652",
   "metadata": {},
   "outputs": [],
   "source": [
    "car = Car('15km/h')"
   ]
  },
  {
   "cell_type": "code",
   "execution_count": 6,
   "id": "7d574cba",
   "metadata": {},
   "outputs": [
    {
     "name": "stdout",
     "output_type": "stream",
     "text": [
      "15km/h의 속력으로 달린다.\n"
     ]
    }
   ],
   "source": [
    "car.go()"
   ]
  },
  {
   "cell_type": "markdown",
   "id": "e65fddd8",
   "metadata": {},
   "source": [
    "### 추가, 변경\n",
    "- 속성 (변수)"
   ]
  },
  {
   "cell_type": "code",
   "execution_count": 8,
   "id": "68955c1a",
   "metadata": {},
   "outputs": [
    {
     "data": {
      "text/plain": [
       "'15km/h'"
      ]
     },
     "execution_count": 8,
     "metadata": {},
     "output_type": "execute_result"
    }
   ],
   "source": [
    "car.speed"
   ]
  },
  {
   "cell_type": "code",
   "execution_count": 9,
   "id": "25f51463",
   "metadata": {},
   "outputs": [],
   "source": [
    "class Car(Vehicle):\n",
    "    def __init__(self, speed, brand):\n",
    "        #self.speed = speed (x)\n",
    "        super(). __init__(speed)   #speed는 부모한테 가져옴 #부모에게 접근은 super()\n",
    "        self.brand = brand        #brand는 독자적 속성  #나 자신에게 접근은 self"
   ]
  },
  {
   "cell_type": "code",
   "execution_count": 11,
   "id": "3ce9640f",
   "metadata": {},
   "outputs": [],
   "source": [
    "car2 = Car('14km/h', 'kia')"
   ]
  },
  {
   "cell_type": "code",
   "execution_count": 12,
   "id": "87d343cd",
   "metadata": {},
   "outputs": [
    {
     "data": {
      "text/plain": [
       "'14km/h'"
      ]
     },
     "execution_count": 12,
     "metadata": {},
     "output_type": "execute_result"
    }
   ],
   "source": [
    "car2.speed"
   ]
  },
  {
   "cell_type": "markdown",
   "id": "eb88857d",
   "metadata": {},
   "source": [
    "- 메소드 변경 => 오버라이드 override(), 재정의"
   ]
  },
  {
   "cell_type": "code",
   "execution_count": 13,
   "id": "c8c6b969",
   "metadata": {},
   "outputs": [],
   "source": [
    "class Car(Vehicle):\n",
    "    def __init__(self, speed, brand):\n",
    "        super(). __init__(speed)  \n",
    "        self.brand = brand \n",
    "    \n",
    "    def go(self):   #go사용해서 다시 \n",
    "        print(f'차종은 {self.brand}')"
   ]
  },
  {
   "cell_type": "code",
   "execution_count": 15,
   "id": "50ad8d1c",
   "metadata": {},
   "outputs": [
    {
     "name": "stdout",
     "output_type": "stream",
     "text": [
      "차종은 nissan\n"
     ]
    }
   ],
   "source": [
    "car3 = Car('15km/h', 'nissan')\n",
    "car3.go()  #자식 클래스의 메소드를 타게 됨 (override/메소드의 재정의)"
   ]
  },
  {
   "cell_type": "code",
   "execution_count": 17,
   "id": "8efd65e2",
   "metadata": {},
   "outputs": [],
   "source": [
    "#부모꺼의 go도 타고싶을 때 go를 어떻게 설정해야할까?\n",
    "\n",
    "class Car(Vehicle):\n",
    "    def __init__(self, speed, brand):\n",
    "        super(). __init__(speed)  \n",
    "        self.brand = brand \n",
    "    \n",
    "    def go(self):   \n",
    "        super().go()  #정답은 super() 사용하기\n",
    "        print(f'차종은 {self.brand}')"
   ]
  },
  {
   "cell_type": "code",
   "execution_count": 18,
   "id": "dcb48aa7",
   "metadata": {},
   "outputs": [
    {
     "name": "stdout",
     "output_type": "stream",
     "text": [
      "15km/h의 속력으로 달린다.\n",
      "차종은 nissan\n"
     ]
    }
   ],
   "source": [
    "car3 = Car('15km/h', 'nissan')\n",
    "car3.go()"
   ]
  },
  {
   "cell_type": "markdown",
   "id": "ee7cf6fd",
   "metadata": {},
   "source": [
    "### 실습\n"
   ]
  },
  {
   "cell_type": "code",
   "execution_count": null,
   "id": "45021e33",
   "metadata": {},
   "outputs": [],
   "source": [
    "class Person:\n",
    "    #name\n",
    "    pass\n",
    "\n",
    "class Doctor:\n",
    "    #Dr. name\n",
    "    pass\n",
    "\n",
    "class Male:\n",
    "    #Mr. name\n",
    "    pass\n",
    "\n",
    "class Female:\n",
    "    #Mrs. name\n",
    "    pass\n",
    "\n",
    "\"\"\"\n",
    "Person <- Doctor\n",
    "        <- Female\n",
    "        <- Male\n",
    "\"\"\""
   ]
  },
  {
   "cell_type": "code",
   "execution_count": 28,
   "id": "f633ef92",
   "metadata": {},
   "outputs": [],
   "source": [
    "class Person:\n",
    "    def __init__(self, name):\n",
    "        self.name = name\n",
    "\n",
    "class Doctor:\n",
    "    def __init__(self, name):\n",
    "        super().__init__('Dr. '+ name)  #부모의 이름 가져옴\n",
    "\n",
    "class Male:\n",
    "    #Mr. name\n",
    "    def __init__(self, name):\n",
    "        super().__init__('Mr. '+ name)\n",
    "\n",
    "class Female:\n",
    "    #Mrs. name\n",
    "    def __init__(self, name):\n",
    "        super().__init__('Mrs. '+ name)"
   ]
  },
  {
   "cell_type": "code",
   "execution_count": 29,
   "id": "89fb03a7",
   "metadata": {},
   "outputs": [
    {
     "ename": "TypeError",
     "evalue": "object.__init__() takes exactly one argument (the instance to initialize)",
     "output_type": "error",
     "traceback": [
      "\u001b[1;31m---------------------------------------------------------------------------\u001b[0m",
      "\u001b[1;31mTypeError\u001b[0m                                 Traceback (most recent call last)",
      "\u001b[1;32m<ipython-input-29-66d735273cb6>\u001b[0m in \u001b[0;36m<module>\u001b[1;34m\u001b[0m\n\u001b[1;32m----> 1\u001b[1;33m \u001b[0mDoctor\u001b[0m\u001b[1;33m(\u001b[0m\u001b[1;34m'Son'\u001b[0m\u001b[1;33m)\u001b[0m\u001b[1;33m.\u001b[0m\u001b[0mname\u001b[0m\u001b[1;33m\u001b[0m\u001b[1;33m\u001b[0m\u001b[0m\n\u001b[0m",
      "\u001b[1;32m<ipython-input-28-46fd5bf5a1e2>\u001b[0m in \u001b[0;36m__init__\u001b[1;34m(self, name)\u001b[0m\n\u001b[0;32m      5\u001b[0m \u001b[1;32mclass\u001b[0m \u001b[0mDoctor\u001b[0m\u001b[1;33m:\u001b[0m\u001b[1;33m\u001b[0m\u001b[1;33m\u001b[0m\u001b[0m\n\u001b[0;32m      6\u001b[0m     \u001b[1;32mdef\u001b[0m \u001b[0m__init__\u001b[0m\u001b[1;33m(\u001b[0m\u001b[0mself\u001b[0m\u001b[1;33m,\u001b[0m \u001b[0mname\u001b[0m\u001b[1;33m)\u001b[0m\u001b[1;33m:\u001b[0m\u001b[1;33m\u001b[0m\u001b[1;33m\u001b[0m\u001b[0m\n\u001b[1;32m----> 7\u001b[1;33m         \u001b[0msuper\u001b[0m\u001b[1;33m(\u001b[0m\u001b[1;33m)\u001b[0m\u001b[1;33m.\u001b[0m\u001b[0m__init__\u001b[0m\u001b[1;33m(\u001b[0m\u001b[1;34m'Dr. '\u001b[0m\u001b[1;33m+\u001b[0m \u001b[0mname\u001b[0m\u001b[1;33m)\u001b[0m  \u001b[1;31m#부모의 이름 가져옴\u001b[0m\u001b[1;33m\u001b[0m\u001b[1;33m\u001b[0m\u001b[0m\n\u001b[0m\u001b[0;32m      8\u001b[0m \u001b[1;33m\u001b[0m\u001b[0m\n\u001b[0;32m      9\u001b[0m \u001b[1;32mclass\u001b[0m \u001b[0mMale\u001b[0m\u001b[1;33m:\u001b[0m\u001b[1;33m\u001b[0m\u001b[1;33m\u001b[0m\u001b[0m\n",
      "\u001b[1;31mTypeError\u001b[0m: object.__init__() takes exactly one argument (the instance to initialize)"
     ]
    }
   ],
   "source": [
    "Doctor('Son').name"
   ]
  },
  {
   "cell_type": "markdown",
   "id": "c2fc05a8",
   "metadata": {},
   "source": [
    "### 다중 상속\n"
   ]
  },
  {
   "cell_type": "markdown",
   "id": "2772a96b",
   "metadata": {},
   "source": [
    "- method resolution order(MRD)\n",
    "-  Animal <- Horse\n",
    "        <- Donkey\n",
    "        <- Mule (Donkey > horse)\n",
    "        <- Hinny (horse > donkey)"
   ]
  },
  {
   "cell_type": "code",
   "execution_count": 31,
   "id": "f8e54476",
   "metadata": {},
   "outputs": [],
   "source": [
    "class Animal:\n",
    "    def says(self):\n",
    "        return \"동물이 운다\"\n",
    "\n",
    "#-------------child\n",
    "class Horse(Animal):\n",
    "    def says(self):\n",
    "        return \"히히힝\"\n",
    "  \n",
    "class Donkey(Animal):\n",
    "    def says(self):\n",
    "        return \"히이호\"\n",
    "    \n",
    "#-------------grandchild\n",
    "class Mule(Donkey, Horse):\n",
    "    pass\n",
    "\n",
    "class Hinny(Horse, Donkey):\n",
    "    pass\n"
   ]
  },
  {
   "cell_type": "code",
   "execution_count": 32,
   "id": "7a67bee8",
   "metadata": {},
   "outputs": [
    {
     "data": {
      "text/plain": [
       "'히이호'"
      ]
     },
     "execution_count": 32,
     "metadata": {},
     "output_type": "execute_result"
    }
   ],
   "source": [
    "Mule().says()"
   ]
  },
  {
   "cell_type": "code",
   "execution_count": 33,
   "id": "b40837cb",
   "metadata": {},
   "outputs": [
    {
     "data": {
      "text/plain": [
       "'히히힝'"
      ]
     },
     "execution_count": 33,
     "metadata": {},
     "output_type": "execute_result"
    }
   ],
   "source": [
    "Hinny().says()"
   ]
  },
  {
   "cell_type": "code",
   "execution_count": 36,
   "id": "5946de12",
   "metadata": {},
   "outputs": [
    {
     "data": {
      "text/plain": [
       "[__main__.Mule, __main__.Donkey, __main__.Horse, __main__.Animal, object]"
      ]
     },
     "execution_count": 36,
     "metadata": {},
     "output_type": "execute_result"
    }
   ],
   "source": [
    "Mule.mro()"
   ]
  },
  {
   "cell_type": "markdown",
   "id": "3567cdba",
   "metadata": {},
   "source": [
    "### 다형성, duck typing"
   ]
  },
  {
   "cell_type": "code",
   "execution_count": 38,
   "id": "6e64fffb",
   "metadata": {},
   "outputs": [
    {
     "ename": "NameError",
     "evalue": "name 'aniaml' is not defined",
     "output_type": "error",
     "traceback": [
      "\u001b[1;31m---------------------------------------------------------------------------\u001b[0m",
      "\u001b[1;31mNameError\u001b[0m                                 Traceback (most recent call last)",
      "\u001b[1;32m<ipython-input-38-648a047cf818>\u001b[0m in \u001b[0;36m<module>\u001b[1;34m\u001b[0m\n\u001b[0;32m      1\u001b[0m \u001b[1;32mfor\u001b[0m \u001b[0manimal\u001b[0m \u001b[1;32min\u001b[0m \u001b[1;33m[\u001b[0m\u001b[0mAnimal\u001b[0m\u001b[1;33m(\u001b[0m\u001b[1;33m)\u001b[0m\u001b[1;33m,\u001b[0m \u001b[0mHorse\u001b[0m\u001b[1;33m(\u001b[0m\u001b[1;33m)\u001b[0m\u001b[1;33m,\u001b[0m \u001b[0mMule\u001b[0m\u001b[1;33m(\u001b[0m\u001b[1;33m)\u001b[0m\u001b[1;33m]\u001b[0m\u001b[1;33m:\u001b[0m\u001b[1;33m\u001b[0m\u001b[1;33m\u001b[0m\u001b[0m\n\u001b[1;32m----> 2\u001b[1;33m     \u001b[0mprint\u001b[0m\u001b[1;33m(\u001b[0m\u001b[0maniaml\u001b[0m\u001b[1;33m.\u001b[0m\u001b[0msays\u001b[0m\u001b[1;33m(\u001b[0m\u001b[1;33m)\u001b[0m\u001b[1;33m)\u001b[0m\u001b[1;33m\u001b[0m\u001b[1;33m\u001b[0m\u001b[0m\n\u001b[0m",
      "\u001b[1;31mNameError\u001b[0m: name 'aniaml' is not defined"
     ]
    }
   ],
   "source": [
    "for animal in [Animal(), Horse(), Mule()]:\n",
    "    print(aniaml.says())"
   ]
  },
  {
   "cell_type": "markdown",
   "id": "9f35cfd3",
   "metadata": {},
   "source": [
    "### 메서드\n",
    "- 인스턴스 메서드 :  앞서 배운 메서드들\n",
    "    - 첫 번째 인수가 self인 메서드\n",
    "    - 객체 생성 -> 사용 가능 (self) (붕어빵을 찍고 사용)\n",
    "- 클래스 메서드\n",
    "    - 객체마다 달라지지 않음\n",
    "    - 모든 객체가 공유하는 변수, 메소드  (붕어빵의 반죽을 바꾸는 것)\n",
    "    - 예약어는 cls 사용\n",
    "    - @classmethod 데코레이터 사용\n",
    "    - 객체 생성하지 않고 메서드에 접근 가능 !!\n",
    "- 정적 메서드\n",
    "    - @staticmethod\n",
    "    - 클래스나 인스턴스에 접근하지 않음\n",
    "    - 비슷한 유틸리티라서 클래스 내에 묶어둘 때 사용함\n",
    "    - 객체 생성하지 않고 메서드 접근 가능 !!\n",
    "- 추상 메서드\n",
    "    - @abstractmethod\n",
    "    - "
   ]
  },
  {
   "cell_type": "code",
   "execution_count": 41,
   "id": "55518f08",
   "metadata": {},
   "outputs": [
    {
     "data": {
      "text/plain": [
       "'히히힝'"
      ]
     },
     "execution_count": 41,
     "metadata": {},
     "output_type": "execute_result"
    }
   ],
   "source": [
    "# 인스턴스 메서드\n",
    "h = Hinny()\n",
    "h.says()"
   ]
  },
  {
   "cell_type": "code",
   "execution_count": 42,
   "id": "58b0d8f4",
   "metadata": {},
   "outputs": [],
   "source": [
    "# 클래스 메서드\n",
    "class A:\n",
    "    cnt = 0\n",
    "    \n",
    "    def move(self):\n",
    "        print(cnt)"
   ]
  },
  {
   "cell_type": "code",
   "execution_count": 43,
   "id": "0104cd66",
   "metadata": {},
   "outputs": [
    {
     "ename": "NameError",
     "evalue": "name 'cnt' is not defined",
     "output_type": "error",
     "traceback": [
      "\u001b[1;31m---------------------------------------------------------------------------\u001b[0m",
      "\u001b[1;31mNameError\u001b[0m                                 Traceback (most recent call last)",
      "\u001b[1;32m<ipython-input-43-1bc13aa7784d>\u001b[0m in \u001b[0;36m<module>\u001b[1;34m\u001b[0m\n\u001b[1;32m----> 1\u001b[1;33m \u001b[0mA\u001b[0m\u001b[1;33m(\u001b[0m\u001b[1;33m)\u001b[0m\u001b[1;33m.\u001b[0m\u001b[0mmove\u001b[0m\u001b[1;33m(\u001b[0m\u001b[1;33m)\u001b[0m\u001b[1;33m\u001b[0m\u001b[1;33m\u001b[0m\u001b[0m\n\u001b[0m",
      "\u001b[1;32m<ipython-input-42-84afce9b0932>\u001b[0m in \u001b[0;36mmove\u001b[1;34m(self)\u001b[0m\n\u001b[0;32m      4\u001b[0m \u001b[1;33m\u001b[0m\u001b[0m\n\u001b[0;32m      5\u001b[0m     \u001b[1;32mdef\u001b[0m \u001b[0mmove\u001b[0m\u001b[1;33m(\u001b[0m\u001b[0mself\u001b[0m\u001b[1;33m)\u001b[0m\u001b[1;33m:\u001b[0m\u001b[1;33m\u001b[0m\u001b[1;33m\u001b[0m\u001b[0m\n\u001b[1;32m----> 6\u001b[1;33m         \u001b[0mprint\u001b[0m\u001b[1;33m(\u001b[0m\u001b[0mcnt\u001b[0m\u001b[1;33m)\u001b[0m\u001b[1;33m\u001b[0m\u001b[1;33m\u001b[0m\u001b[0m\n\u001b[0m",
      "\u001b[1;31mNameError\u001b[0m: name 'cnt' is not defined"
     ]
    }
   ],
   "source": [
    "A().move()  #cnt를 모르겟대"
   ]
  },
  {
   "cell_type": "code",
   "execution_count": 45,
   "id": "be80b362",
   "metadata": {},
   "outputs": [
    {
     "name": "stdout",
     "output_type": "stream",
     "text": [
      "0\n"
     ]
    }
   ],
   "source": [
    "class A:\n",
    "    cnt = 0\n",
    "    \n",
    "    def move(cls): #class\n",
    "        print(cls.cnt)\n",
    "        \n",
    "A().move() "
   ]
  },
  {
   "cell_type": "markdown",
   "id": "d1282182",
   "metadata": {},
   "source": [
    "### 클래스 메서드 cls 실습"
   ]
  },
  {
   "cell_type": "code",
   "execution_count": 51,
   "id": "fac8d267",
   "metadata": {},
   "outputs": [],
   "source": [
    "class B:\n",
    "    cnt = 0\n",
    "    \n",
    "    def __init__(self):\n",
    "        B.cnt += 1\n",
    "        \n",
    "    #class method\n",
    "    @classmethod\n",
    "    def count(cls):\n",
    "        # 객체가 생성될 때마다 횟수 증가해서 프린트하기 (cls 이용)\n",
    "        \n",
    "        #cls.cnt += 1\n",
    "        print(cls.cnt)"
   ]
  },
  {
   "cell_type": "code",
   "execution_count": 52,
   "id": "77d84ff5",
   "metadata": {},
   "outputs": [
    {
     "name": "stdout",
     "output_type": "stream",
     "text": [
      "4\n"
     ]
    }
   ],
   "source": [
    "B()\n",
    "B()\n",
    "B()\n",
    "B().count()"
   ]
  },
  {
   "cell_type": "code",
   "execution_count": 54,
   "id": "33954f8e",
   "metadata": {},
   "outputs": [],
   "source": [
    "class Person:\n",
    "    def __init__(self, name, age):\n",
    "        self.name = name\n",
    "        self.age = age\n",
    "        \n",
    "    @classmethod\n",
    "    def tuple_object(cls, args):\n",
    "        # 튜플로 인자를 받아서 객체 생성하는 메서드 만들기\n",
    "        return cls(args[0], args[1])\n",
    "        \n",
    "name = 'goh'\n",
    "age = 24\n",
    "\n",
    "P = Person(name, age)\n",
    "\n",
    "info = name, age\n",
    "P = Person.tuple_object(info)  #객체 생성하지 않고 메서드에 접근했다"
   ]
  },
  {
   "cell_type": "code",
   "execution_count": 56,
   "id": "6b8dfa88",
   "metadata": {},
   "outputs": [
    {
     "data": {
      "text/plain": [
       "'goh'"
      ]
     },
     "execution_count": 56,
     "metadata": {},
     "output_type": "execute_result"
    }
   ],
   "source": [
    "P.name"
   ]
  },
  {
   "cell_type": "code",
   "execution_count": 57,
   "id": "d452c421",
   "metadata": {},
   "outputs": [
    {
     "data": {
      "text/plain": [
       "24"
      ]
     },
     "execution_count": 57,
     "metadata": {},
     "output_type": "execute_result"
    }
   ],
   "source": [
    "P.age"
   ]
  },
  {
   "cell_type": "code",
   "execution_count": 59,
   "id": "30cf33f4",
   "metadata": {},
   "outputs": [
    {
     "data": {
      "text/plain": [
       "'hi'"
      ]
     },
     "execution_count": 59,
     "metadata": {},
     "output_type": "execute_result"
    }
   ],
   "source": [
    "# 정적 메서드\n",
    "class Coyote:\n",
    "    \n",
    "    @staticmethod  #데코레이터\n",
    "    def says():  #self를 쓰지 않음\n",
    "        return 'hi'\n",
    "    \n",
    "Coyote.says()  #Coyote()안해도 돼"
   ]
  },
  {
   "cell_type": "code",
   "execution_count": 63,
   "id": "74de4356",
   "metadata": {},
   "outputs": [],
   "source": [
    "# 추상메서드\n",
    "from abc import *\n",
    "\n",
    "class Vehicle(metaclass = ABCMeta):  #추상클래스 정의\n",
    "    # 변수에 뭘 넣을지 정의하기\n",
    "    speed = '속도'\n",
    "    \n",
    "    # 자식 클래스가 오버라이드 해야 하는 메서드 정의, 구체화는 하지 X\n",
    "    @abstractmethod\n",
    "    def drive(self):\n",
    "        print('교통수단에 관하여')\n",
    "        \n",
    "class Car(Vehicle):\n",
    "    def drive(self):\n",
    "        return super().speed"
   ]
  },
  {
   "cell_type": "markdown",
   "id": "413b06b4",
   "metadata": {},
   "source": [
    "### 매직메소드\n",
    "- __init__ : special method\n",
    "- object class를 재정의하는 것 중 하나임\n",
    "    - __str__\n",
    "    - __repr__"
   ]
  },
  {
   "cell_type": "code",
   "execution_count": 68,
   "id": "339e392d",
   "metadata": {},
   "outputs": [],
   "source": [
    "class Person:\n",
    "    def __init__(self, name):\n",
    "        self.name = name\n",
    "    \n",
    "    def __str__(self):\n",
    "        # 인스턴스를 스트링으로 출력 : 이름, 메모리 주소\n",
    "        # print(인스턴스)했을 때 출력하는 값\n",
    "        return self.name\n",
    "    \n",
    "    def __repr__(self):\n",
    "        # 사용자가 이해할 수 있게 객체를 출력하고 싶을 때 사용\n",
    "        return f'Person{(self.name)}'"
   ]
  },
  {
   "cell_type": "code",
   "execution_count": 69,
   "id": "4da3bb59",
   "metadata": {},
   "outputs": [],
   "source": [
    "p = Person('lee')"
   ]
  },
  {
   "cell_type": "code",
   "execution_count": 70,
   "id": "da718951",
   "metadata": {},
   "outputs": [
    {
     "data": {
      "text/plain": [
       "Personlee"
      ]
     },
     "execution_count": 70,
     "metadata": {},
     "output_type": "execute_result"
    }
   ],
   "source": [
    "p"
   ]
  },
  {
   "cell_type": "code",
   "execution_count": 71,
   "id": "c4f0033d",
   "metadata": {},
   "outputs": [
    {
     "name": "stdout",
     "output_type": "stream",
     "text": [
      "lee\n"
     ]
    }
   ],
   "source": [
    "print(p)"
   ]
  },
  {
   "cell_type": "code",
   "execution_count": 73,
   "id": "afe1fca5",
   "metadata": {},
   "outputs": [
    {
     "data": {
      "text/plain": [
       "'Personlee'"
      ]
     },
     "execution_count": 73,
     "metadata": {},
     "output_type": "execute_result"
    }
   ],
   "source": [
    "repr(p)  #이렇게 해도 똑같이 나옴"
   ]
  },
  {
   "cell_type": "markdown",
   "id": "7abf9acc",
   "metadata": {},
   "source": [
    "### namedtuple, dataclass\n",
    "- 변수만 있는 클래스 설정할 때 더 효율적으로 사용하는 수단\n",
    "- 딕셔너리 키와 같은 기능"
   ]
  },
  {
   "cell_type": "code",
   "execution_count": 74,
   "id": "46b40151",
   "metadata": {},
   "outputs": [],
   "source": [
    "from collections import namedtuple\n",
    "\n",
    "Person = namedtuple(\"Person\", \"name age\")  #(클래스 이름, 필요한 변수)\n",
    "a = Person('kim', '33')"
   ]
  },
  {
   "cell_type": "code",
   "execution_count": 75,
   "id": "28ae6c35",
   "metadata": {},
   "outputs": [
    {
     "data": {
      "text/plain": [
       "'kim'"
      ]
     },
     "execution_count": 75,
     "metadata": {},
     "output_type": "execute_result"
    }
   ],
   "source": [
    "a.name"
   ]
  },
  {
   "cell_type": "code",
   "execution_count": 76,
   "id": "4f89d7b7",
   "metadata": {},
   "outputs": [
    {
     "data": {
      "text/plain": [
       "'33'"
      ]
     },
     "execution_count": 76,
     "metadata": {},
     "output_type": "execute_result"
    }
   ],
   "source": [
    "a.age"
   ]
  },
  {
   "cell_type": "code",
   "execution_count": 81,
   "id": "5e0d43c5",
   "metadata": {},
   "outputs": [
    {
     "data": {
      "text/plain": [
       "Person(name='choi', age='33')"
      ]
     },
     "execution_count": 81,
     "metadata": {},
     "output_type": "execute_result"
    }
   ],
   "source": [
    "b = a._replace(name = 'choi')\n",
    "b"
   ]
  },
  {
   "cell_type": "code",
   "execution_count": 82,
   "id": "f1f2b47f",
   "metadata": {},
   "outputs": [],
   "source": [
    "from dataclasses import dataclass\n",
    "\n",
    "@dataclass\n",
    "class Person:\n",
    "    name : str\n",
    "    age : int"
   ]
  },
  {
   "cell_type": "code",
   "execution_count": 84,
   "id": "f7d3bb86",
   "metadata": {},
   "outputs": [
    {
     "data": {
      "text/plain": [
       "Person(name='Kim', age='33')"
      ]
     },
     "execution_count": 84,
     "metadata": {},
     "output_type": "execute_result"
    }
   ],
   "source": [
    "a = Person('Kim', '33')\n",
    "a"
   ]
  }
 ],
 "metadata": {
  "kernelspec": {
   "display_name": "Python 3",
   "language": "python",
   "name": "python3"
  },
  "language_info": {
   "codemirror_mode": {
    "name": "ipython",
    "version": 3
   },
   "file_extension": ".py",
   "mimetype": "text/x-python",
   "name": "python",
   "nbconvert_exporter": "python",
   "pygments_lexer": "ipython3",
   "version": "3.8.8"
  }
 },
 "nbformat": 4,
 "nbformat_minor": 5
}
